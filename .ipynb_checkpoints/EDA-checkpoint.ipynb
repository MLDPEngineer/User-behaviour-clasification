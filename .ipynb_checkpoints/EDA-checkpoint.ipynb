{
 "cells": [
  {
   "cell_type": "code",
   "execution_count": 1,
   "metadata": {},
   "outputs": [],
   "source": [
    "import numpy as np\n",
    "import pandas as pd\n",
    "from pandas import DataFrame as df\n",
    "import pyarrow.parquet as pq\n",
    "import pyarrow as pa\n",
    "import glob\n",
    "from dask.distributed import Client\n",
    "import dask.dataframe as dd\n",
    "import dask.array as da\n",
    "import dask\n",
    "from collections import Counter\n",
    "from tqdm import tqdm, tqdm_notebook\n",
    "import os\n",
    "import pickle\n",
    "# from numba import jit"
   ]
  },
  {
   "cell_type": "code",
   "execution_count": 2,
   "metadata": {},
   "outputs": [],
   "source": [
    "%matplotlib inline\n",
    "pd.options.display.float_format = '{:,.2f}'.format\n",
    "import matplotlib.pyplot as plt\n",
    "plt.style.use('ggplot')\n",
    "from pylab import rcParams\n",
    "rcParams['figure.figsize'] = 10, 5"
   ]
  },
  {
   "cell_type": "markdown",
   "metadata": {},
   "source": [
    "# <font color='blue'> Загрузка данных"
   ]
  },
  {
   "cell_type": "code",
   "execution_count": 3,
   "metadata": {
    "scrolled": true
   },
   "outputs": [],
   "source": [
    "dataset_dir = r'/home/protus/Documents/DATASETS/ML_Boot_camp/Colaborative filtering'\n",
    "train_col_dirs = glob.glob(dataset_dir+'/train/date*')\n",
    "SERIALIZED_DIR = './serialized'"
   ]
  },
  {
   "cell_type": "code",
   "execution_count": 4,
   "metadata": {},
   "outputs": [],
   "source": [
    "def load_run(func_name, file_name=None, *args):\n",
    "    \"\"\"Функция повторного запуска\n",
    "    Позволяет при первом обращении к указанной функции расчитать и сериализовать её ответ,\n",
    "    и при последующих обращениях загружать уже расчитанные сериализованные значения.\n",
    "    \n",
    "    Удобно при работе с функциями требующими длительного времени выполнения\"\"\"\n",
    "\n",
    "    if file_name:\n",
    "        file = SERIALIZED_DIR+'/'+file_name+'.pcl'\n",
    "    else:\n",
    "        file = SERIALIZED_DIR+'/'+func_name.__name__+'.pcl'\n",
    "        \n",
    "    if os.path.isfile(file):\n",
    "        with open(file, 'rb') as f:\n",
    "            return pickle.load(f)\n",
    "    else:\n",
    "        res = func_name(*args)\n",
    "        with open(file , 'wb') as f:\n",
    "            pickle.dump(res, f)\n",
    "        return res"
   ]
  },
  {
   "cell_type": "code",
   "execution_count": 5,
   "metadata": {
    "scrolled": true
   },
   "outputs": [
    {
     "data": {
      "text/html": [
       "<table style=\"border: 2px solid white;\">\n",
       "<tr>\n",
       "<td style=\"vertical-align: top; border: 0px solid white\">\n",
       "<h3>Client</h3>\n",
       "<ul>\n",
       "  <li><b>Scheduler: </b>inproc://192.168.1.132/20308/1\n",
       "  <li><b>Dashboard: </b><a href='http://localhost:8787/status' target='_blank'>http://localhost:8787/status</a>\n",
       "</ul>\n",
       "</td>\n",
       "<td style=\"vertical-align: top; border: 0px solid white\">\n",
       "<h3>Cluster</h3>\n",
       "<ul>\n",
       "  <li><b>Workers: </b>4</li>\n",
       "  <li><b>Cores: </b>8</li>\n",
       "  <li><b>Memory: </b>80.00 GB</li>\n",
       "</ul>\n",
       "</td>\n",
       "</tr>\n",
       "</table>"
      ],
      "text/plain": [
       "<Client: scheduler='inproc://192.168.1.132/20308/1' processes=4 cores=8>"
      ]
     },
     "execution_count": 5,
     "metadata": {},
     "output_type": "execute_result"
    }
   ],
   "source": [
    "client = Client(n_workers=4, threads_per_worker=2, processes=False, memory_limit='20GB')\n",
    "client"
   ]
  },
  {
   "cell_type": "code",
   "execution_count": 6,
   "metadata": {},
   "outputs": [],
   "source": [
    "get_dd_column = lambda column: dd.read_parquet(dataset_dir+'/train/date*/*.parquet', columns=column, engine='pyarrow')\n",
    "get_dd_column_unique = lambda column: get_dd_column([column])[column].unique().compute()"
   ]
  },
  {
   "cell_type": "code",
   "execution_count": 7,
   "metadata": {},
   "outputs": [
    {
     "name": "stdout",
     "output_type": "stream",
     "text": [
      "Размер датасета 30,787,847, кол-во столбцов 106\n"
     ]
    }
   ],
   "source": [
    "train_dataset = dd.read_parquet(dataset_dir+'/train/date*/*.parquet', engine='pyarrow')\n",
    "\n",
    "def dataset_length_calc(dataset):\n",
    "    return len(dataset)\n",
    "    \n",
    "datset_size = load_run(dataset_length_calc, None, train_dataset)\n",
    "print('Размер датасета {0:,}, кол-во столбцов {1}'.format(datset_size, len(train_dataset.columns)))"
   ]
  },
  {
   "cell_type": "markdown",
   "metadata": {},
   "source": [
    "# <font color='blue'>Анализ типов колонок\n",
    "выделяем колонки содержащие \n",
    "- дату и время, \n",
    "- категориальные\n",
    "- числовые\n",
    "- вложенные коллекции\n",
    "- NaN-ы\n",
    "- ссылки и ключи"
   ]
  },
  {
   "cell_type": "markdown",
   "metadata": {},
   "source": [
    "### Анализ пропущенных значений"
   ]
  },
  {
   "cell_type": "code",
   "execution_count": 8,
   "metadata": {},
   "outputs": [],
   "source": [
    "def nans_map(train_col_dirs, column_count):\n",
    "\n",
    "    def nans_partition_calc(files_dir):\n",
    "        \"\"\"Аггрегация кол-ва NaNов в ячейки\n",
    "        \n",
    "        Значения столбца делятся на непересекающиеся ячейки,\n",
    "        все значения ячейки аггрегируются в одно\n",
    "        \"\"\"\n",
    "        \n",
    "        output_size = 100 #кол-во значений в ячейке\n",
    "        part = pq.read_table(files_dir+'/').to_pandas()\n",
    "        part = part.isna()\n",
    "        cell_size = len(part)//output_size\n",
    "        NaNs = np.zeros((output_size, part.shape[1]))\n",
    "\n",
    "        for i, cell in enumerate(range(cell_size, len(part), cell_size)):\n",
    "            NaNs[i, :] = part.loc[cell-cell_size:cell,:].sum()\n",
    "\n",
    "        return NaNs\n",
    "\n",
    "    NaNs = np.zeros((0, column_count))\n",
    "    #проход по разделам - файлам датасета\n",
    "    for partition in tqdm_notebook(train_col_dirs):\n",
    "        NaNs = np.append(NaNs, nans_partition_calc(partition), axis=0)     \n",
    "\n",
    "    NaNs /= NaNs.max()\n",
    "    \n",
    "    return NaNs\n",
    "\n",
    "\n",
    "def plot_NANs_map(NaNs, size=(10, 20)):\n",
    "    plt.figure(figsize=size)\n",
    "    plt.imshow(NaNs.T, cmap='gray', vmin=0, vmax=1)\n",
    "    _ = plt.title('Карта интенсивности распределения NaN-ов по датасету')\n",
    "\n",
    "    \n",
    "NaNs = load_run(nans_map, None, train_col_dirs, len(train_dataset.columns))"
   ]
  },
  {
   "cell_type": "markdown",
   "metadata": {},
   "source": [
    "### Карта интенсивности распределения NaN-ов по датасету"
   ]
  },
  {
   "cell_type": "code",
   "execution_count": 9,
   "metadata": {},
   "outputs": [
    {
     "data": {
      "image/png": "[encoded data removed]",
      "text/plain": [
       "<Figure size 2160x1440 with 1 Axes>"
      ]
     },
     "metadata": {
      "needs_background": "light"
     },
     "output_type": "display_data"
    }
   ],
   "source": [
    "plot_NANs_map(NaNs, size=(30, 20))"
   ]
  },
  {
   "cell_type": "code",
   "execution_count": 10,
   "metadata": {},
   "outputs": [
    {
     "data": {
      "image/png": "[encoded data removed]",
      "text/plain": [
       "<Figure size 1080x1440 with 1 Axes>"
      ]
     },
     "metadata": {
      "needs_background": "light"
     },
     "output_type": "display_data"
    }
   ],
   "source": [
    "plot_NANs_map(NaNs[:300], size=(15, 20))"
   ]
  },
  {
   "cell_type": "markdown",
   "metadata": {},
   "source": [
    "- видим, что в распределении пропущенных значений есть цикличность, а значит есть полезная структура\n",
    "- в то время как некоторые колонки содержат большое кол-во пропущенных значений\n",
    "- более светлые значения отражают большую интенсивность"
   ]
  },
  {
   "cell_type": "code",
   "execution_count": 11,
   "metadata": {
    "scrolled": true
   },
   "outputs": [
    {
     "data": {
      "text/html": [
       "<div>\n",
       "<style scoped>\n",
       "    .dataframe tbody tr th:only-of-type {\n",
       "        vertical-align: middle;\n",
       "    }\n",
       "\n",
       "    .dataframe tbody tr th {\n",
       "        vertical-align: top;\n",
       "    }\n",
       "\n",
       "    .dataframe thead th {\n",
       "        text-align: right;\n",
       "    }\n",
       "</style>\n",
       "<table border=\"1\" class=\"dataframe\">\n",
       "  <thead>\n",
       "    <tr style=\"text-align: right;\">\n",
       "      <th></th>\n",
       "      <th>0</th>\n",
       "    </tr>\n",
       "  </thead>\n",
       "  <tbody>\n",
       "    <tr>\n",
       "      <th>membership_joinRequestDate</th>\n",
       "      <td>0.98</td>\n",
       "    </tr>\n",
       "    <tr>\n",
       "      <th>auditweights_closed</th>\n",
       "      <td>1.00</td>\n",
       "    </tr>\n",
       "    <tr>\n",
       "      <th>auditweights_feedOwner_RECOMMENDED_GROUP</th>\n",
       "      <td>0.99</td>\n",
       "    </tr>\n",
       "    <tr>\n",
       "      <th>auditweights_friendCommentFeeds</th>\n",
       "      <td>0.99</td>\n",
       "    </tr>\n",
       "    <tr>\n",
       "      <th>auditweights_friendCommenters</th>\n",
       "      <td>0.99</td>\n",
       "    </tr>\n",
       "    <tr>\n",
       "      <th>auditweights_hasDetectedText</th>\n",
       "      <td>1.00</td>\n",
       "    </tr>\n",
       "    <tr>\n",
       "      <th>auditweights_hasText</th>\n",
       "      <td>0.99</td>\n",
       "    </tr>\n",
       "    <tr>\n",
       "      <th>auditweights_notOriginalPhoto</th>\n",
       "      <td>0.97</td>\n",
       "    </tr>\n",
       "    <tr>\n",
       "      <th>auditweights_onlineVideo</th>\n",
       "      <td>1.00</td>\n",
       "    </tr>\n",
       "    <tr>\n",
       "      <th>auditweights_processedVideo</th>\n",
       "      <td>0.98</td>\n",
       "    </tr>\n",
       "    <tr>\n",
       "      <th>auditweights_relationMasks</th>\n",
       "      <td>1.00</td>\n",
       "    </tr>\n",
       "    <tr>\n",
       "      <th>auditweights_source_MOVIE_TOP</th>\n",
       "      <td>1.00</td>\n",
       "    </tr>\n",
       "    <tr>\n",
       "      <th>auditweights_userOwner_CREATE_COMMENT</th>\n",
       "      <td>0.97</td>\n",
       "    </tr>\n",
       "    <tr>\n",
       "      <th>auditweights_userOwner_CREATE_IMAGE</th>\n",
       "      <td>1.00</td>\n",
       "    </tr>\n",
       "    <tr>\n",
       "      <th>auditweights_userOwner_PHOTO_VIEW</th>\n",
       "      <td>1.00</td>\n",
       "    </tr>\n",
       "    <tr>\n",
       "      <th>auditweights_userOwner_UNKNOWN</th>\n",
       "      <td>1.00</td>\n",
       "    </tr>\n",
       "    <tr>\n",
       "      <th>auditweights_userOwner_USER_FEED_REMOVE</th>\n",
       "      <td>0.98</td>\n",
       "    </tr>\n",
       "    <tr>\n",
       "      <th>auditweights_userOwner_USER_PROFILE_VIEW</th>\n",
       "      <td>1.00</td>\n",
       "    </tr>\n",
       "    <tr>\n",
       "      <th>auditweights_userOwner_VIDEO</th>\n",
       "      <td>1.00</td>\n",
       "    </tr>\n",
       "  </tbody>\n",
       "</table>\n",
       "</div>"
      ],
      "text/plain": [
       "                                            0\n",
       "membership_joinRequestDate               0.98\n",
       "auditweights_closed                      1.00\n",
       "auditweights_feedOwner_RECOMMENDED_GROUP 0.99\n",
       "auditweights_friendCommentFeeds          0.99\n",
       "auditweights_friendCommenters            0.99\n",
       "auditweights_hasDetectedText             1.00\n",
       "auditweights_hasText                     0.99\n",
       "auditweights_notOriginalPhoto            0.97\n",
       "auditweights_onlineVideo                 1.00\n",
       "auditweights_processedVideo              0.98\n",
       "auditweights_relationMasks               1.00\n",
       "auditweights_source_MOVIE_TOP            1.00\n",
       "auditweights_userOwner_CREATE_COMMENT    0.97\n",
       "auditweights_userOwner_CREATE_IMAGE      1.00\n",
       "auditweights_userOwner_PHOTO_VIEW        1.00\n",
       "auditweights_userOwner_UNKNOWN           1.00\n",
       "auditweights_userOwner_USER_FEED_REMOVE  0.98\n",
       "auditweights_userOwner_USER_PROFILE_VIEW 1.00\n",
       "auditweights_userOwner_VIDEO             1.00"
      ]
     },
     "execution_count": 11,
     "metadata": {},
     "output_type": "execute_result"
    }
   ],
   "source": [
    "def NaNs_columns_calc(dataset, datset_size):\n",
    "    return df(dataset.isna().sum().compute()) / datset_size\n",
    "\n",
    "NaNs_columns = load_run(NaNs_columns_calc, None, train_dataset, datset_size)\n",
    "# удаляем колонки с кол-вом нанов > 95%\n",
    "NaNs_columns = NaNs_columns.loc[NaNs_columns[0]>0.95]\n",
    "NaNs_columns"
   ]
  },
  {
   "cell_type": "code",
   "execution_count": 12,
   "metadata": {
    "scrolled": true
   },
   "outputs": [
    {
     "name": "stdout",
     "output_type": "stream",
     "text": [
      "Кол-во колонок с пропущенными значениями более 95% - 19\n"
     ]
    }
   ],
   "source": [
    "print('Кол-во колонок с пропущенными значениями более 95% -', len(NaNs_columns))"
   ]
  },
  {
   "cell_type": "markdown",
   "metadata": {},
   "source": [
    "### Разделяем признаки по типам"
   ]
  },
  {
   "cell_type": "code",
   "execution_count": 13,
   "metadata": {},
   "outputs": [
    {
     "data": {
      "text/plain": [
       "Index(['membership_joinDate', 'userOwnerCounters_PHOTO_PIN_UPDATE',\n",
       "       'user_create_date', 'user_birth_date', 'audit_timePassed',\n",
       "       'user_change_datime', 'membership_statusUpdateDate', 'audit_timestamp'],\n",
       "      dtype='object')"
      ]
     },
     "execution_count": 13,
     "metadata": {},
     "output_type": "execute_result"
    }
   ],
   "source": [
    "Not_NaN_columns = list(set(train_dataset.columns) - set(NaNs_columns.T.columns))\n",
    "id_columns = list(train_dataset.columns[train_dataset.columns.str.contains('Id|_ID')])\n",
    "all_columns =  list(set(Not_NaN_columns) - set(id_columns))\n",
    "\n",
    "object_type_columns = list(train_dataset[all_columns].select_dtypes('object').columns)\n",
    "not_object_type_columns = list(set(all_columns) - set(object_type_columns))\n",
    "date_time_columns = train_dataset[all_columns].columns[train_dataset[all_columns].columns.str.lower().str.contains('date|time')]\n",
    "numeric_columns = list(set(not_object_type_columns) - set(date_time_columns))\n",
    "date_time_columns"
   ]
  },
  {
   "cell_type": "code",
   "execution_count": 14,
   "metadata": {},
   "outputs": [],
   "source": [
    "date_time_columns = list(set(date_time_columns)-set(['userOwnerCounters_PHOTO_PIN_UPDATE']))+['metadata_createdAt']\n",
    "numeric_columns = list(set(not_object_type_columns) - set(date_time_columns))"
   ]
  },
  {
   "cell_type": "markdown",
   "metadata": {},
   "source": [
    "[TODO]  feature engeneering user_birth_date: разложить на год, месяц, день, посчитать относительное время"
   ]
  },
  {
   "cell_type": "markdown",
   "metadata": {},
   "source": [
    "### Удаляем бесполезные колонки, т.е. те которые содержат одно и тоже значение"
   ]
  },
  {
   "cell_type": "code",
   "execution_count": 15,
   "metadata": {
    "scrolled": true
   },
   "outputs": [],
   "source": [
    "def get_numeric_column_mean_max():\n",
    "    d = dd.read_parquet(dataset_dir+'/train/date*/*.parquet', engine='pyarrow', columns=numeric_columns).fillna(0)\n",
    "    return dask.compute(d.mean(), d.max())\n",
    "\n",
    "numeric_column_mean, numeric_column_max = load_run(get_numeric_column_mean_max)"
   ]
  },
  {
   "cell_type": "code",
   "execution_count": 16,
   "metadata": {},
   "outputs": [
    {
     "data": {
      "text/plain": [
       "Index(['auditweights_dailyRecency', 'auditweights_ctr_negative',\n",
       "       'auditweights_friendLikes', 'auditweights_userOwner_TEXT',\n",
       "       'auditweights_ctr_high', 'user_is_semiactivated', 'user_is_active',\n",
       "       'metadata_numPhotos', 'auditweights_userOwner_CREATE_LIKE',\n",
       "       'userOwnerCounters_PHOTO_VIEW', 'auditweights_ctr_gender',\n",
       "       'user_region', 'auditweights_numLikes', 'audit_resourceType',\n",
       "       'auditweights_x_ActorsRelations', 'userOwnerCounters_TEXT',\n",
       "       'metadata_numTokens',\n",
       "       'userOwnerCounters_USER_PHOTO_ALBUM_COMMENT_CREATE'],\n",
       "      dtype='object')"
      ]
     },
     "execution_count": 16,
     "metadata": {},
     "output_type": "execute_result"
    }
   ],
   "source": [
    "useless_numeric_columns = train_dataset[numeric_columns].columns[numeric_column_mean == numeric_column_max]\n",
    "useless_numeric_columns"
   ]
  },
  {
   "cell_type": "code",
   "execution_count": 19,
   "metadata": {},
   "outputs": [
    {
     "name": "stdout",
     "output_type": "stream",
     "text": [
      "Кол-во колонок содержащих малоинформативные признаки:  18\n"
     ]
    }
   ],
   "source": [
    "print('Кол-во колонок содержащих малоинформативные признаки: ', len(useless_numeric_columns))"
   ]
  },
  {
   "cell_type": "code",
   "execution_count": 17,
   "metadata": {},
   "outputs": [],
   "source": [
    "numeric_columns = list(set(numeric_columns) - set(useless_numeric_columns))"
   ]
  },
  {
   "cell_type": "markdown",
   "metadata": {},
   "source": [
    "### Проверка вложенных признаков"
   ]
  },
  {
   "cell_type": "code",
   "execution_count": null,
   "metadata": {},
   "outputs": [],
   "source": [
    "temp_ds = pq.read_table(train_col_dirs[0]+'/').to_pandas() #возмем один раздел чтобы не обращаться ко всему датасету\n",
    "columns_with_nested_types = [isinstance(temp_ds[col][10], np.ndarray) for col in object_type_columns]\n",
    "columns_with_nested_types = list(train_dataset[object_type_columns].columns[columns_with_nested_types])\n",
    "columns_with_nested_types"
   ]
  },
  {
   "cell_type": "code",
   "execution_count": null,
   "metadata": {},
   "outputs": [],
   "source": [
    "category_columns = list(set(object_type_columns) - set(columns_with_nested_types))\n",
    "category_columns"
   ]
  },
  {
   "cell_type": "code",
   "execution_count": null,
   "metadata": {},
   "outputs": [],
   "source": [
    "id_columns"
   ]
  },
  {
   "cell_type": "code",
   "execution_count": null,
   "metadata": {},
   "outputs": [],
   "source": [
    "date_time_columns"
   ]
  },
  {
   "cell_type": "code",
   "execution_count": null,
   "metadata": {
    "scrolled": true
   },
   "outputs": [],
   "source": [
    "numeric_columns"
   ]
  },
  {
   "cell_type": "markdown",
   "metadata": {},
   "source": [
    "#### Выводы:\n",
    "- отброшены признаки большим кол-вом пропусков > 95%, это 19 признаков\n",
    "- выделены признаки описания даты и времени\n",
    "- выделены категориальные признаки\n",
    "- выделены числовые признаки\n",
    "- выделены колонки с вложенными коллекциями"
   ]
  },
  {
   "cell_type": "markdown",
   "metadata": {},
   "source": [
    "# <font color='blue'>Описательные статистики"
   ]
  },
  {
   "cell_type": "code",
   "execution_count": null,
   "metadata": {
    "scrolled": false
   },
   "outputs": [],
   "source": [
    "def compute_dataset_statistics(dataset_path, columns):\n",
    "    \n",
    "    d = dd.read_parquet(dataset_path, engine='pyarrow', columns=columns).fillna(0)\n",
    "    \n",
    "    max_val, min_val, mean_val, quantiles = dask.compute(d.max(), \n",
    "                                                        d.min(),\n",
    "                                                        d.mean(),\n",
    "                                                        d.quantile([0.25, 0.5, 0.75]))\n",
    "    \n",
    "    return max_val, min_val, mean_val, quantiles\n",
    "\n",
    "def box_plot(max_val, min_val, mean_val, quantiles):\n",
    "    \n",
    "    stats = []\n",
    "    for i in range(len(max_val)):\n",
    "        item = {}\n",
    "        item[\"label\"] = quantiles.columns[i]\n",
    "        item[\"mean\"] = mean_val[i]\n",
    "        item[\"med\"] = quantiles.iloc[1,i]\n",
    "        item[\"q1\"] = quantiles.iloc[0,i]\n",
    "        item[\"q3\"] = quantiles.iloc[2,i]\n",
    "        item[\"whislo\"] = min_val[i]\n",
    "        item[\"whishi\"] = max_val[i]\n",
    "        item[\"fliers\"] = []\n",
    "\n",
    "        stats.append(item)\n",
    "        \n",
    "    fig, axes = plt.subplots(1, 1, figsize=(30,10))\n",
    "    axes.bxp(stats, showmeans=True, meanline=False, patch_artist=True)\n",
    "    axes.set_title('Распределения числовых признаков по логарифмической шкале')\n",
    "    plt.yscale('log')\n",
    "    p = plt.xticks(rotation=90)"
   ]
  },
  {
   "cell_type": "code",
   "execution_count": null,
   "metadata": {},
   "outputs": [],
   "source": [
    "max_val, min_val, mean_val, quantiles = load_run(compute_dataset_statistics, 'train_dataset_stat',\n",
    "                                                 dataset_dir+'/train/date*/*.parquet', \n",
    "                                                 numeric_columns)\n",
    "\n",
    "box_plot(max_val, min_val, mean_val, quantiles)"
   ]
  },
  {
   "cell_type": "code",
   "execution_count": null,
   "metadata": {},
   "outputs": [],
   "source": [
    "max_val, min_val, mean_val, quantiles = load_run(compute_dataset_statistics, 'test_dataset_stat',\n",
    "                                                 dataset_dir+'/test/*.parquet', \n",
    "                                                 numeric_columns)\n",
    "\n",
    "box_plot(max_val, min_val, mean_val, quantiles)"
   ]
  },
  {
   "cell_type": "code",
   "execution_count": null,
   "metadata": {},
   "outputs": [],
   "source": [
    "find_column_by_name = lambda col_name: train_dataset.columns[train_dataset.columns.str.lower().str.contains(col_name)]"
   ]
  },
  {
   "cell_type": "code",
   "execution_count": null,
   "metadata": {},
   "outputs": [],
   "source": [
    "get_dd_column(find_column_by_name('numshow')).max().compute()"
   ]
  },
  {
   "cell_type": "code",
   "execution_count": null,
   "metadata": {},
   "outputs": [],
   "source": [
    "get_dd_column(find_column_by_name('agems')).max().compute()"
   ]
  },
  {
   "cell_type": "code",
   "execution_count": null,
   "metadata": {},
   "outputs": [],
   "source": [
    "print(\"Кол-во уникальных пользователей {0:,}\\n\\\n",
    "Кол-во уникальных обьектов {1:,}\".format(\\\n",
    "    get_dd_column_unique('instanceId_userId').count(),\n",
    "    get_dd_column_unique('instanceId_objectId').count()))"
   ]
  },
  {
   "cell_type": "markdown",
   "metadata": {},
   "source": [
    "### Статистики по отзывам пользователей"
   ]
  },
  {
   "cell_type": "code",
   "execution_count": null,
   "metadata": {
    "scrolled": true
   },
   "outputs": [],
   "source": [
    "%%time\n",
    "feedback = get_dd_column(['feedback'])\n",
    "feedback_unique = set()\n",
    "temp = feedback['feedback'].map(lambda x: feedback_unique.update(x)).compute()"
   ]
  },
  {
   "cell_type": "code",
   "execution_count": null,
   "metadata": {},
   "outputs": [],
   "source": [
    "feedback_unique"
   ]
  },
  {
   "cell_type": "code",
   "execution_count": null,
   "metadata": {},
   "outputs": [],
   "source": [
    "client.cancel(feedback)\n",
    "client.cancel(temp)"
   ]
  },
  {
   "cell_type": "markdown",
   "metadata": {},
   "source": [
    "#### Распределение типов контента"
   ]
  },
  {
   "cell_type": "code",
   "execution_count": null,
   "metadata": {},
   "outputs": [],
   "source": [
    "%%time\n",
    "#распределение типов контента\n",
    "instanceId_objectTypes = get_dd_column(['instanceId_objectType']).groupby(by='instanceId_objectType')\\\n",
    "    ['instanceId_objectType'].count().compute()\n",
    "print(\"Типы контента и частоты {0}\".format(instanceId_objectTypes.map(\"{:,}\".format)))"
   ]
  },
  {
   "cell_type": "code",
   "execution_count": null,
   "metadata": {},
   "outputs": [],
   "source": [
    "def plot_counter(counter):\n",
    "    plt.bar(counter.keys(), counter.values())\n",
    "    plt.xticks(rotation=45)"
   ]
  },
  {
   "cell_type": "markdown",
   "metadata": {},
   "source": [
    "#### Распределение количества оценок пользователей по контенту Post"
   ]
  },
  {
   "cell_type": "code",
   "execution_count": null,
   "metadata": {
    "scrolled": true
   },
   "outputs": [],
   "source": [
    "%%time\n",
    "#выборка по Post типу контента \n",
    "data = get_dd_column(['instanceId_objectType', 'feedback'])\n",
    "post_feedback = data.loc[data.instanceId_objectType=='Post','feedback'].compute()\n",
    "#распределение кол-ва оценок\n",
    "f = np.vectorize(lambda x: len(x))\n",
    "post_feedback_distr = Counter(f(post_feedback))\n",
    "print(post_feedback_distr)\n",
    "plot_counter(post_feedback_distr)"
   ]
  },
  {
   "cell_type": "markdown",
   "metadata": {},
   "source": [
    "#### Распределение оценок пользователей c одной оценкой по обьекту по контенту Post"
   ]
  },
  {
   "cell_type": "code",
   "execution_count": null,
   "metadata": {},
   "outputs": [],
   "source": [
    "%%time\n",
    "def selected_values(x):\n",
    "    if len(x)==1:\n",
    "        return x[0]\n",
    "    \n",
    "f = np.vectorize(selected_values)\n",
    "one_feedback_distr = Counter(f(post_feedback))\n",
    "print(one_feedback_distr)\n",
    "plot_counter(one_feedback_distr)"
   ]
  },
  {
   "cell_type": "code",
   "execution_count": null,
   "metadata": {},
   "outputs": [],
   "source": [
    "print(\"Доля Liked против остальных (только контент пост с пользователями с 1-ной оценкой) в%\", one_feedback_distr['Liked']/sum(one_feedback_distr.values())*100)"
   ]
  },
  {
   "cell_type": "code",
   "execution_count": null,
   "metadata": {},
   "outputs": [],
   "source": [
    "client.cancel(post_feedback)\n",
    "post_feedback = None"
   ]
  },
  {
   "cell_type": "markdown",
   "metadata": {},
   "source": [
    "#### Распределение кол-ва оценок на одного пользователя?"
   ]
  },
  {
   "cell_type": "code",
   "execution_count": null,
   "metadata": {},
   "outputs": [],
   "source": [
    "user_values = get_dd_column(['instanceId_userId', 'feedback']).\\\n",
    "                groupby('instanceId_userId')['instanceId_userId'].count().compute()\n",
    "#кол-во оценок на одного пользователя\n",
    "user_values = Counter(user_values)\n",
    "user_values.most_common()"
   ]
  },
  {
   "cell_type": "code",
   "execution_count": null,
   "metadata": {},
   "outputs": [],
   "source": [
    "#кол-во оценок на %пользователей\n",
    "user_activity = list(zip(*user_values.most_common()))\n",
    "perc = np.array(user_activity[1])/np.array(user_activity[1]).sum()*100\n",
    "p = plt.plot(perc[:40])"
   ]
  },
  {
   "cell_type": "code",
   "execution_count": null,
   "metadata": {},
   "outputs": [],
   "source": [
    "#Кол-во оценок на категории пользователей\n",
    "user_act = list(user_activity[0])\n",
    "user_act.sort()\n",
    "p = plt.plot(user_act)"
   ]
  },
  {
   "cell_type": "code",
   "execution_count": null,
   "metadata": {},
   "outputs": [],
   "source": [
    "print(\"% пользователей с кол-вом оценок от 1 до 5: \", sum(perc[:4]))"
   ]
  },
  {
   "cell_type": "markdown",
   "metadata": {},
   "source": [
    "- Преобладающее большинство пользователей ставят от 1 до 3-х оценок\n",
    "- Более 50% пользователей ставят от 1 до 5 оценок.\n",
    "- Большинство пользователей - 17% ставят 2 оценки\n",
    "- Есть пользователи с аномальным кол-вом оценок больше 1000 -видимо это боты"
   ]
  },
  {
   "cell_type": "markdown",
   "metadata": {},
   "source": [
    "### Анализ активности пользователей по времени"
   ]
  },
  {
   "cell_type": "code",
   "execution_count": null,
   "metadata": {
    "scrolled": true
   },
   "outputs": [],
   "source": [
    "%%time\n",
    "from datetime import datetime, date\n",
    "\n",
    "def date_time_decomposition():\n",
    "    user_date_time = get_dd_column(['audit_timestamp', 'instanceId_userId'])\n",
    "    user_date_time['audit_timestamp'] = user_date_time['audit_timestamp']\\\n",
    "                    .map(lambda x:  datetime.fromtimestamp(x//1000))\n",
    "    user_date_time['month_day'] = user_date_time['audit_timestamp']\\\n",
    "                    .map(lambda x: str(x.month)+'_'+str(x.day))\n",
    "    user_date_time['hour'] = user_date_time['audit_timestamp']\\\n",
    "                    .map(lambda x: x.hour)\n",
    "    user_date_time['weekday'] = user_date_time['audit_timestamp']\\\n",
    "                    .map(lambda x: x.weekday())\n",
    "    user_date_time = user_date_time.compute()\n",
    "    \n",
    "    return user_date_time\n",
    "\n",
    "user_date_time = load_run(date_time_decomposition)"
   ]
  },
  {
   "cell_type": "code",
   "execution_count": null,
   "metadata": {},
   "outputs": [],
   "source": [
    "month_day = user_date_time.groupby('month_day')['month_day'].count()\n",
    "month_day.plot(kind='bar')"
   ]
  },
  {
   "cell_type": "code",
   "execution_count": null,
   "metadata": {},
   "outputs": [],
   "source": [
    "hours = user_date_time.groupby('hour')['hour'].count()\n",
    "hours.plot(kind='bar')"
   ]
  },
  {
   "cell_type": "code",
   "execution_count": null,
   "metadata": {},
   "outputs": [],
   "source": [
    "weekdays = user_date_time.groupby('weekday')['weekday'].count()\n",
    "weekdays.plot(kind='bar')"
   ]
  },
  {
   "cell_type": "code",
   "execution_count": null,
   "metadata": {},
   "outputs": [],
   "source": [
    "client.cancel(user_date_time)\n",
    "user_date_time = None\n",
    "month_day = None\n",
    "hours = None\n",
    "weekdays = None"
   ]
  },
  {
   "cell_type": "markdown",
   "metadata": {},
   "source": [
    "- каких-то существенных аномальных перекосов в пользовательской активности не выявлено\n",
    "- видны недельные циклы пользовательской активности\n",
    "- ожидалось что в даты близкие к 8 марта и 23 февраля могут быть какие нибудь аномальные активности, но эта гипотеза не подтвердилась"
   ]
  },
  {
   "cell_type": "markdown",
   "metadata": {},
   "source": [
    "# <font color='blue'>Подготовка тренировочного и валидационного датасета"
   ]
  },
  {
   "cell_type": "markdown",
   "metadata": {},
   "source": [
    "## Подготовка обучающего датасета"
   ]
  },
  {
   "cell_type": "markdown",
   "metadata": {},
   "source": [
    "### Семплирование обучающего датасета\n",
    "- Использовать весь датасет (31млн. строк) для обучения не рентабельно, поэтому просемплируем рандомно небольшую выборку размером с 1,5 млн записей"
   ]
  },
  {
   "cell_type": "code",
   "execution_count": null,
   "metadata": {
    "scrolled": true
   },
   "outputs": [],
   "source": [
    "def dataset_random_sampling(dataset_directory, columns, sample_size=1500000):\n",
    "    \"\"\"Семплирование датасета из parquet файлов\n",
    "    Случайная выборка указанного размера из parquet файлов \n",
    "    \"\"\"\n",
    "    print('Семплирование датасета')\n",
    "    sampled_dataset = df(columns=columns)\n",
    "    sample_size = sample_size//len(dataset_directory)\n",
    "\n",
    "    for file in tqdm_notebook(train_col_dirs):\n",
    "        sampled_dataset = pd.concat([sampled_dataset, pq.read_table(file+'/', columns=columns).to_pandas()\\\n",
    "                           .sample(n=sample_size, random_state=10)], ignore_index=True)\n",
    "        \n",
    "    return sampled_dataset"
   ]
  },
  {
   "cell_type": "markdown",
   "metadata": {},
   "source": [
    "### Информация о частоте использования контента в процессе ваимодействия пользователя с ресурсом"
   ]
  },
  {
   "cell_type": "markdown",
   "metadata": {},
   "source": [
    "- В данных содержится информация посещениях пользователя в разное время. \n",
    "- В разные моменты времени кол-во информации о посещенном и оцененном контенте разное. \n",
    "- Поскольку это может сильно влиять на точность модели - то это обстоятельство надо учесть и ввести переменную user_activity."
   ]
  },
  {
   "cell_type": "code",
   "execution_count": null,
   "metadata": {},
   "outputs": [],
   "source": [
    "#добавляем перемнную учета пользовательской активности(кол-ва просмотренных обьектов) на текущий момент \n",
    "def add_user_activity(data):\n",
    "    data['user_activity'] = 1\n",
    "    data['user_activity'] = data.groupby('instanceId_userId')['user_activity'].cumsum()\n",
    "    return data"
   ]
  },
  {
   "cell_type": "markdown",
   "metadata": {},
   "source": [
    "### Разворачиваем вложенные признаки переменной 'metadata_options'"
   ]
  },
  {
   "cell_type": "code",
   "execution_count": null,
   "metadata": {},
   "outputs": [],
   "source": [
    "def nested_collections_encoding(data):\n",
    "    \"\"\"Разворачивание и кодирование вложенных коллекций\n",
    "    - разворачивание: каждое значение вложеннного списка выносим в отдельную колонку\n",
    "    - кодирование: подсчитываем сколько раз каждое значение признака повторялось в данной коллекции\n",
    "    \"\"\"\n",
    "    metadata_dict = [Counter(x) for x in tqdm_notebook(data['metadata_options'])]\n",
    "    data = df(metadata_dict).fillna(0).astype(int)\n",
    "    return data, list(data.columns)"
   ]
  },
  {
   "cell_type": "markdown",
   "metadata": {},
   "source": [
    "### Препроцессинг"
   ]
  },
  {
   "cell_type": "code",
   "execution_count": null,
   "metadata": {},
   "outputs": [],
   "source": [
    "def preprocessing(data):\n",
    "    \"\"\"Препроцессинг данных\n",
    "    - сортируем данные по времени, для корректного учета пользовательской активности\n",
    "    - рассчитываем и добавляем признак кол-ва посещений (счетчик с каждым посещением значение растет)\n",
    "    - разворачивание и кодирование вложенных коллекций\n",
    "    - замена пропущенных значений на 0\n",
    "    \"\"\"\n",
    "    print('Препроцессинг датасета')\n",
    "    #сортируем по времени\n",
    "    data.sort_values(by=['audit_timestamp'], inplace=True)\n",
    "    #добавляем пользовательскую активность\n",
    "    data = add_user_activity(data)\n",
    "    #бинаризация 'metadata_options'\n",
    "    d , num_cols = nested_collections_encoding(data)\n",
    "    num_cols += ['user_activity']\n",
    "    data = pd.concat([data, d], axis=1)\n",
    "    data.drop(['metadata_options'], axis=1,  inplace=True)\n",
    "    data.fillna(0, inplace=True, downcast=False)\n",
    "    ## Проверка\n",
    "    assert data.isna().sum().sum() == 0\n",
    "    \n",
    "    return data, num_cols"
   ]
  },
  {
   "cell_type": "code",
   "execution_count": null,
   "metadata": {
    "scrolled": true
   },
   "outputs": [],
   "source": [
    "columns = numeric_columns + category_columns + date_time_columns + id_columns + columns_with_nested_types\n",
    "train_dataset = dataset_random_sampling(train_col_dirs, columns, sample_size=1500000)\n",
    "train_dataset, meta_cols = preprocessing(train_dataset)\n",
    "category_columns = category_columns + meta_cols\n",
    "columns = numeric_columns + category_columns + date_time_columns + id_columns"
   ]
  },
  {
   "cell_type": "code",
   "execution_count": null,
   "metadata": {},
   "outputs": [],
   "source": [
    "## Рассчитываем таргет переменную, запоняем пропуски\n",
    "target = train_dataset['feedback'].map(lambda x: 1 if 'Liked' in x else 0).values\n",
    "train_dataset.drop(['feedback'], axis=1, inplace=True)"
   ]
  },
  {
   "cell_type": "markdown",
   "metadata": {},
   "source": [
    "### Делим датасет на TRAIN и VALIDATION с балансировкой по классам\n",
    "- в трейне и тесте должно оказаться приблизительно пропорциональное кол-во класса 1 и 0"
   ]
  },
  {
   "cell_type": "code",
   "execution_count": null,
   "metadata": {},
   "outputs": [],
   "source": [
    "p = df(target).plot(kind='hist', subplots=True, sharex=True, sharey=True, title='Соотноешение классов NotLiked/Liked', bins=2, density=1)\n",
    "print(\"% класса Liked \" ,target.sum()/len(target)*100)"
   ]
  },
  {
   "cell_type": "code",
   "execution_count": null,
   "metadata": {},
   "outputs": [],
   "source": [
    "from sklearn.model_selection import train_test_split\n",
    "\n",
    "X_train, X_valid, y_train, y_valid = train_test_split(train_dataset, target, test_size=0.30, random_state=42, stratify=target)\n",
    "\n",
    "X_train.reset_index(inplace=True)\n",
    "X_valid.reset_index(inplace=True)\n",
    "\n",
    "X_train = X_train.drop(['index'], axis=1)\n",
    "X_valid = X_valid.drop(['index'], axis=1)"
   ]
  },
  {
   "cell_type": "markdown",
   "metadata": {},
   "source": [
    "### Сериализуем данные для последующего обучения модели"
   ]
  },
  {
   "cell_type": "code",
   "execution_count": null,
   "metadata": {
    "scrolled": true
   },
   "outputs": [],
   "source": [
    "def pickle_files(data, name):\n",
    "    with open(name+'.pcl', 'wb') as f:\n",
    "        pickle.dump(data, f)\n",
    "        \n",
    "pickle_files((X_train, y_train, numeric_columns, category_columns, date_time_columns, id_columns), 'train_dataset')\n",
    "pickle_files((X_valid, y_valid), 'valid_dataset')\n",
    "\n",
    "#убираем ссылки на обьекты для удаления интерпретатором\n",
    "X_train, y_train, y_valid, train_dataset, target = None, None, None, None, None"
   ]
  },
  {
   "cell_type": "code",
   "execution_count": null,
   "metadata": {},
   "outputs": [],
   "source": [
    "import gc\n",
    "gc.collect()"
   ]
  },
  {
   "cell_type": "markdown",
   "metadata": {},
   "source": [
    "## Подготовка тестового датасета"
   ]
  },
  {
   "cell_type": "code",
   "execution_count": null,
   "metadata": {
    "scrolled": true
   },
   "outputs": [],
   "source": [
    "test_dataset = pq.read_table(dataset_dir+'/test/').to_pandas(use_threads=8)\n",
    "test_dataset.shape"
   ]
  },
  {
   "cell_type": "code",
   "execution_count": null,
   "metadata": {
    "scrolled": true
   },
   "outputs": [],
   "source": [
    "test_dataset, meta_cols = preprocessing(test_dataset)"
   ]
  },
  {
   "cell_type": "code",
   "execution_count": null,
   "metadata": {
    "scrolled": true
   },
   "outputs": [],
   "source": [
    "#непересекающиеся столбцы в 2-х датасетах\n",
    "set(X_valid.columns)^set(test_dataset[columns].columns)"
   ]
  },
  {
   "cell_type": "code",
   "execution_count": null,
   "metadata": {
    "scrolled": true
   },
   "outputs": [],
   "source": [
    "pickle_files(test_dataset, 'test_dataset')"
   ]
  }
 ],
 "metadata": {
  "kernelspec": {
   "display_name": "Python 3",
   "language": "python",
   "name": "python3"
  },
  "language_info": {
   "codemirror_mode": {
    "name": "ipython",
    "version": 3
   },
   "file_extension": ".py",
   "mimetype": "text/x-python",
   "name": "python",
   "nbconvert_exporter": "python",
   "pygments_lexer": "ipython3",
   "version": "3.6.7"
  },
  "toc": {
   "base_numbering": 1,
   "nav_menu": {},
   "number_sections": false,
   "sideBar": false,
   "skip_h1_title": false,
   "title_cell": "Table of Contents",
   "title_sidebar": "Contents",
   "toc_cell": false,
   "toc_position": {},
   "toc_section_display": false,
   "toc_window_display": false
  }
 },
 "nbformat": 4,
 "nbformat_minor": 2
}
