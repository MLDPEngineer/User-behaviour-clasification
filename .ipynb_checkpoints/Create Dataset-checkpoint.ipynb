{
 "cells": [
  {
   "cell_type": "code",
   "execution_count": 1,
   "metadata": {},
   "outputs": [],
   "source": [
    "import numpy as np\n",
    "import pandas as pd\n",
    "from pandas import DataFrame as df\n",
    "import pyarrow.parquet as pq\n",
    "import pyarrow as pa\n",
    "import glob\n",
    "from dask.distributed import Client\n",
    "import dask.dataframe as dd\n",
    "import dask.array as da\n",
    "import dask\n",
    "from collections import Counter\n",
    "from tqdm import tqdm, tqdm_notebook\n",
    "import os\n",
    "import pickle\n",
    "# from numba import jit"
   ]
  },
  {
   "cell_type": "code",
   "execution_count": 2,
   "metadata": {},
   "outputs": [],
   "source": [
    "%matplotlib inline\n",
    "pd.options.display.float_format = '{:,.2f}'.format\n",
    "import matplotlib.pyplot as plt\n",
    "plt.style.use('ggplot')\n",
    "from pylab import rcParams\n",
    "rcParams['figure.figsize'] = 10, 5"
   ]
  },
  {
   "cell_type": "markdown",
   "metadata": {},
   "source": [
    "# <font color='blue'> Загрузка данных"
   ]
  },
  {
   "cell_type": "code",
   "execution_count": 3,
   "metadata": {
    "scrolled": true
   },
   "outputs": [],
   "source": [
    "dataset_dir = r'/home/protus/Documents/DATASETS/ML_Boot_camp/Colaborative filtering'\n",
    "train_col_dirs = glob.glob(dataset_dir+'/train/date*')\n",
    "SERIALIZED_DIR = './serialized'"
   ]
  },
  {
   "cell_type": "code",
   "execution_count": 4,
   "metadata": {},
   "outputs": [],
   "source": [
    "def load_run(func_name, file_name=None, *args):\n",
    "    \"\"\"Функция повторного запуска\n",
    "    Позволяет при первом обращении к указанной функции расчитать и сериализовать её ответ,\n",
    "    и при последующих обращениях загружать уже расчитанные сериализованные значения.\n",
    "    \n",
    "    Удобно при работе с функциями требующими длительного времени выполнения\"\"\"\n",
    "\n",
    "    if file_name:\n",
    "        file = SERIALIZED_DIR+'/'+file_name+'.pcl'\n",
    "    else:\n",
    "        file = SERIALIZED_DIR+'/'+func_name.__name__+'.pcl'\n",
    "        \n",
    "    if os.path.isfile(file):\n",
    "        with open(file, 'rb') as f:\n",
    "            return pickle.load(f)\n",
    "    else:\n",
    "        res = func_name(*args)\n",
    "        with open(file , 'wb') as f:\n",
    "            pickle.dump(res, f)\n",
    "        return res"
   ]
  },
  {
   "cell_type": "code",
   "execution_count": 5,
   "metadata": {
    "scrolled": true
   },
   "outputs": [
    {
     "data": {
      "text/html": [
       "<table style=\"border: 2px solid white;\">\n",
       "<tr>\n",
       "<td style=\"vertical-align: top; border: 0px solid white\">\n",
       "<h3>Client</h3>\n",
       "<ul>\n",
       "  <li><b>Scheduler: </b>inproc://192.168.1.132/11705/1\n",
       "  <li><b>Dashboard: </b><a href='http://localhost:8787/status' target='_blank'>http://localhost:8787/status</a>\n",
       "</ul>\n",
       "</td>\n",
       "<td style=\"vertical-align: top; border: 0px solid white\">\n",
       "<h3>Cluster</h3>\n",
       "<ul>\n",
       "  <li><b>Workers: </b>4</li>\n",
       "  <li><b>Cores: </b>8</li>\n",
       "  <li><b>Memory: </b>80.00 GB</li>\n",
       "</ul>\n",
       "</td>\n",
       "</tr>\n",
       "</table>"
      ],
      "text/plain": [
       "<Client: scheduler='inproc://192.168.1.132/11705/1' processes=4 cores=8>"
      ]
     },
     "execution_count": 5,
     "metadata": {},
     "output_type": "execute_result"
    }
   ],
   "source": [
    "client = Client(n_workers=4, threads_per_worker=2, processes=False, memory_limit='20GB')\n",
    "client"
   ]
  },
  {
   "cell_type": "code",
   "execution_count": 6,
   "metadata": {},
   "outputs": [],
   "source": [
    "get_dd_column = lambda column: dd.read_parquet(dataset_dir+'/train/date*/*.parquet', columns=column, engine='pyarrow')\n",
    "get_dd_column_unique = lambda column: get_dd_column([column])[column].unique().compute()"
   ]
  },
  {
   "cell_type": "code",
   "execution_count": 7,
   "metadata": {},
   "outputs": [
    {
     "name": "stdout",
     "output_type": "stream",
     "text": [
      "Размер датасета 30,787,847, кол-во столбцов 106\n"
     ]
    }
   ],
   "source": [
    "train_dataset = dd.read_parquet(dataset_dir+'/train/date*/*.parquet', engine='pyarrow')\n",
    "\n",
    "def dataset_length_calc(dataset):\n",
    "    return len(dataset)\n",
    "    \n",
    "datset_size = load_run(dataset_length_calc, None, train_dataset)\n",
    "print('Размер датасета {0:,}, кол-во столбцов {1}'.format(datset_size, len(train_dataset.columns)))"
   ]
  },
  {
   "cell_type": "markdown",
   "metadata": {},
   "source": [
    "# <font color='blue'>Анализ типов колонок\n",
    "выделяем колонки содержащие \n",
    "- дату и время, \n",
    "- категориальные\n",
    "- числовые\n",
    "- вложенные коллекции\n",
    "- NaN-ы\n",
    "- ссылки и ключи"
   ]
  },
  {
   "cell_type": "markdown",
   "metadata": {},
   "source": [
    "### Анализ пропущенных значений"
   ]
  },
  {
   "cell_type": "code",
   "execution_count": 8,
   "metadata": {},
   "outputs": [],
   "source": [
    "def nans_map(train_col_dirs, column_count):\n",
    "\n",
    "    def nans_partition_calc(files_dir):\n",
    "        \"\"\"Аггрегация кол-ва NaNов в ячейки\n",
    "        \n",
    "        Значения столбца делятся на непересекающиеся ячейки,\n",
    "        все значения ячейки аггрегируются в одно\n",
    "        \"\"\"\n",
    "        \n",
    "        output_size = 100 #кол-во значений в ячейке\n",
    "        part = pq.read_table(files_dir+'/').to_pandas()\n",
    "        part = part.isna()\n",
    "        cell_size = len(part)//output_size\n",
    "        NaNs = np.zeros((output_size, part.shape[1]))\n",
    "\n",
    "        for i, cell in enumerate(range(cell_size, len(part), cell_size)):\n",
    "            NaNs[i, :] = part.loc[cell-cell_size:cell,:].sum()\n",
    "\n",
    "        return NaNs\n",
    "\n",
    "    NaNs = np.zeros((0, column_count))\n",
    "    #проход по разделам - файлам датасета\n",
    "    for partition in tqdm_notebook(train_col_dirs):\n",
    "        NaNs = np.append(NaNs, nans_partition_calc(partition), axis=0)     \n",
    "\n",
    "    NaNs /= NaNs.max()\n",
    "    \n",
    "    return NaNs\n",
    "\n",
    "\n",
    "def plot_NANs_map(NaNs, size=(10, 20)):\n",
    "    plt.figure(figsize=size)\n",
    "    plt.imshow(NaNs.T, cmap='gray', vmin=0, vmax=1)\n",
    "    _ = plt.title('Карта интенсивности распределения NaN-ов по датасету')\n",
    "\n",
    "    \n",
    "NaNs = load_run(nans_map, None, train_col_dirs, len(train_dataset.columns))"
   ]
  },
  {
   "cell_type": "markdown",
   "metadata": {},
   "source": [
    "### Карта интенсивности распределения NaN-ов по датасету"
   ]
  },
  {
   "cell_type": "code",
   "execution_count": 9,
   "metadata": {},
   "outputs": [
    {
     "data": {
      "image/png": "[encoded data removed]",
      "text/plain": [
       "<Figure size 2160x1440 with 1 Axes>"
      ]
     },
     "metadata": {
      "needs_background": "light"
     },
     "output_type": "display_data"
    }
   ],
   "source": [
    "plot_NANs_map(NaNs, size=(30, 20))"
   ]
  },
  {
   "cell_type": "code",
   "execution_count": 10,
   "metadata": {},
   "outputs": [
    {
     "data": {
      "image/png": "[encoded data removed]",
      "text/plain": [
       "<Figure size 1080x1440 with 1 Axes>"
      ]
     },
     "metadata": {
      "needs_background": "light"
     },
     "output_type": "display_data"
    }
   ],
   "source": [
    "plot_NANs_map(NaNs[:300], size=(15, 20))"
   ]
  },
  {
   "cell_type": "markdown",
   "metadata": {},
   "source": [
    "- видим, что в распределении пропущенных значений есть цикличность, а значит есть полезная структура\n",
    "- в то время как некоторые колонки содержат большое кол-во пропущенных значений\n",
    "- более светлые значения отражают большую интенсивность"
   ]
  },
  {
   "cell_type": "code",
   "execution_count": 11,
   "metadata": {
    "scrolled": true
   },
   "outputs": [
    {
     "data": {
      "text/html": [
       "<div>\n",
       "<style scoped>\n",
       "    .dataframe tbody tr th:only-of-type {\n",
       "        vertical-align: middle;\n",
       "    }\n",
       "\n",
       "    .dataframe tbody tr th {\n",
       "        vertical-align: top;\n",
       "    }\n",
       "\n",
       "    .dataframe thead th {\n",
       "        text-align: right;\n",
       "    }\n",
       "</style>\n",
       "<table border=\"1\" class=\"dataframe\">\n",
       "  <thead>\n",
       "    <tr style=\"text-align: right;\">\n",
       "      <th></th>\n",
       "      <th>0</th>\n",
       "    </tr>\n",
       "  </thead>\n",
       "  <tbody>\n",
       "    <tr>\n",
       "      <th>membership_joinRequestDate</th>\n",
       "      <td>0.98</td>\n",
       "    </tr>\n",
       "    <tr>\n",
       "      <th>auditweights_closed</th>\n",
       "      <td>1.00</td>\n",
       "    </tr>\n",
       "    <tr>\n",
       "      <th>auditweights_feedOwner_RECOMMENDED_GROUP</th>\n",
       "      <td>0.99</td>\n",
       "    </tr>\n",
       "    <tr>\n",
       "      <th>auditweights_friendCommentFeeds</th>\n",
       "      <td>0.99</td>\n",
       "    </tr>\n",
       "    <tr>\n",
       "      <th>auditweights_friendCommenters</th>\n",
       "      <td>0.99</td>\n",
       "    </tr>\n",
       "    <tr>\n",
       "      <th>auditweights_hasDetectedText</th>\n",
       "      <td>1.00</td>\n",
       "    </tr>\n",
       "    <tr>\n",
       "      <th>auditweights_hasText</th>\n",
       "      <td>0.99</td>\n",
       "    </tr>\n",
       "    <tr>\n",
       "      <th>auditweights_notOriginalPhoto</th>\n",
       "      <td>0.97</td>\n",
       "    </tr>\n",
       "    <tr>\n",
       "      <th>auditweights_onlineVideo</th>\n",
       "      <td>1.00</td>\n",
       "    </tr>\n",
       "    <tr>\n",
       "      <th>auditweights_processedVideo</th>\n",
       "      <td>0.98</td>\n",
       "    </tr>\n",
       "    <tr>\n",
       "      <th>auditweights_relationMasks</th>\n",
       "      <td>1.00</td>\n",
       "    </tr>\n",
       "    <tr>\n",
       "      <th>auditweights_source_MOVIE_TOP</th>\n",
       "      <td>1.00</td>\n",
       "    </tr>\n",
       "    <tr>\n",
       "      <th>auditweights_userOwner_CREATE_COMMENT</th>\n",
       "      <td>0.97</td>\n",
       "    </tr>\n",
       "    <tr>\n",
       "      <th>auditweights_userOwner_CREATE_IMAGE</th>\n",
       "      <td>1.00</td>\n",
       "    </tr>\n",
       "    <tr>\n",
       "      <th>auditweights_userOwner_PHOTO_VIEW</th>\n",
       "      <td>1.00</td>\n",
       "    </tr>\n",
       "    <tr>\n",
       "      <th>auditweights_userOwner_UNKNOWN</th>\n",
       "      <td>1.00</td>\n",
       "    </tr>\n",
       "    <tr>\n",
       "      <th>auditweights_userOwner_USER_FEED_REMOVE</th>\n",
       "      <td>0.98</td>\n",
       "    </tr>\n",
       "    <tr>\n",
       "      <th>auditweights_userOwner_USER_PROFILE_VIEW</th>\n",
       "      <td>1.00</td>\n",
       "    </tr>\n",
       "    <tr>\n",
       "      <th>auditweights_userOwner_VIDEO</th>\n",
       "      <td>1.00</td>\n",
       "    </tr>\n",
       "  </tbody>\n",
       "</table>\n",
       "</div>"
      ],
      "text/plain": [
       "                                            0\n",
       "membership_joinRequestDate               0.98\n",
       "auditweights_closed                      1.00\n",
       "auditweights_feedOwner_RECOMMENDED_GROUP 0.99\n",
       "auditweights_friendCommentFeeds          0.99\n",
       "auditweights_friendCommenters            0.99\n",
       "auditweights_hasDetectedText             1.00\n",
       "auditweights_hasText                     0.99\n",
       "auditweights_notOriginalPhoto            0.97\n",
       "auditweights_onlineVideo                 1.00\n",
       "auditweights_processedVideo              0.98\n",
       "auditweights_relationMasks               1.00\n",
       "auditweights_source_MOVIE_TOP            1.00\n",
       "auditweights_userOwner_CREATE_COMMENT    0.97\n",
       "auditweights_userOwner_CREATE_IMAGE      1.00\n",
       "auditweights_userOwner_PHOTO_VIEW        1.00\n",
       "auditweights_userOwner_UNKNOWN           1.00\n",
       "auditweights_userOwner_USER_FEED_REMOVE  0.98\n",
       "auditweights_userOwner_USER_PROFILE_VIEW 1.00\n",
       "auditweights_userOwner_VIDEO             1.00"
      ]
     },
     "execution_count": 11,
     "metadata": {},
     "output_type": "execute_result"
    }
   ],
   "source": [
    "def NaNs_columns_calc(dataset, datset_size):\n",
    "    return df(dataset.isna().sum().compute()) / datset_size\n",
    "\n",
    "NaNs_columns = load_run(NaNs_columns_calc, None, train_dataset, datset_size)\n",
    "# удаляем колонки с кол-вом нанов > 95%\n",
    "NaNs_columns = NaNs_columns.loc[NaNs_columns[0]>0.95]\n",
    "NaNs_columns"
   ]
  },
  {
   "cell_type": "code",
   "execution_count": 12,
   "metadata": {
    "scrolled": true
   },
   "outputs": [
    {
     "name": "stdout",
     "output_type": "stream",
     "text": [
      "Кол-во колонок с пропущенными значениями более 95% - 19\n"
     ]
    }
   ],
   "source": [
    "print('Кол-во колонок с пропущенными значениями более 95% -', len(NaNs_columns))"
   ]
  },
  {
   "cell_type": "markdown",
   "metadata": {},
   "source": [
    "### Разделяем признаки по типам"
   ]
  },
  {
   "cell_type": "code",
   "execution_count": 13,
   "metadata": {},
   "outputs": [
    {
     "data": {
      "text/plain": [
       "Index(['audit_timestamp', 'user_create_date', 'audit_timePassed',\n",
       "       'user_birth_date', 'user_change_datime',\n",
       "       'userOwnerCounters_PHOTO_PIN_UPDATE', 'membership_joinDate',\n",
       "       'membership_statusUpdateDate'],\n",
       "      dtype='object')"
      ]
     },
     "execution_count": 13,
     "metadata": {},
     "output_type": "execute_result"
    }
   ],
   "source": [
    "Not_NaN_columns = list(set(train_dataset.columns) - set(NaNs_columns.T.columns))\n",
    "id_columns = list(train_dataset.columns[train_dataset.columns.str.contains('Id|_ID')])\n",
    "all_columns =  list(set(Not_NaN_columns) - set(id_columns))\n",
    "\n",
    "object_type_columns = list(train_dataset[all_columns].select_dtypes('object').columns)\n",
    "not_object_type_columns = list(set(all_columns) - set(object_type_columns))\n",
    "date_time_columns = train_dataset[all_columns].columns[train_dataset[all_columns].columns.str.lower().str.contains('date|time')]\n",
    "numeric_columns = list(set(not_object_type_columns) - set(date_time_columns))\n",
    "date_time_columns"
   ]
  },
  {
   "cell_type": "code",
   "execution_count": 14,
   "metadata": {},
   "outputs": [],
   "source": [
    "date_time_columns = list(set(date_time_columns)-set(['userOwnerCounters_PHOTO_PIN_UPDATE']))+['metadata_createdAt']\n",
    "numeric_columns = list(set(not_object_type_columns) - set(date_time_columns))"
   ]
  },
  {
   "cell_type": "markdown",
   "metadata": {},
   "source": [
    "[TODO]  feature engeneering user_birth_date: разложить на год, месяц, день, посчитать относительное время"
   ]
  },
  {
   "cell_type": "markdown",
   "metadata": {},
   "source": [
    "### Удаляем бесполезные колонки, т.е. те которые содержат одно и тоже значение"
   ]
  },
  {
   "cell_type": "code",
   "execution_count": 15,
   "metadata": {
    "scrolled": true
   },
   "outputs": [],
   "source": [
    "def get_numeric_column_mean_max():\n",
    "    d = dd.read_parquet(dataset_dir+'/train/date*/*.parquet', engine='pyarrow', columns=numeric_columns).fillna(0)\n",
    "    return dask.compute(d.mean(), d.max())\n",
    "\n",
    "numeric_column_mean, numeric_column_max = load_run(get_numeric_column_mean_max)"
   ]
  },
  {
   "cell_type": "code",
   "execution_count": 16,
   "metadata": {},
   "outputs": [
    {
     "data": {
      "text/plain": [
       "Index(['auditweights_likersSvd_hyper', 'userOwnerCounters_VOTE_POLL',\n",
       "       'userOwnerCounters_VIDEO', 'user_status',\n",
       "       'userOwnerCounters_COMMENT_INTERNAL_LIKE',\n",
       "       'userOwnerCounters_PHOTO_PIN_BATCH_CREATE',\n",
       "       'userOwnerCounters_PHOTO_VIEW', 'auditweights_ctr_negative',\n",
       "       'auditweights_dailyRecency', 'user_is_semiactivated',\n",
       "       'auditweights_friendLikes', 'userOwnerCounters_USER_FEED_REMOVE',\n",
       "       'user_gender', 'userOwnerCounters_USER_SEND_MESSAGE',\n",
       "       'userOwnerCounters_PHOTO_COMMENT_CREATE', 'audit_pos',\n",
       "       'auditweights_x_ActorsRelations', 'metadata_numVideos'],\n",
       "      dtype='object')"
      ]
     },
     "execution_count": 16,
     "metadata": {},
     "output_type": "execute_result"
    }
   ],
   "source": [
    "useless_numeric_columns = train_dataset[numeric_columns].columns[numeric_column_mean == numeric_column_max]\n",
    "useless_numeric_columns"
   ]
  },
  {
   "cell_type": "code",
   "execution_count": 17,
   "metadata": {},
   "outputs": [],
   "source": [
    "numeric_columns = list(set(numeric_columns) - set(useless_numeric_columns))"
   ]
  },
  {
   "cell_type": "markdown",
   "metadata": {},
   "source": [
    "### Проверка вложенных признаков"
   ]
  },
  {
   "cell_type": "code",
   "execution_count": 18,
   "metadata": {},
   "outputs": [
    {
     "data": {
      "text/plain": [
       "Index(['metadata_options', 'feedback'], dtype='object')"
      ]
     },
     "execution_count": 18,
     "metadata": {},
     "output_type": "execute_result"
    }
   ],
   "source": [
    "temp_ds = pq.read_table(train_col_dirs[0]+'/').to_pandas() #возмем один раздел чтобы не обращаться ко всему датасету\n",
    "columns_with_nested_types = [isinstance(temp_ds[col][10], np.ndarray) for col in object_type_columns]\n",
    "columns_with_nested_types = train_dataset[object_type_columns].columns[columns_with_nested_types]\n",
    "columns_with_nested_types"
   ]
  },
  {
   "cell_type": "code",
   "execution_count": 19,
   "metadata": {},
   "outputs": [
    {
     "data": {
      "text/plain": [
       "['membership_status',\n",
       " 'metadata_ownerType',\n",
       " 'audit_clientType',\n",
       " 'metadata_platform']"
      ]
     },
     "execution_count": 19,
     "metadata": {},
     "output_type": "execute_result"
    }
   ],
   "source": [
    "category_columns = list(set(object_type_columns) - set(columns_with_nested_types))\n",
    "category_columns"
   ]
  },
  {
   "cell_type": "code",
   "execution_count": 20,
   "metadata": {},
   "outputs": [
    {
     "data": {
      "text/plain": [
       "['instanceId_userId',\n",
       " 'instanceId_objectType',\n",
       " 'instanceId_objectId',\n",
       " 'metadata_ownerId',\n",
       " 'metadata_authorId',\n",
       " 'metadata_applicationId',\n",
       " 'user_ID_country',\n",
       " 'user_ID_Location',\n",
       " 'ImageId']"
      ]
     },
     "execution_count": 20,
     "metadata": {},
     "output_type": "execute_result"
    }
   ],
   "source": [
    "id_columns"
   ]
  },
  {
   "cell_type": "code",
   "execution_count": 21,
   "metadata": {},
   "outputs": [
    {
     "data": {
      "text/plain": [
       "['user_change_datime',\n",
       " 'audit_timePassed',\n",
       " 'user_birth_date',\n",
       " 'membership_joinDate',\n",
       " 'audit_timestamp',\n",
       " 'membership_statusUpdateDate',\n",
       " 'user_create_date',\n",
       " 'metadata_createdAt']"
      ]
     },
     "execution_count": 21,
     "metadata": {},
     "output_type": "execute_result"
    }
   ],
   "source": [
    "date_time_columns"
   ]
  },
  {
   "cell_type": "code",
   "execution_count": 22,
   "metadata": {
    "scrolled": true
   },
   "outputs": [
    {
     "data": {
      "text/plain": [
       "['userOwnerCounters_CREATE_MOVIE',\n",
       " 'userOwnerCounters_USER_DELETE_MESSAGE',\n",
       " 'user_is_activated',\n",
       " 'metadata_numPhotos',\n",
       " 'metadata_numSymbols',\n",
       " 'userOwnerCounters_USER_STATUS_COMMENT_CREATE',\n",
       " 'userOwnerCounters_USER_PRESENT_SEND',\n",
       " 'auditweights_likersFeedStats_hyper',\n",
       " 'user_is_abused',\n",
       " 'userOwnerCounters_USER_PHOTO_ALBUM_COMMENT_CREATE',\n",
       " 'userOwnerCounters_USER_INTERNAL_UNLIKE',\n",
       " 'userOwnerCounters_USER_PROFILE_VIEW',\n",
       " 'user_is_active',\n",
       " 'userOwnerCounters_USER_INTERNAL_LIKE',\n",
       " 'metadata_totalVideoLength',\n",
       " 'auditweights_isRandom',\n",
       " 'userOwnerCounters_TEXT',\n",
       " 'user_region',\n",
       " 'userOwnerCounters_CREATE_LIKE',\n",
       " 'auditweights_userOwner_TEXT',\n",
       " 'metadata_numTokens',\n",
       " 'auditweights_userOwner_CREATE_LIKE',\n",
       " 'metadata_numCompanions',\n",
       " 'user_is_deleted',\n",
       " 'auditweights_feedStats',\n",
       " 'userOwnerCounters_MOVIE_COMMENT_CREATE',\n",
       " 'userOwnerCounters_PHOTO_PIN_UPDATE',\n",
       " 'auditweights_numShows',\n",
       " 'auditweights_userOwner_IMAGE',\n",
       " 'userOwnerCounters_UNKNOWN',\n",
       " 'userOwnerCounters_CREATE_IMAGE',\n",
       " 'audit_resourceType',\n",
       " 'userOwnerCounters_CREATE_COMMENT',\n",
       " 'metadata_numPolls',\n",
       " 'userOwnerCounters_CREATE_TOPIC',\n",
       " 'auditweights_ageMs',\n",
       " 'auditweights_friendLikes_actors',\n",
       " 'userOwnerCounters_IMAGE',\n",
       " 'userOwnerCounters_USER_FORUM_MESSAGE_CREATE',\n",
       " 'auditweights_ctr_high',\n",
       " 'auditweights_ctr_gender',\n",
       " 'auditweights_svd',\n",
       " 'auditweights_numDislikes',\n",
       " 'auditweights_numLikes',\n",
       " 'auditweights_userAge',\n",
       " 'userOwnerCounters_PHOTO_MARK_CREATE']"
      ]
     },
     "execution_count": 22,
     "metadata": {},
     "output_type": "execute_result"
    }
   ],
   "source": [
    "numeric_columns"
   ]
  },
  {
   "cell_type": "markdown",
   "metadata": {},
   "source": [
    "#### Выводы:\n",
    "- отброшены признаки большим кол-вом пропусков > 95%, это 19 признаков\n",
    "- выделены признаки описания даты и времени\n",
    "- выделены категориальные признаки\n",
    "- выделены числовые признаки\n",
    "- выделены колонки с вложенными коллекциями"
   ]
  },
  {
   "cell_type": "markdown",
   "metadata": {},
   "source": [
    "# <font color='blue'>Описательные статистики"
   ]
  },
  {
   "cell_type": "code",
   "execution_count": 23,
   "metadata": {
    "scrolled": false
   },
   "outputs": [],
   "source": [
    "def compute_dataset_statistics(dataset_path, columns):\n",
    "    \n",
    "    d = dd.read_parquet(dataset_path, engine='pyarrow', columns=columns).fillna(0)\n",
    "    \n",
    "    max_val, min_val, mean_val, quantiles = dask.compute(d.max(), \n",
    "                                                        d.min(),\n",
    "                                                        d.mean(),\n",
    "                                                        d.quantile([0.25, 0.5, 0.75]))\n",
    "    \n",
    "    return max_val, min_val, mean_val, quantiles\n",
    "\n",
    "def box_plot(max_val, min_val, mean_val, quantiles):\n",
    "    \n",
    "    stats = []\n",
    "    for i in range(len(max_val)):\n",
    "        item = {}\n",
    "        item[\"label\"] = quantiles.columns[i]\n",
    "        item[\"mean\"] = mean_val[i]\n",
    "        item[\"med\"] = quantiles.iloc[1,i]\n",
    "        item[\"q1\"] = quantiles.iloc[0,i]\n",
    "        item[\"q3\"] = quantiles.iloc[2,i]\n",
    "        item[\"whislo\"] = min_val[i]\n",
    "        item[\"whishi\"] = max_val[i]\n",
    "        item[\"fliers\"] = []\n",
    "\n",
    "        stats.append(item)\n",
    "        \n",
    "    fig, axes = plt.subplots(1, 1, figsize=(30,10))\n",
    "    axes.bxp(stats, showmeans=True, meanline=False, patch_artist=True)\n",
    "    axes.set_title('Распределения числовых признаков по логарифмической шкале')\n",
    "    plt.yscale('log')\n",
    "    p = plt.xticks(rotation=90)"
   ]
  },
  {
   "cell_type": "code",
   "execution_count": 24,
   "metadata": {},
   "outputs": [
    {
     "data": {
      "image/png": "[encoded data removed]",
      "text/plain": [
       "<Figure size 2160x720 with 1 Axes>"
      ]
     },
     "metadata": {
      "needs_background": "light"
     },
     "output_type": "display_data"
    }
   ],
   "source": [
    "max_val, min_val, mean_val, quantiles = load_run(compute_dataset_statistics, 'train_dataset_stat',\n",
    "                                                 dataset_dir+'/train/date*/*.parquet', \n",
    "                                                 numeric_columns)\n",
    "\n",
    "box_plot(max_val, min_val, mean_val, quantiles)"
   ]
  },
  {
   "cell_type": "code",
   "execution_count": 25,
   "metadata": {},
   "outputs": [
    {
     "data": {
      "image/png": "[encoded data removed]",
      "text/plain": [
       "<Figure size 2160x720 with 1 Axes>"
      ]
     },
     "metadata": {
      "needs_background": "light"
     },
     "output_type": "display_data"
    }
   ],
   "source": [
    "max_val, min_val, mean_val, quantiles = load_run(compute_dataset_statistics, 'test_dataset_stat',\n",
    "                                                 dataset_dir+'/test/*.parquet', \n",
    "                                                 numeric_columns)\n",
    "\n",
    "box_plot(max_val, min_val, mean_val, quantiles)"
   ]
  },
  {
   "cell_type": "code",
   "execution_count": 26,
   "metadata": {},
   "outputs": [],
   "source": [
    "find_column_by_name = lambda col_name: train_dataset.columns[train_dataset.columns.str.lower().str.contains(col_name)]"
   ]
  },
  {
   "cell_type": "code",
   "execution_count": 27,
   "metadata": {},
   "outputs": [
    {
     "data": {
      "text/plain": [
       "auditweights_numShows   2,541,907,350,000.00\n",
       "dtype: float64"
      ]
     },
     "execution_count": 27,
     "metadata": {},
     "output_type": "execute_result"
    }
   ],
   "source": [
    "get_dd_column(find_column_by_name('numshow')).max().compute()"
   ]
  },
  {
   "cell_type": "code",
   "execution_count": 28,
   "metadata": {},
   "outputs": [
    {
     "data": {
      "text/plain": [
       "auditweights_ageMs   133,350,982,000.00\n",
       "dtype: float64"
      ]
     },
     "execution_count": 28,
     "metadata": {},
     "output_type": "execute_result"
    }
   ],
   "source": [
    "get_dd_column(find_column_by_name('agems')).max().compute()"
   ]
  },
  {
   "cell_type": "code",
   "execution_count": 29,
   "metadata": {},
   "outputs": [
    {
     "name": "stdout",
     "output_type": "stream",
     "text": [
      "Кол-во уникальных пользователей 3,842,244\n",
      "Кол-во уникальных обьектов 6,323,483\n"
     ]
    }
   ],
   "source": [
    "print(\"Кол-во уникальных пользователей {0:,}\\n\\\n",
    "Кол-во уникальных обьектов {1:,}\".format(\\\n",
    "    get_dd_column_unique('instanceId_userId').count(),\n",
    "    get_dd_column_unique('instanceId_objectId').count()))"
   ]
  },
  {
   "cell_type": "markdown",
   "metadata": {},
   "source": [
    "### Статистики по отзывам пользователей"
   ]
  },
  {
   "cell_type": "code",
   "execution_count": 30,
   "metadata": {
    "scrolled": true
   },
   "outputs": [
    {
     "name": "stdout",
     "output_type": "stream",
     "text": [
      "CPU times: user 1min 18s, sys: 3.2 s, total: 1min 21s\n",
      "Wall time: 1min 13s\n"
     ]
    }
   ],
   "source": [
    "%%time\n",
    "#CALC ITEMS EVALUATIONS STATISTICS\n",
    "feedback = get_dd_column(['feedback'])\n",
    "feedback_unique = set()\n",
    "temp = feedback['feedback'].map(lambda x: feedback_unique.update(x)).compute()"
   ]
  },
  {
   "cell_type": "code",
   "execution_count": 31,
   "metadata": {},
   "outputs": [
    {
     "data": {
      "text/plain": [
       "{'Clicked',\n",
       " 'Commented',\n",
       " 'Complaint',\n",
       " 'Disliked',\n",
       " 'Ignored',\n",
       " 'Liked',\n",
       " 'ReShared',\n",
       " 'Unliked',\n",
       " 'Viewed',\n",
       " 'f',\n",
       " 'o'}"
      ]
     },
     "execution_count": 31,
     "metadata": {},
     "output_type": "execute_result"
    }
   ],
   "source": [
    "feedback_unique"
   ]
  },
  {
   "cell_type": "code",
   "execution_count": 32,
   "metadata": {},
   "outputs": [],
   "source": [
    "client.cancel(feedback)\n",
    "client.cancel(temp)"
   ]
  },
  {
   "cell_type": "markdown",
   "metadata": {},
   "source": [
    "#### Распределение типов контента"
   ]
  },
  {
   "cell_type": "code",
   "execution_count": 33,
   "metadata": {},
   "outputs": [
    {
     "name": "stdout",
     "output_type": "stream",
     "text": [
      "Типы контента и частоты instanceId_objectType\n",
      "Photo     1,411,216\n",
      "Post     28,601,793\n",
      "Video       774,838\n",
      "Name: instanceId_objectType, dtype: object\n",
      "CPU times: user 17.9 s, sys: 1.41 s, total: 19.4 s\n",
      "Wall time: 15 s\n"
     ]
    }
   ],
   "source": [
    "%%time\n",
    "#распределение типов контента\n",
    "instanceId_objectTypes = get_dd_column(['instanceId_objectType']).groupby(by='instanceId_objectType')\\\n",
    "    ['instanceId_objectType'].count().compute()\n",
    "print(\"Типы контента и частоты {0}\".format(instanceId_objectTypes.map(\"{:,}\".format)))"
   ]
  },
  {
   "cell_type": "code",
   "execution_count": 34,
   "metadata": {},
   "outputs": [],
   "source": [
    "def plot_counter(counter):\n",
    "    plt.bar(counter.keys(), counter.values())\n",
    "    plt.xticks(rotation=45)"
   ]
  },
  {
   "cell_type": "markdown",
   "metadata": {},
   "source": [
    "#### Распределение количества оценок пользователей по контенту Post"
   ]
  },
  {
   "cell_type": "code",
   "execution_count": 35,
   "metadata": {
    "scrolled": true
   },
   "outputs": [
    {
     "name": "stdout",
     "output_type": "stream",
     "text": [
      "Counter({1: 26535247, 2: 1753288, 3: 294114, 4: 18333, 5: 797, 6: 13, 7: 1})\n",
      "CPU times: user 49.8 s, sys: 4.01 s, total: 53.8 s\n",
      "Wall time: 46.3 s\n"
     ]
    },
    {
     "data": {
      "image/png": "[encoded data removed]",
      "text/plain": [
       "<Figure size 432x288 with 1 Axes>"
      ]
     },
     "metadata": {
      "needs_background": "light"
     },
     "output_type": "display_data"
    }
   ],
   "source": [
    "%%time\n",
    "#выборка по Post типу контента \n",
    "data = get_dd_column(['instanceId_objectType', 'feedback'])\n",
    "post_feedback = data.loc[data.instanceId_objectType=='Post','feedback'].compute()\n",
    "#распределение кол-ва оценок\n",
    "f = np.vectorize(lambda x: len(x))\n",
    "post_feedback_distr = Counter(f(post_feedback))\n",
    "print(post_feedback_distr)\n",
    "plot_counter(post_feedback_distr)"
   ]
  },
  {
   "cell_type": "markdown",
   "metadata": {},
   "source": [
    "#### Распределение оценок пользователей c одной оценкой по обьекту по контенту Post"
   ]
  },
  {
   "cell_type": "code",
   "execution_count": 36,
   "metadata": {},
   "outputs": [
    {
     "name": "stdout",
     "output_type": "stream",
     "text": [
      "Counter({'Ignored': 19165862, 'Liked': 4338642, 'None': 2066546, 'Clicked': 1936246, 'Disliked': 982308, 'ReShared': 86724, 'Commented': 25035, 'Unliked': 242, 'Complaint': 188})\n",
      "CPU times: user 20 s, sys: 523 ms, total: 20.5 s\n",
      "Wall time: 20.2 s\n"
     ]
    },
    {
     "data": {
      "image/png": "[encoded data removed]",
      "text/plain": [
       "<Figure size 432x288 with 1 Axes>"
      ]
     },
     "metadata": {
      "needs_background": "light"
     },
     "output_type": "display_data"
    }
   ],
   "source": [
    "%%time\n",
    "def selected_values(x):\n",
    "    if len(x)==1:\n",
    "        return x[0]\n",
    "    \n",
    "f = np.vectorize(selected_values)\n",
    "one_feedback_distr = Counter(f(post_feedback))\n",
    "print(one_feedback_distr)\n",
    "plot_counter(one_feedback_distr)"
   ]
  },
  {
   "cell_type": "code",
   "execution_count": 55,
   "metadata": {},
   "outputs": [
    {
     "name": "stdout",
     "output_type": "stream",
     "text": [
      "Доля Liked против остальных (только контент пост с пользователями с 1-ной оценкой) в% 15.169125935566347\n"
     ]
    }
   ],
   "source": [
    "print(\"Доля Liked против остальных (только контент пост с пользователями с 1-ной оценкой) в%\", one_feedback_distr['Liked']/sum(one_feedback_distr.values())*100)"
   ]
  },
  {
   "cell_type": "code",
   "execution_count": 56,
   "metadata": {},
   "outputs": [],
   "source": [
    "client.cancel(post_feedback)\n",
    "post_feedback = None"
   ]
  },
  {
   "cell_type": "markdown",
   "metadata": {},
   "source": [
    "#### Распределение кол-ва оценок на одного пользователя?"
   ]
  },
  {
   "cell_type": "code",
   "execution_count": 57,
   "metadata": {},
   "outputs": [
    {
     "data": {
      "text/plain": [
       "[(2, 660260),\n",
       " (3, 530520),\n",
       " (1, 514334),\n",
       " (4, 388124),\n",
       " (5, 286639),\n",
       " (6, 219090),\n",
       " (7, 171311),\n",
       " (8, 137405),\n",
       " (9, 111302),\n",
       " (10, 92202),\n",
       " (11, 77588),\n",
       " (12, 65284),\n",
       " (13, 55571),\n",
       " (14, 48551),\n",
       " (15, 41552),\n",
       " (16, 36963),\n",
       " (17, 32632),\n",
       " (18, 28749),\n",
       " (19, 25611),\n",
       " (20, 22690),\n",
       " (21, 20693),\n",
       " (22, 18545),\n",
       " (23, 16933),\n",
       " (24, 15319),\n",
       " (25, 13907),\n",
       " (26, 12424),\n",
       " (27, 11597),\n",
       " (28, 10784),\n",
       " (29, 9862),\n",
       " (30, 9054),\n",
       " (31, 8363),\n",
       " (32, 7652),\n",
       " (33, 7234),\n",
       " (34, 6641),\n",
       " (35, 6255),\n",
       " (36, 5868),\n",
       " (37, 5454),\n",
       " (38, 5041),\n",
       " (39, 4731),\n",
       " (40, 4398),\n",
       " (41, 4238),\n",
       " (42, 3927),\n",
       " (43, 3653),\n",
       " (44, 3622),\n",
       " (45, 3311),\n",
       " (46, 3121),\n",
       " (47, 2907),\n",
       " (48, 2799),\n",
       " (49, 2652),\n",
       " (50, 2504),\n",
       " (51, 2484),\n",
       " (52, 2182),\n",
       " (53, 2116),\n",
       " (54, 1972),\n",
       " (55, 1923),\n",
       " (56, 1912),\n",
       " (57, 1678),\n",
       " (58, 1649),\n",
       " (59, 1574),\n",
       " (60, 1510),\n",
       " (62, 1417),\n",
       " (61, 1408),\n",
       " (63, 1302),\n",
       " (64, 1240),\n",
       " (65, 1217),\n",
       " (66, 1190),\n",
       " (67, 1155),\n",
       " (68, 1093),\n",
       " (69, 1061),\n",
       " (70, 1002),\n",
       " (72, 920),\n",
       " (71, 902),\n",
       " (73, 891),\n",
       " (75, 816),\n",
       " (74, 792),\n",
       " (76, 757),\n",
       " (77, 749),\n",
       " (78, 727),\n",
       " (80, 647),\n",
       " (79, 628),\n",
       " (81, 597),\n",
       " (84, 596),\n",
       " (83, 589),\n",
       " (82, 572),\n",
       " (85, 550),\n",
       " (86, 538),\n",
       " (88, 520),\n",
       " (87, 514),\n",
       " (89, 500),\n",
       " (90, 487),\n",
       " (94, 443),\n",
       " (91, 435),\n",
       " (92, 422),\n",
       " (96, 393),\n",
       " (97, 391),\n",
       " (93, 386),\n",
       " (95, 385),\n",
       " (99, 365),\n",
       " (100, 339),\n",
       " (103, 336),\n",
       " (98, 331),\n",
       " (102, 316),\n",
       " (106, 310),\n",
       " (101, 305),\n",
       " (105, 292),\n",
       " (107, 288),\n",
       " (104, 280),\n",
       " (108, 255),\n",
       " (109, 254),\n",
       " (114, 253),\n",
       " (112, 250),\n",
       " (110, 236),\n",
       " (111, 233),\n",
       " (113, 226),\n",
       " (115, 220),\n",
       " (118, 210),\n",
       " (121, 209),\n",
       " (116, 208),\n",
       " (119, 201),\n",
       " (122, 200),\n",
       " (117, 193),\n",
       " (120, 189),\n",
       " (125, 176),\n",
       " (124, 167),\n",
       " (130, 158),\n",
       " (128, 158),\n",
       " (123, 158),\n",
       " (127, 157),\n",
       " (129, 147),\n",
       " (137, 146),\n",
       " (133, 144),\n",
       " (126, 141),\n",
       " (136, 138),\n",
       " (138, 138),\n",
       " (131, 131),\n",
       " (132, 130),\n",
       " (140, 126),\n",
       " (135, 122),\n",
       " (134, 121),\n",
       " (139, 120),\n",
       " (142, 113),\n",
       " (141, 112),\n",
       " (154, 103),\n",
       " (145, 102),\n",
       " (144, 102),\n",
       " (148, 102),\n",
       " (150, 100),\n",
       " (146, 98),\n",
       " (143, 98),\n",
       " (152, 94),\n",
       " (153, 88),\n",
       " (147, 83),\n",
       " (158, 82),\n",
       " (157, 81),\n",
       " (155, 80),\n",
       " (149, 79),\n",
       " (151, 77),\n",
       " (156, 77),\n",
       " (171, 76),\n",
       " (165, 70),\n",
       " (159, 69),\n",
       " (172, 68),\n",
       " (162, 67),\n",
       " (163, 67),\n",
       " (168, 66),\n",
       " (164, 66),\n",
       " (161, 64),\n",
       " (166, 64),\n",
       " (160, 62),\n",
       " (175, 58),\n",
       " (167, 57),\n",
       " (184, 55),\n",
       " (183, 54),\n",
       " (180, 53),\n",
       " (170, 51),\n",
       " (174, 50),\n",
       " (169, 50),\n",
       " (178, 50),\n",
       " (177, 49),\n",
       " (173, 49),\n",
       " (188, 48),\n",
       " (185, 47),\n",
       " (179, 45),\n",
       " (182, 45),\n",
       " (181, 44),\n",
       " (187, 43),\n",
       " (192, 43),\n",
       " (205, 41),\n",
       " (189, 40),\n",
       " (176, 40),\n",
       " (191, 39),\n",
       " (186, 39),\n",
       " (193, 39),\n",
       " (195, 39),\n",
       " (202, 39),\n",
       " (199, 37),\n",
       " (200, 36),\n",
       " (190, 34),\n",
       " (204, 33),\n",
       " (197, 31),\n",
       " (210, 30),\n",
       " (206, 29),\n",
       " (196, 29),\n",
       " (220, 29),\n",
       " (209, 29),\n",
       " (214, 28),\n",
       " (219, 26),\n",
       " (212, 26),\n",
       " (194, 26),\n",
       " (218, 26),\n",
       " (232, 26),\n",
       " (217, 25),\n",
       " (211, 25),\n",
       " (198, 25),\n",
       " (203, 25),\n",
       " (207, 25),\n",
       " (201, 25),\n",
       " (208, 25),\n",
       " (224, 24),\n",
       " (216, 23),\n",
       " (230, 23),\n",
       " (225, 23),\n",
       " (234, 23),\n",
       " (222, 22),\n",
       " (213, 22),\n",
       " (233, 21),\n",
       " (223, 21),\n",
       " (226, 19),\n",
       " (215, 19),\n",
       " (238, 19),\n",
       " (236, 18),\n",
       " (247, 18),\n",
       " (235, 18),\n",
       " (229, 18),\n",
       " (244, 18),\n",
       " (228, 17),\n",
       " (260, 17),\n",
       " (262, 16),\n",
       " (258, 16),\n",
       " (240, 16),\n",
       " (239, 16),\n",
       " (250, 16),\n",
       " (266, 16),\n",
       " (265, 15),\n",
       " (282, 15),\n",
       " (221, 15),\n",
       " (256, 15),\n",
       " (242, 15),\n",
       " (251, 14),\n",
       " (274, 14),\n",
       " (295, 14),\n",
       " (227, 14),\n",
       " (243, 14),\n",
       " (249, 14),\n",
       " (276, 14),\n",
       " (267, 13),\n",
       " (284, 13),\n",
       " (271, 13),\n",
       " (252, 13),\n",
       " (270, 12),\n",
       " (257, 12),\n",
       " (269, 12),\n",
       " (231, 12),\n",
       " (277, 12),\n",
       " (310, 12),\n",
       " (246, 11),\n",
       " (325, 11),\n",
       " (248, 11),\n",
       " (268, 11),\n",
       " (255, 11),\n",
       " (259, 11),\n",
       " (293, 11),\n",
       " (273, 11),\n",
       " (297, 11),\n",
       " (286, 11),\n",
       " (272, 11),\n",
       " (253, 10),\n",
       " (292, 10),\n",
       " (312, 10),\n",
       " (241, 10),\n",
       " (245, 10),\n",
       " (237, 10),\n",
       " (296, 10),\n",
       " (289, 10),\n",
       " (309, 10),\n",
       " (275, 10),\n",
       " (332, 10),\n",
       " (254, 9),\n",
       " (280, 9),\n",
       " (261, 9),\n",
       " (278, 9),\n",
       " (314, 9),\n",
       " (303, 9),\n",
       " (279, 8),\n",
       " (328, 8),\n",
       " (308, 8),\n",
       " (311, 8),\n",
       " (322, 8),\n",
       " (285, 8),\n",
       " (301, 8),\n",
       " (326, 8),\n",
       " (342, 8),\n",
       " (299, 8),\n",
       " (320, 7),\n",
       " (291, 7),\n",
       " (336, 7),\n",
       " (359, 7),\n",
       " (263, 7),\n",
       " (364, 7),\n",
       " (264, 7),\n",
       " (346, 6),\n",
       " (304, 6),\n",
       " (372, 6),\n",
       " (347, 6),\n",
       " (392, 6),\n",
       " (324, 6),\n",
       " (298, 6),\n",
       " (316, 6),\n",
       " (351, 6),\n",
       " (335, 6),\n",
       " (338, 6),\n",
       " (318, 6),\n",
       " (350, 6),\n",
       " (306, 6),\n",
       " (387, 6),\n",
       " (379, 6),\n",
       " (307, 6),\n",
       " (290, 6),\n",
       " (419, 6),\n",
       " (317, 5),\n",
       " (321, 5),\n",
       " (362, 5),\n",
       " (357, 5),\n",
       " (349, 5),\n",
       " (396, 5),\n",
       " (377, 5),\n",
       " (327, 5),\n",
       " (437, 5),\n",
       " (354, 5),\n",
       " (331, 5),\n",
       " (376, 5),\n",
       " (339, 5),\n",
       " (343, 5),\n",
       " (300, 5),\n",
       " (288, 5),\n",
       " (411, 4),\n",
       " (412, 4),\n",
       " (352, 4),\n",
       " (416, 4),\n",
       " (374, 4),\n",
       " (382, 4),\n",
       " (319, 4),\n",
       " (333, 4),\n",
       " (429, 4),\n",
       " (368, 4),\n",
       " (404, 4),\n",
       " (365, 4),\n",
       " (386, 4),\n",
       " (313, 4),\n",
       " (421, 4),\n",
       " (281, 4),\n",
       " (344, 4),\n",
       " (378, 4),\n",
       " (433, 3),\n",
       " (418, 3),\n",
       " (391, 3),\n",
       " (337, 3),\n",
       " (455, 3),\n",
       " (405, 3),\n",
       " (381, 3),\n",
       " (470, 3),\n",
       " (620, 3),\n",
       " (400, 3),\n",
       " (294, 3),\n",
       " (537, 3),\n",
       " (341, 3),\n",
       " (410, 3),\n",
       " (485, 3),\n",
       " (403, 3),\n",
       " (460, 3),\n",
       " (330, 3),\n",
       " (393, 3),\n",
       " (370, 3),\n",
       " (323, 3),\n",
       " (385, 3),\n",
       " (406, 3),\n",
       " (360, 3),\n",
       " (315, 3),\n",
       " (302, 3),\n",
       " (444, 3),\n",
       " (395, 3),\n",
       " (407, 3),\n",
       " (413, 3),\n",
       " (531, 3),\n",
       " (305, 3),\n",
       " (329, 3),\n",
       " (399, 3),\n",
       " (390, 3),\n",
       " (389, 3),\n",
       " (397, 3),\n",
       " (417, 3),\n",
       " (287, 3),\n",
       " (348, 3),\n",
       " (402, 2),\n",
       " (434, 2),\n",
       " (467, 2),\n",
       " (371, 2),\n",
       " (414, 2),\n",
       " (552, 2),\n",
       " (483, 2),\n",
       " (533, 2),\n",
       " (550, 2),\n",
       " (334, 2),\n",
       " (442, 2),\n",
       " (730, 2),\n",
       " (500, 2),\n",
       " (629, 2),\n",
       " (745, 2),\n",
       " (345, 2),\n",
       " (440, 2),\n",
       " (356, 2),\n",
       " (431, 2),\n",
       " (428, 2),\n",
       " (415, 2),\n",
       " (482, 2),\n",
       " (426, 2),\n",
       " (408, 2),\n",
       " (456, 2),\n",
       " (574, 2),\n",
       " (461, 2),\n",
       " (409, 2),\n",
       " (401, 2),\n",
       " (363, 2),\n",
       " (472, 2),\n",
       " (447, 2),\n",
       " (450, 2),\n",
       " (283, 2),\n",
       " (528, 2),\n",
       " (432, 2),\n",
       " (471, 2),\n",
       " (484, 2),\n",
       " (466, 2),\n",
       " (373, 2),\n",
       " (514, 2),\n",
       " (610, 2),\n",
       " (489, 2),\n",
       " (463, 2),\n",
       " (495, 2),\n",
       " (436, 2),\n",
       " (706, 1),\n",
       " (558, 1),\n",
       " (366, 1),\n",
       " (497, 1),\n",
       " (448, 1),\n",
       " (1120, 1),\n",
       " (517, 1),\n",
       " (516, 1),\n",
       " (810, 1),\n",
       " (430, 1),\n",
       " (830, 1),\n",
       " (555, 1),\n",
       " (564, 1),\n",
       " (544, 1),\n",
       " (924, 1),\n",
       " (355, 1),\n",
       " (623, 1),\n",
       " (980, 1),\n",
       " (449, 1),\n",
       " (453, 1),\n",
       " (446, 1),\n",
       " (457, 1),\n",
       " (496, 1),\n",
       " (532, 1),\n",
       " (1055, 1),\n",
       " (509, 1),\n",
       " (592, 1),\n",
       " (571, 1),\n",
       " (510, 1),\n",
       " (547, 1),\n",
       " (728, 1),\n",
       " (380, 1),\n",
       " (358, 1),\n",
       " (908, 1),\n",
       " (634, 1),\n",
       " (568, 1),\n",
       " (632, 1),\n",
       " (511, 1),\n",
       " (855, 1),\n",
       " (2659, 1),\n",
       " (734, 1),\n",
       " (361, 1),\n",
       " (424, 1),\n",
       " (626, 1),\n",
       " (459, 1),\n",
       " (388, 1),\n",
       " (680, 1),\n",
       " (427, 1),\n",
       " (603, 1),\n",
       " (566, 1),\n",
       " (492, 1),\n",
       " (501, 1),\n",
       " (693, 1),\n",
       " (1170, 1),\n",
       " (1853, 1),\n",
       " (454, 1),\n",
       " (591, 1),\n",
       " (565, 1),\n",
       " (490, 1),\n",
       " (481, 1),\n",
       " (622, 1),\n",
       " (604, 1),\n",
       " (503, 1),\n",
       " (704, 1),\n",
       " (639, 1),\n",
       " (1193, 1),\n",
       " (545, 1),\n",
       " (577, 1),\n",
       " (695, 1),\n",
       " (607, 1),\n",
       " (367, 1),\n",
       " (694, 1),\n",
       " (562, 1),\n",
       " (1482, 1),\n",
       " (825, 1),\n",
       " (474, 1),\n",
       " (549, 1),\n",
       " (685, 1),\n",
       " (787, 1),\n",
       " (538, 1),\n",
       " (420, 1),\n",
       " (548, 1),\n",
       " (614, 1),\n",
       " (498, 1),\n",
       " (631, 1),\n",
       " (650, 1),\n",
       " (1108, 1),\n",
       " (486, 1),\n",
       " (522, 1),\n",
       " (687, 1),\n",
       " (394, 1),\n",
       " (628, 1),\n",
       " (518, 1),\n",
       " (666, 1),\n",
       " (477, 1),\n",
       " (654, 1),\n",
       " (842, 1),\n",
       " (721, 1),\n",
       " (536, 1),\n",
       " (422, 1),\n",
       " (398, 1),\n",
       " (340, 1),\n",
       " (469, 1),\n",
       " (794, 1),\n",
       " (563, 1),\n",
       " (473, 1),\n",
       " (543, 1),\n",
       " (384, 1),\n",
       " (508, 1),\n",
       " (747, 1),\n",
       " (642, 1),\n",
       " (989, 1),\n",
       " (912, 1),\n",
       " (944, 1),\n",
       " (520, 1),\n",
       " (375, 1),\n",
       " (611, 1),\n",
       " (507, 1),\n",
       " (615, 1),\n",
       " (425, 1),\n",
       " (515, 1),\n",
       " (556, 1),\n",
       " (656, 1),\n",
       " (595, 1),\n",
       " (716, 1),\n",
       " (875, 1),\n",
       " (530, 1),\n",
       " (773, 1),\n",
       " (369, 1),\n",
       " (783, 1),\n",
       " (649, 1),\n",
       " (475, 1),\n",
       " (353, 1)]"
      ]
     },
     "execution_count": 57,
     "metadata": {},
     "output_type": "execute_result"
    }
   ],
   "source": [
    "user_values = get_dd_column(['instanceId_userId', 'feedback']).\\\n",
    "                groupby('instanceId_userId')['instanceId_userId'].count().compute()\n",
    "#кол-во оценок на одного пользователя\n",
    "user_values = Counter(user_values)\n",
    "user_values.most_common()"
   ]
  },
  {
   "cell_type": "code",
   "execution_count": 58,
   "metadata": {},
   "outputs": [
    {
     "data": {
      "image/png": "[encoded data removed]",
      "text/plain": [
       "<Figure size 432x288 with 1 Axes>"
      ]
     },
     "metadata": {
      "needs_background": "light"
     },
     "output_type": "display_data"
    }
   ],
   "source": [
    "#кол-во оценок на %пользователей\n",
    "user_activity = list(zip(*user_values.most_common()))\n",
    "perc = np.array(user_activity[1])/np.array(user_activity[1]).sum()*100\n",
    "p = plt.plot(perc[:40])"
   ]
  },
  {
   "cell_type": "code",
   "execution_count": 60,
   "metadata": {},
   "outputs": [
    {
     "data": {
      "image/png": "[encoded data removed]",
      "text/plain": [
       "<Figure size 432x288 with 1 Axes>"
      ]
     },
     "metadata": {
      "needs_background": "light"
     },
     "output_type": "display_data"
    }
   ],
   "source": [
    "#Кол-во оценок на категории пользователей\n",
    "user_act = list(user_activity[0])\n",
    "user_act.sort()\n",
    "p = plt.plot(user_act)"
   ]
  },
  {
   "cell_type": "code",
   "execution_count": 65,
   "metadata": {},
   "outputs": [
    {
     "name": "stdout",
     "output_type": "stream",
     "text": [
      "% пользователей с кол-вом оценок от 1 до 5:  54.47956975142651\n"
     ]
    }
   ],
   "source": [
    "print(\"% пользователей с кол-вом оценок от 1 до 5: \", sum(perc[:4]))"
   ]
  },
  {
   "cell_type": "markdown",
   "metadata": {},
   "source": [
    "- Преобладающее большинство пользователей ставят от 1 до 3-х оценок\n",
    "- Более 50% пользователей ставят от 1 до 5 оценок.\n",
    "- Большинство пользователей - 17% ставят 2 оценки\n",
    "- Есть пользователи с аномальным кол-вом оценок больше 1000 -видимо это боты"
   ]
  },
  {
   "cell_type": "markdown",
   "metadata": {},
   "source": [
    "### Анализ активности пользователей по времени"
   ]
  },
  {
   "cell_type": "code",
   "execution_count": 71,
   "metadata": {
    "scrolled": true
   },
   "outputs": [
    {
     "name": "stdout",
     "output_type": "stream",
     "text": [
      "CPU times: user 4.3 s, sys: 1.48 s, total: 5.78 s\n",
      "Wall time: 5.42 s\n"
     ]
    }
   ],
   "source": [
    "%%time\n",
    "from datetime import datetime, date\n",
    "\n",
    "def date_time_decomposition():\n",
    "    user_date_time = get_dd_column(['audit_timestamp', 'instanceId_userId'])\n",
    "    user_date_time['audit_timestamp'] = user_date_time['audit_timestamp']\\\n",
    "                    .map(lambda x:  datetime.fromtimestamp(x//1000))\n",
    "    user_date_time['month_day'] = user_date_time['audit_timestamp']\\\n",
    "                    .map(lambda x: str(x.month)+'_'+str(x.day))\n",
    "    user_date_time['hour'] = user_date_time['audit_timestamp']\\\n",
    "                    .map(lambda x: x.hour)\n",
    "    user_date_time['weekday'] = user_date_time['audit_timestamp']\\\n",
    "                    .map(lambda x: x.weekday())\n",
    "    user_date_time = user_date_time.compute()\n",
    "    \n",
    "    return user_date_time\n",
    "\n",
    "user_date_time = load_run(date_time_decomposition)"
   ]
  },
  {
   "cell_type": "code",
   "execution_count": 77,
   "metadata": {},
   "outputs": [
    {
     "data": {
      "text/plain": [
       "<matplotlib.axes._subplots.AxesSubplot at 0x7fe9b703a9b0>"
      ]
     },
     "execution_count": 77,
     "metadata": {},
     "output_type": "execute_result"
    },
    {
     "data": {
      "image/png": "[encoded data removed]",
      "text/plain": [
       "<Figure size 432x288 with 1 Axes>"
      ]
     },
     "metadata": {
      "needs_background": "light"
     },
     "output_type": "display_data"
    }
   ],
   "source": [
    "month_day = user_date_time.groupby('month_day')['month_day'].count()\n",
    "month_day.plot(kind='bar')"
   ]
  },
  {
   "cell_type": "code",
   "execution_count": 76,
   "metadata": {},
   "outputs": [
    {
     "data": {
      "text/plain": [
       "<matplotlib.axes._subplots.AxesSubplot at 0x7fe9b5375f60>"
      ]
     },
     "execution_count": 76,
     "metadata": {},
     "output_type": "execute_result"
    },
    {
     "data": {
      "image/png": "[encoded data removed]",
      "text/plain": [
       "<Figure size 432x288 with 1 Axes>"
      ]
     },
     "metadata": {
      "needs_background": "light"
     },
     "output_type": "display_data"
    }
   ],
   "source": [
    "hours = user_date_time.groupby('hour')['hour'].count()\n",
    "hours.plot(kind='bar')"
   ]
  },
  {
   "cell_type": "code",
   "execution_count": 75,
   "metadata": {},
   "outputs": [
    {
     "data": {
      "text/plain": [
       "<matplotlib.axes._subplots.AxesSubplot at 0x7fea2eae9630>"
      ]
     },
     "execution_count": 75,
     "metadata": {},
     "output_type": "execute_result"
    },
    {
     "data": {
      "image/png": "[encoded data removed]",
      "text/plain": [
       "<Figure size 432x288 with 1 Axes>"
      ]
     },
     "metadata": {
      "needs_background": "light"
     },
     "output_type": "display_data"
    }
   ],
   "source": [
    "weekdays = user_date_time.groupby('weekday')['weekday'].count()\n",
    "weekdays.plot(kind='bar')"
   ]
  },
  {
   "cell_type": "code",
   "execution_count": 78,
   "metadata": {},
   "outputs": [],
   "source": [
    "client.cancel(user_date_time)\n",
    "user_date_time = None\n",
    "month_day = None\n",
    "hours = None\n",
    "weekdays = None"
   ]
  },
  {
   "cell_type": "markdown",
   "metadata": {},
   "source": [
    "- каких-то существенных аномальных перекосов в пользовательской активности не выявлено\n",
    "- видны недельные циклы пользовательской активности\n",
    "- ожидалось что в даты близкие к 8 марта и 23 февраля могут быть какие нибудь аномальные активности, но эта гипотеза не подтвердилась"
   ]
  },
  {
   "cell_type": "markdown",
   "metadata": {},
   "source": [
    "# <font color='blue'>Подготовка тренировочного и валидационного датасета"
   ]
  },
  {
   "cell_type": "markdown",
   "metadata": {},
   "source": [
    "## Подготовка обучающего датасета"
   ]
  },
  {
   "cell_type": "markdown",
   "metadata": {},
   "source": [
    "### Семплирование обучающего датасета\n",
    "- Использовать весь датасет (31млн. строк) для обучения не рентабельно, поэтому просемплируем рандомно небольшую выборку размером с 1,5 млн записей"
   ]
  },
  {
   "cell_type": "code",
   "execution_count": null,
   "metadata": {
    "scrolled": true
   },
   "outputs": [],
   "source": [
    "def dataset_random_sampling(dataset_directory, sample_size=1500000):\n",
    "    \"\"\"Семплирование датасета из parquet файлов\n",
    "    Случайная выборка указанного размера из parquet файлов \n",
    "    \"\"\"\n",
    "    print('Семплирование датасета')\n",
    "    sampled_dataset = df(columns=min_ds.columns)\n",
    "    sample_size = sample_size//len(dataset_directory)\n",
    "\n",
    "    for file in tqdm_notebook(train_col_dirs):\n",
    "        sampled_dataset = pd.concat([sampled_dataset, pq.read_table(file+'/').to_pandas()\\\n",
    "                           .sample(n=sample_size, random_state=10)], ignore_index=True)\n",
    "        \n",
    "    return sampled_dataset"
   ]
  },
  {
   "cell_type": "markdown",
   "metadata": {},
   "source": [
    "### Разворачиваем вложенные признаки переменной 'metadata_options'"
   ]
  },
  {
   "cell_type": "code",
   "execution_count": null,
   "metadata": {},
   "outputs": [],
   "source": [
    "def metadata_options_binaryze(data):\n",
    "    metadata_dict = [Counter(x) for x in tqdm_notebook(data['metadata_options'])]\n",
    "    return df(metadata_dict).fillna(0).astype(int)"
   ]
  },
  {
   "cell_type": "markdown",
   "metadata": {},
   "source": [
    "### Информация о частоте использования контента в процессе ваимодействия пользователя с ресурсом"
   ]
  },
  {
   "cell_type": "markdown",
   "metadata": {},
   "source": [
    "- В данных содержится информация посещениях пользователя в разное время. \n",
    "- В разные моменты времени кол-во информации о посещенном и оцененном контенте разное. \n",
    "- Поскольку это может сильно влиять на точность модели - то это обстоятельство надо учесть и ввести переменную user_activity."
   ]
  },
  {
   "cell_type": "code",
   "execution_count": null,
   "metadata": {},
   "outputs": [],
   "source": [
    "#добавляем перемнную учета пользовательской активности(кол-ва просмотренных обьектов) на текущий момент \n",
    "def add_user_activity(data):\n",
    "    data['user_activity'] = 1\n",
    "    data['user_activity'] = data.groupby('instanceId_userId')['user_activity'].cumsum()\n",
    "    return data"
   ]
  },
  {
   "cell_type": "markdown",
   "metadata": {},
   "source": [
    "### Препроцессинг"
   ]
  },
  {
   "cell_type": "code",
   "execution_count": null,
   "metadata": {},
   "outputs": [],
   "source": [
    "def preprocessing(data):\n",
    "    #сортируем по времени\n",
    "    data.sort_values(by=['audit_timestamp'], inplace=True)\n",
    "    #добавляем пользовательскую активность\n",
    "    data = add_user_activity(data)\n",
    "    #бинаризация 'metadata_options'\n",
    "    data = pd.concat([data, metadata_options_binaryze(data)], axis=1)\n",
    "    data.drop(['metadata_options'], axis=1,  inplace=True)\n",
    "    \n",
    "    return data"
   ]
  },
  {
   "cell_type": "code",
   "execution_count": null,
   "metadata": {
    "scrolled": true
   },
   "outputs": [],
   "source": [
    "train_dataset = preprocessing(train_dataset)"
   ]
  },
  {
   "cell_type": "code",
   "execution_count": null,
   "metadata": {},
   "outputs": [],
   "source": [
    "## Рассчитываем таргет переменную, запоняем пропуски\n",
    "target = train_dataset['feedback'].map(lambda x: 1 if 'Liked' in x else 0).values\n",
    "\n",
    "train_dataset.drop(['feedback'], axis=1, inplace=True)\n",
    "train_dataset.fillna(0, inplace=True, downcast=False)\n",
    "## Проверка\n",
    "train_dataset.isna().sum().sum()"
   ]
  },
  {
   "cell_type": "markdown",
   "metadata": {},
   "source": [
    "### Проверяем категориальные признаки их типы\n",
    "- те признаки которые являются числами, но являются строками - пытаемся сконвертировать в число"
   ]
  },
  {
   "cell_type": "code",
   "execution_count": null,
   "metadata": {},
   "outputs": [],
   "source": [
    "train_dataset.select_dtypes('object').columns"
   ]
  },
  {
   "cell_type": "code",
   "execution_count": null,
   "metadata": {},
   "outputs": [],
   "source": [
    "object_type_columns = train_dataset.select_dtypes('object').columns\n",
    "converted_columns = []\n",
    "\n",
    "for column in object_type_columns:\n",
    "    try:\n",
    "        train_dataset.loc[:, column] = train_dataset.loc[:, column].astype(int)\n",
    "        converted_columns.append(column)\n",
    "    except Exception as e:\n",
    "        print(column, 'not converted', train_dataset.loc[0, column])"
   ]
  },
  {
   "cell_type": "code",
   "execution_count": null,
   "metadata": {},
   "outputs": [],
   "source": [
    "train_dataset.select_dtypes('object').columns"
   ]
  },
  {
   "cell_type": "code",
   "execution_count": null,
   "metadata": {},
   "outputs": [],
   "source": [
    "converted_columns"
   ]
  },
  {
   "cell_type": "markdown",
   "metadata": {},
   "source": [
    "### Делим датасет на TRAIN и VALIDATION с балансировкой по классам\n",
    "- в трейне и тесте должно оказаться приблизительно пропорциональное кол-во класса 1 и 0"
   ]
  },
  {
   "cell_type": "code",
   "execution_count": null,
   "metadata": {},
   "outputs": [],
   "source": [
    "from sklearn.model_selection import train_test_split\n",
    "\n",
    "X_train, X_valid, y_train, y_valid = train_test_split(train_dataset, target, test_size=0.30, random_state=42, stratify=target)\n",
    "\n",
    "X_train.reset_index(inplace=True)\n",
    "X_valid.reset_index(inplace=True)\n",
    "\n",
    "X_train = X_train.drop(['index'], axis=1)\n",
    "X_valid = X_valid.drop(['index'], axis=1)"
   ]
  },
  {
   "cell_type": "code",
   "execution_count": null,
   "metadata": {
    "scrolled": true
   },
   "outputs": [],
   "source": [
    "X_valid.dtypes"
   ]
  },
  {
   "cell_type": "markdown",
   "metadata": {},
   "source": [
    "### Сериализуем данные для последующего обучения модели"
   ]
  },
  {
   "cell_type": "code",
   "execution_count": null,
   "metadata": {
    "scrolled": true
   },
   "outputs": [],
   "source": [
    "def pickle_files(data, name):\n",
    "    with open(name+'.pcl', 'wb') as f:\n",
    "        pickle.dump(data, f)\n",
    "        \n",
    "pickle_files((X_train, y_train), 'train_dataset')\n",
    "pickle_files((X_valid, y_valid), 'valid_dataset')\n",
    "\n",
    "#убираем ссылки на обьекты для удаления интерпретатором\n",
    "# X_train, y_train, y_valid, train_dataset, target = None, None, None, None, None"
   ]
  },
  {
   "cell_type": "markdown",
   "metadata": {},
   "source": [
    "## Подготовка тестового датасета"
   ]
  },
  {
   "cell_type": "code",
   "execution_count": null,
   "metadata": {
    "scrolled": true
   },
   "outputs": [],
   "source": [
    "test_dataset = pq.read_table(dataset_dir+'/test/').to_pandas(use_threads=8)\n",
    "test_dataset.shape"
   ]
  },
  {
   "cell_type": "code",
   "execution_count": null,
   "metadata": {
    "scrolled": false
   },
   "outputs": [],
   "source": [
    "test_dataset = preprocessing(test_dataset)"
   ]
  },
  {
   "cell_type": "code",
   "execution_count": null,
   "metadata": {},
   "outputs": [],
   "source": [
    "#converted_columns\n",
    "test_dataset.select_dtypes('object').columns"
   ]
  },
  {
   "cell_type": "code",
   "execution_count": null,
   "metadata": {},
   "outputs": [],
   "source": [
    "#непересекающиеся столбцы в 2-х датасетах\n",
    "set(X_valid.columns)^set(test_dataset.columns)"
   ]
  },
  {
   "cell_type": "code",
   "execution_count": null,
   "metadata": {},
   "outputs": [],
   "source": [
    "test_dataset.drop(['date'], axis=1, inplace=True)\n",
    "test_dataset.fillna(0, inplace=True)\n",
    "## Проверка\n",
    "test_dataset.isna().sum().sum()"
   ]
  },
  {
   "cell_type": "code",
   "execution_count": null,
   "metadata": {
    "scrolled": true
   },
   "outputs": [],
   "source": [
    "pickle_files(test_dataset, 'test_dataset')"
   ]
  },
  {
   "cell_type": "markdown",
   "metadata": {},
   "source": [
    "# <font color='blue'>Проверка пересечений ключевых признаков "
   ]
  },
  {
   "cell_type": "code",
   "execution_count": null,
   "metadata": {},
   "outputs": [],
   "source": [
    "hash(1)"
   ]
  },
  {
   "cell_type": "code",
   "execution_count": null,
   "metadata": {},
   "outputs": [],
   "source": [
    "#images\n",
    "#objects\n",
    "#texts\n",
    "#users\n",
    "#types"
   ]
  },
  {
   "cell_type": "code",
   "execution_count": null,
   "metadata": {},
   "outputs": [],
   "source": [
    "train_dataset.columns"
   ]
  },
  {
   "cell_type": "code",
   "execution_count": null,
   "metadata": {
    "scrolled": true
   },
   "outputs": [],
   "source": [
    "train_dataset['instanceId_objectId']"
   ]
  },
  {
   "cell_type": "code",
   "execution_count": null,
   "metadata": {
    "scrolled": true
   },
   "outputs": [],
   "source": [
    "test_dataset['ImageId']"
   ]
  },
  {
   "cell_type": "code",
   "execution_count": null,
   "metadata": {},
   "outputs": [],
   "source": [
    "len(train_dataset)"
   ]
  },
  {
   "cell_type": "code",
   "execution_count": null,
   "metadata": {},
   "outputs": [],
   "source": [
    "len(set(train_dataset['instanceId_objectId'])&set(test_dataset['instanceId_objectId']))"
   ]
  },
  {
   "cell_type": "markdown",
   "metadata": {},
   "source": [
    "# ВЫВОДЫ:"
   ]
  },
  {
   "cell_type": "markdown",
   "metadata": {},
   "source": [
    "- ввв"
   ]
  }
 ],
 "metadata": {
  "kernelspec": {
   "display_name": "Python 3",
   "language": "python",
   "name": "python3"
  },
  "language_info": {
   "codemirror_mode": {
    "name": "ipython",
    "version": 3
   },
   "file_extension": ".py",
   "mimetype": "text/x-python",
   "name": "python",
   "nbconvert_exporter": "python",
   "pygments_lexer": "ipython3",
   "version": "3.6.7"
  },
  "toc": {
   "base_numbering": 1,
   "nav_menu": {},
   "number_sections": false,
   "sideBar": false,
   "skip_h1_title": false,
   "title_cell": "Table of Contents",
   "title_sidebar": "Contents",
   "toc_cell": false,
   "toc_position": {},
   "toc_section_display": false,
   "toc_window_display": false
  }
 },
 "nbformat": 4,
 "nbformat_minor": 2
}
