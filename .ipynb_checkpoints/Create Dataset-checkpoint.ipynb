{
 "cells": [
  {
   "cell_type": "code",
   "execution_count": 1,
   "metadata": {},
   "outputs": [],
   "source": [
    "import numpy as np\n",
    "import pandas as pd\n",
    "from pandas import DataFrame as df\n",
    "import pyarrow.parquet as pq\n",
    "import pyarrow as pa\n",
    "import glob\n",
    "from dask.distributed import Client\n",
    "import dask.dataframe as dd\n",
    "import dask.array as da\n",
    "from collections import Counter\n",
    "from tqdm import tqdm, tqdm_notebook"
   ]
  },
  {
   "cell_type": "code",
   "execution_count": 2,
   "metadata": {},
   "outputs": [],
   "source": [
    "pd.options.display.float_format = '{:,.2f}'.format\n",
    "import matplotlib.pyplot as plt\n",
    "from pylab import rcParams\n",
    "rcParams['figure.figsize'] = 10, 5"
   ]
  },
  {
   "cell_type": "code",
   "execution_count": 3,
   "metadata": {
    "scrolled": true
   },
   "outputs": [],
   "source": [
    "dataset_dir = r'/home/protus/Documents/DATASETS/ML_Boot_camp/Colaborative filtering'\n",
    "train_col_dirs = glob.glob(dataset_dir+'/train/date*')"
   ]
  },
  {
   "cell_type": "code",
   "execution_count": 4,
   "metadata": {
    "scrolled": true
   },
   "outputs": [
    {
     "data": {
      "text/html": [
       "<table style=\"border: 2px solid white;\">\n",
       "<tr>\n",
       "<td style=\"vertical-align: top; border: 0px solid white\">\n",
       "<h3>Client</h3>\n",
       "<ul>\n",
       "  <li><b>Scheduler: </b>inproc://192.168.1.132/27602/1\n",
       "  <li><b>Dashboard: </b><a href='http://localhost:8787/status' target='_blank'>http://localhost:8787/status</a>\n",
       "</ul>\n",
       "</td>\n",
       "<td style=\"vertical-align: top; border: 0px solid white\">\n",
       "<h3>Cluster</h3>\n",
       "<ul>\n",
       "  <li><b>Workers: </b>4</li>\n",
       "  <li><b>Cores: </b>8</li>\n",
       "  <li><b>Memory: </b>80.00 GB</li>\n",
       "</ul>\n",
       "</td>\n",
       "</tr>\n",
       "</table>"
      ],
      "text/plain": [
       "<Client: scheduler='inproc://192.168.1.132/27602/1' processes=4 cores=8>"
      ]
     },
     "execution_count": 4,
     "metadata": {},
     "output_type": "execute_result"
    }
   ],
   "source": [
    "client = Client(n_workers=4, threads_per_worker=2, processes=False, memory_limit='20GB')\n",
    "client"
   ]
  },
  {
   "cell_type": "code",
   "execution_count": 5,
   "metadata": {},
   "outputs": [
    {
     "data": {
      "text/html": [
       "<div>\n",
       "<style scoped>\n",
       "    .dataframe tbody tr th:only-of-type {\n",
       "        vertical-align: middle;\n",
       "    }\n",
       "\n",
       "    .dataframe tbody tr th {\n",
       "        vertical-align: top;\n",
       "    }\n",
       "\n",
       "    .dataframe thead th {\n",
       "        text-align: right;\n",
       "    }\n",
       "</style>\n",
       "<table border=\"1\" class=\"dataframe\">\n",
       "  <thead>\n",
       "    <tr style=\"text-align: right;\">\n",
       "      <th></th>\n",
       "      <th>instanceId_userId</th>\n",
       "      <th>instanceId_objectType</th>\n",
       "      <th>instanceId_objectId</th>\n",
       "      <th>audit_pos</th>\n",
       "      <th>audit_clientType</th>\n",
       "      <th>audit_timestamp</th>\n",
       "      <th>audit_timePassed</th>\n",
       "      <th>audit_resourceType</th>\n",
       "      <th>metadata_ownerId</th>\n",
       "      <th>metadata_ownerType</th>\n",
       "      <th>...</th>\n",
       "      <th>auditweights_userOwner_PHOTO_VIEW</th>\n",
       "      <th>auditweights_userOwner_TEXT</th>\n",
       "      <th>auditweights_userOwner_UNKNOWN</th>\n",
       "      <th>auditweights_userOwner_USER_FEED_REMOVE</th>\n",
       "      <th>auditweights_userOwner_USER_PROFILE_VIEW</th>\n",
       "      <th>auditweights_userOwner_VIDEO</th>\n",
       "      <th>auditweights_x_ActorsRelations</th>\n",
       "      <th>auditweights_svd</th>\n",
       "      <th>ImageId</th>\n",
       "      <th>auditweights_likersSvd_hyper</th>\n",
       "    </tr>\n",
       "  </thead>\n",
       "  <tbody>\n",
       "    <tr>\n",
       "      <th>0</th>\n",
       "      <td>116</td>\n",
       "      <td>Post</td>\n",
       "      <td>28780736</td>\n",
       "      <td>6</td>\n",
       "      <td>API</td>\n",
       "      <td>1517503843109</td>\n",
       "      <td>7495939</td>\n",
       "      <td>8</td>\n",
       "      <td>1404</td>\n",
       "      <td>GROUP_OPEN_OFFICIAL</td>\n",
       "      <td>...</td>\n",
       "      <td>nan</td>\n",
       "      <td>nan</td>\n",
       "      <td>nan</td>\n",
       "      <td>nan</td>\n",
       "      <td>nan</td>\n",
       "      <td>nan</td>\n",
       "      <td>nan</td>\n",
       "      <td>0.73</td>\n",
       "      <td>[1f1614057e4c0c958a90867258fd54d3]</td>\n",
       "      <td>nan</td>\n",
       "    </tr>\n",
       "    <tr>\n",
       "      <th>1</th>\n",
       "      <td>353</td>\n",
       "      <td>Post</td>\n",
       "      <td>26245790</td>\n",
       "      <td>2</td>\n",
       "      <td>API</td>\n",
       "      <td>1517510309638</td>\n",
       "      <td>2173865</td>\n",
       "      <td>8</td>\n",
       "      <td>52662</td>\n",
       "      <td>GROUP_OPEN_OFFICIAL</td>\n",
       "      <td>...</td>\n",
       "      <td>nan</td>\n",
       "      <td>nan</td>\n",
       "      <td>nan</td>\n",
       "      <td>nan</td>\n",
       "      <td>nan</td>\n",
       "      <td>nan</td>\n",
       "      <td>nan</td>\n",
       "      <td>0.65</td>\n",
       "      <td>[bf0b69e0ed5d2c7e5c819b19267715aa]</td>\n",
       "      <td>0.71</td>\n",
       "    </tr>\n",
       "    <tr>\n",
       "      <th>2</th>\n",
       "      <td>707</td>\n",
       "      <td>Post</td>\n",
       "      <td>12497594</td>\n",
       "      <td>1</td>\n",
       "      <td>API</td>\n",
       "      <td>1517507277853</td>\n",
       "      <td>22419966</td>\n",
       "      <td>8</td>\n",
       "      <td>43210</td>\n",
       "      <td>GROUP_OPEN_OFFICIAL</td>\n",
       "      <td>...</td>\n",
       "      <td>nan</td>\n",
       "      <td>1.00</td>\n",
       "      <td>nan</td>\n",
       "      <td>nan</td>\n",
       "      <td>nan</td>\n",
       "      <td>nan</td>\n",
       "      <td>nan</td>\n",
       "      <td>0.32</td>\n",
       "      <td>[45a0714d83500065a5e9a60bf960db58]</td>\n",
       "      <td>nan</td>\n",
       "    </tr>\n",
       "    <tr>\n",
       "      <th>3</th>\n",
       "      <td>803</td>\n",
       "      <td>Post</td>\n",
       "      <td>31379930</td>\n",
       "      <td>1</td>\n",
       "      <td>WEB</td>\n",
       "      <td>1517497954853</td>\n",
       "      <td>224301</td>\n",
       "      <td>7</td>\n",
       "      <td>79056</td>\n",
       "      <td>GROUP_OPEN_OFFICIAL</td>\n",
       "      <td>...</td>\n",
       "      <td>nan</td>\n",
       "      <td>nan</td>\n",
       "      <td>nan</td>\n",
       "      <td>nan</td>\n",
       "      <td>nan</td>\n",
       "      <td>nan</td>\n",
       "      <td>nan</td>\n",
       "      <td>0.71</td>\n",
       "      <td>None</td>\n",
       "      <td>nan</td>\n",
       "    </tr>\n",
       "    <tr>\n",
       "      <th>4</th>\n",
       "      <td>1328</td>\n",
       "      <td>Post</td>\n",
       "      <td>33344915</td>\n",
       "      <td>3</td>\n",
       "      <td>MOB</td>\n",
       "      <td>1517485752080</td>\n",
       "      <td>449534</td>\n",
       "      <td>8</td>\n",
       "      <td>18760</td>\n",
       "      <td>GROUP_OPEN_OFFICIAL</td>\n",
       "      <td>...</td>\n",
       "      <td>nan</td>\n",
       "      <td>nan</td>\n",
       "      <td>nan</td>\n",
       "      <td>nan</td>\n",
       "      <td>nan</td>\n",
       "      <td>nan</td>\n",
       "      <td>nan</td>\n",
       "      <td>0.77</td>\n",
       "      <td>None</td>\n",
       "      <td>nan</td>\n",
       "    </tr>\n",
       "  </tbody>\n",
       "</table>\n",
       "<p>5 rows × 106 columns</p>\n",
       "</div>"
      ],
      "text/plain": [
       "   instanceId_userId instanceId_objectType  instanceId_objectId  audit_pos  \\\n",
       "0                116                  Post             28780736          6   \n",
       "1                353                  Post             26245790          2   \n",
       "2                707                  Post             12497594          1   \n",
       "3                803                  Post             31379930          1   \n",
       "4               1328                  Post             33344915          3   \n",
       "\n",
       "  audit_clientType  audit_timestamp  audit_timePassed  audit_resourceType  \\\n",
       "0              API    1517503843109           7495939                   8   \n",
       "1              API    1517510309638           2173865                   8   \n",
       "2              API    1517507277853          22419966                   8   \n",
       "3              WEB    1517497954853            224301                   7   \n",
       "4              MOB    1517485752080            449534                   8   \n",
       "\n",
       "   metadata_ownerId   metadata_ownerType  ...  \\\n",
       "0              1404  GROUP_OPEN_OFFICIAL  ...   \n",
       "1             52662  GROUP_OPEN_OFFICIAL  ...   \n",
       "2             43210  GROUP_OPEN_OFFICIAL  ...   \n",
       "3             79056  GROUP_OPEN_OFFICIAL  ...   \n",
       "4             18760  GROUP_OPEN_OFFICIAL  ...   \n",
       "\n",
       "   auditweights_userOwner_PHOTO_VIEW  auditweights_userOwner_TEXT  \\\n",
       "0                                nan                          nan   \n",
       "1                                nan                          nan   \n",
       "2                                nan                         1.00   \n",
       "3                                nan                          nan   \n",
       "4                                nan                          nan   \n",
       "\n",
       "   auditweights_userOwner_UNKNOWN  auditweights_userOwner_USER_FEED_REMOVE  \\\n",
       "0                             nan                                      nan   \n",
       "1                             nan                                      nan   \n",
       "2                             nan                                      nan   \n",
       "3                             nan                                      nan   \n",
       "4                             nan                                      nan   \n",
       "\n",
       "   auditweights_userOwner_USER_PROFILE_VIEW  auditweights_userOwner_VIDEO  \\\n",
       "0                                       nan                           nan   \n",
       "1                                       nan                           nan   \n",
       "2                                       nan                           nan   \n",
       "3                                       nan                           nan   \n",
       "4                                       nan                           nan   \n",
       "\n",
       "   auditweights_x_ActorsRelations  auditweights_svd  \\\n",
       "0                             nan              0.73   \n",
       "1                             nan              0.65   \n",
       "2                             nan              0.32   \n",
       "3                             nan              0.71   \n",
       "4                             nan              0.77   \n",
       "\n",
       "                              ImageId auditweights_likersSvd_hyper  \n",
       "0  [1f1614057e4c0c958a90867258fd54d3]                          nan  \n",
       "1  [bf0b69e0ed5d2c7e5c819b19267715aa]                         0.71  \n",
       "2  [45a0714d83500065a5e9a60bf960db58]                          nan  \n",
       "3                                None                          nan  \n",
       "4                                None                          nan  \n",
       "\n",
       "[5 rows x 106 columns]"
      ]
     },
     "execution_count": 5,
     "metadata": {},
     "output_type": "execute_result"
    }
   ],
   "source": [
    "min_ds = dd.read_parquet(dataset_dir+'/train/date=2018-02-01/*.parquet', engine='pyarrow')\n",
    "min_ds.head()"
   ]
  },
  {
   "cell_type": "code",
   "execution_count": 6,
   "metadata": {
    "scrolled": true
   },
   "outputs": [
    {
     "data": {
      "text/plain": [
       "instanceId_userId                                    0\n",
       "instanceId_objectType                                0\n",
       "instanceId_objectId                                  0\n",
       "audit_pos                                            0\n",
       "audit_clientType                                     0\n",
       "audit_timestamp                                      0\n",
       "audit_timePassed                                     0\n",
       "audit_resourceType                                   0\n",
       "metadata_ownerId                                     0\n",
       "metadata_ownerType                                   0\n",
       "metadata_createdAt                                   0\n",
       "metadata_authorId                                    0\n",
       "metadata_applicationId                               0\n",
       "metadata_numCompanions                               0\n",
       "metadata_numPhotos                                   0\n",
       "metadata_numPolls                                    0\n",
       "metadata_numSymbols                                  0\n",
       "metadata_numTokens                                   0\n",
       "metadata_numVideos                                   0\n",
       "metadata_platform                                    0\n",
       "metadata_totalVideoLength                            0\n",
       "metadata_options                                     0\n",
       "userOwnerCounters_USER_FEED_REMOVE              248456\n",
       "userOwnerCounters_USER_PROFILE_VIEW             248456\n",
       "userOwnerCounters_VOTE_POLL                     248456\n",
       "userOwnerCounters_USER_SEND_MESSAGE             248456\n",
       "userOwnerCounters_USER_DELETE_MESSAGE           248456\n",
       "userOwnerCounters_USER_INTERNAL_LIKE            248456\n",
       "userOwnerCounters_USER_INTERNAL_UNLIKE          248456\n",
       "userOwnerCounters_USER_STATUS_COMMENT_CREATE    248456\n",
       "                                                 ...  \n",
       "auditweights_friendCommenters                   615587\n",
       "auditweights_friendLikes                        429058\n",
       "auditweights_friendLikes_actors                 429058\n",
       "auditweights_hasDetectedText                    619223\n",
       "auditweights_hasText                            617958\n",
       "auditweights_isRandom                                0\n",
       "auditweights_likersFeedStats_hyper              429058\n",
       "auditweights_notOriginalPhoto                   600574\n",
       "auditweights_numDislikes                         71252\n",
       "auditweights_numLikes                            58712\n",
       "auditweights_numShows                            42611\n",
       "auditweights_onlineVideo                        618752\n",
       "auditweights_processedVideo                     604703\n",
       "auditweights_relationMasks                      619226\n",
       "auditweights_source_MOVIE_TOP                   619226\n",
       "auditweights_userAge                                 0\n",
       "auditweights_userOwner_CREATE_COMMENT           600944\n",
       "auditweights_userOwner_CREATE_IMAGE             618966\n",
       "auditweights_userOwner_CREATE_LIKE              392412\n",
       "auditweights_userOwner_IMAGE                    516367\n",
       "auditweights_userOwner_PHOTO_VIEW               619226\n",
       "auditweights_userOwner_TEXT                     431130\n",
       "auditweights_userOwner_UNKNOWN                  615973\n",
       "auditweights_userOwner_USER_FEED_REMOVE         607784\n",
       "auditweights_userOwner_USER_PROFILE_VIEW        619226\n",
       "auditweights_userOwner_VIDEO                    618189\n",
       "auditweights_x_ActorsRelations                  564897\n",
       "auditweights_svd                                     0\n",
       "ImageId                                         280975\n",
       "auditweights_likersSvd_hyper                    429058\n",
       "Length: 106, dtype: int64"
      ]
     },
     "execution_count": 6,
     "metadata": {},
     "output_type": "execute_result"
    }
   ],
   "source": [
    "#проверка Nan\n",
    "min_ds.isna().sum(axis=0).compute()"
   ]
  },
  {
   "cell_type": "code",
   "execution_count": 7,
   "metadata": {},
   "outputs": [
    {
     "data": {
      "text/plain": [
       "Index(['instanceId_userId', 'instanceId_objectType', 'instanceId_objectId',\n",
       "       'audit_pos', 'audit_clientType', 'audit_timestamp', 'audit_timePassed',\n",
       "       'audit_resourceType', 'metadata_ownerId', 'metadata_ownerType',\n",
       "       ...\n",
       "       'auditweights_userOwner_PHOTO_VIEW', 'auditweights_userOwner_TEXT',\n",
       "       'auditweights_userOwner_UNKNOWN',\n",
       "       'auditweights_userOwner_USER_FEED_REMOVE',\n",
       "       'auditweights_userOwner_USER_PROFILE_VIEW',\n",
       "       'auditweights_userOwner_VIDEO', 'auditweights_x_ActorsRelations',\n",
       "       'auditweights_svd', 'ImageId', 'auditweights_likersSvd_hyper'],\n",
       "      dtype='object', length=106)"
      ]
     },
     "execution_count": 7,
     "metadata": {},
     "output_type": "execute_result"
    }
   ],
   "source": [
    "columns = min_ds.columns\n",
    "columns"
   ]
  },
  {
   "cell_type": "code",
   "execution_count": 8,
   "metadata": {},
   "outputs": [],
   "source": [
    "dataset_size = len(dd.read_parquet(dataset_dir+'/train/date*/*.parquet',\\\n",
    "    engine='pyarrow', columns=['instanceId_userId']))"
   ]
  },
  {
   "cell_type": "code",
   "execution_count": 9,
   "metadata": {},
   "outputs": [
    {
     "name": "stdout",
     "output_type": "stream",
     "text": [
      "Размер датасета 30,787,847, кол-во столбцов 106\n"
     ]
    }
   ],
   "source": [
    "print('Размер датасета {0:,}, кол-во столбцов {1}'.format(dataset_size, len(columns)))"
   ]
  },
  {
   "cell_type": "markdown",
   "metadata": {},
   "source": [
    "## Описательные статистики"
   ]
  },
  {
   "cell_type": "code",
   "execution_count": 10,
   "metadata": {},
   "outputs": [],
   "source": [
    "get_dd_column = lambda column: dd.read_parquet(dataset_dir+'/train/date*/*.parquet', \\\n",
    "                    columns=column, engine='pyarrow')\n",
    "get_dd_column_unique = lambda column: get_dd_column([column])[column].unique().compute()"
   ]
  },
  {
   "cell_type": "code",
   "execution_count": 11,
   "metadata": {},
   "outputs": [
    {
     "name": "stdout",
     "output_type": "stream",
     "text": [
      "Кол-во уникальных пользователей 3,842,244\n",
      "Кол-во уникальных обьектов 6,323,483\n"
     ]
    }
   ],
   "source": [
    "print(\"Кол-во уникальных пользователей {0:,}\\n\\\n",
    "Кол-во уникальных обьектов {1:,}\".format(\\\n",
    "    get_dd_column_unique('instanceId_userId').count(),\n",
    "    get_dd_column_unique('instanceId_objectId').count()))"
   ]
  },
  {
   "cell_type": "markdown",
   "metadata": {},
   "source": [
    "### Items statistics"
   ]
  },
  {
   "cell_type": "code",
   "execution_count": 12,
   "metadata": {
    "scrolled": true
   },
   "outputs": [
    {
     "name": "stdout",
     "output_type": "stream",
     "text": [
      "CPU times: user 1min 24s, sys: 4.5 s, total: 1min 28s\n",
      "Wall time: 1min 18s\n"
     ]
    }
   ],
   "source": [
    "%%time\n",
    "#CALC ITEMS EVALUATIONS STATISTICS\n",
    "feedback = get_dd_column(['feedback'])\n",
    "feedback_unique = set()\n",
    "temp = feedback['feedback'].map(lambda x: feedback_unique.update(x)).compute()"
   ]
  },
  {
   "cell_type": "code",
   "execution_count": 13,
   "metadata": {},
   "outputs": [
    {
     "data": {
      "text/plain": [
       "{'Clicked',\n",
       " 'Commented',\n",
       " 'Complaint',\n",
       " 'Disliked',\n",
       " 'Ignored',\n",
       " 'Liked',\n",
       " 'ReShared',\n",
       " 'Unliked',\n",
       " 'Viewed',\n",
       " 'f',\n",
       " 'o'}"
      ]
     },
     "execution_count": 13,
     "metadata": {},
     "output_type": "execute_result"
    }
   ],
   "source": [
    "feedback_unique"
   ]
  },
  {
   "cell_type": "code",
   "execution_count": 14,
   "metadata": {},
   "outputs": [],
   "source": [
    "client.cancel(feedback)\n",
    "client.cancel(temp)"
   ]
  },
  {
   "cell_type": "markdown",
   "metadata": {},
   "source": [
    "#### Распределение типов контента"
   ]
  },
  {
   "cell_type": "code",
   "execution_count": 15,
   "metadata": {},
   "outputs": [
    {
     "name": "stdout",
     "output_type": "stream",
     "text": [
      "Типы контента и частоты instanceId_objectType\n",
      "Photo     1,411,216\n",
      "Post     28,601,793\n",
      "Video       774,838\n",
      "Name: instanceId_objectType, dtype: object\n",
      "CPU times: user 18.7 s, sys: 1.77 s, total: 20.4 s\n",
      "Wall time: 15.4 s\n"
     ]
    }
   ],
   "source": [
    "%%time\n",
    "#ITEMS TYPES STATISTICS \n",
    "#распределение типов контента\n",
    "instanceId_objectTypes = get_dd_column(['instanceId_objectType']).groupby(by='instanceId_objectType')\\\n",
    "    ['instanceId_objectType'].count().compute()\n",
    "print(\"Типы контента и частоты {0}\".format(instanceId_objectTypes.map(\"{:,}\".format)))"
   ]
  },
  {
   "cell_type": "code",
   "execution_count": 16,
   "metadata": {},
   "outputs": [],
   "source": [
    "def plot_counter(counter):\n",
    "    plt.bar(counter.keys(), counter.values())\n",
    "    plt.xticks(rotation=45)"
   ]
  },
  {
   "cell_type": "markdown",
   "metadata": {},
   "source": [
    "#### Распределение количества оценок пользователей по контенту Post"
   ]
  },
  {
   "cell_type": "code",
   "execution_count": 17,
   "metadata": {
    "scrolled": true
   },
   "outputs": [
    {
     "name": "stdout",
     "output_type": "stream",
     "text": [
      "Counter({1: 26535247, 2: 1753288, 3: 294114, 4: 18333, 5: 797, 6: 13, 7: 1})\n",
      "CPU times: user 47.8 s, sys: 4.88 s, total: 52.7 s\n",
      "Wall time: 44.2 s\n"
     ]
    },
    {
     "data": {
      "image/png": "[encoded data removed]",
      "text/plain": [
       "<Figure size 432x288 with 1 Axes>"
      ]
     },
     "metadata": {
      "needs_background": "light"
     },
     "output_type": "display_data"
    }
   ],
   "source": [
    "%%time\n",
    "#выборка по Post типу контента \n",
    "data = get_dd_column(['instanceId_objectType', 'feedback'])\n",
    "post_feedback = data.loc[data.instanceId_objectType=='Post','feedback'].compute()\n",
    "#распределение кол-ва оценок на пользователя\n",
    "f = np.vectorize(lambda x: len(x))\n",
    "post_feedback_distr = Counter(f(post_feedback))\n",
    "print(post_feedback_distr)\n",
    "plot_counter(post_feedback_distr)"
   ]
  },
  {
   "cell_type": "markdown",
   "metadata": {},
   "source": [
    "#### Распределение оценок пользователей c одной оценкой по обьекту по контенту Post"
   ]
  },
  {
   "cell_type": "code",
   "execution_count": 18,
   "metadata": {},
   "outputs": [
    {
     "name": "stdout",
     "output_type": "stream",
     "text": [
      "Counter({'Ignored': 19165862, 'Liked': 4338642, 'None': 2066546, 'Clicked': 1936246, 'Disliked': 982308, 'ReShared': 86724, 'Commented': 25035, 'Unliked': 242, 'Complaint': 188})\n",
      "CPU times: user 20.2 s, sys: 628 ms, total: 20.8 s\n",
      "Wall time: 20.4 s\n"
     ]
    },
    {
     "data": {
      "image/png": "[encoded data removed]",
      "text/plain": [
       "<Figure size 432x288 with 1 Axes>"
      ]
     },
     "metadata": {
      "needs_background": "light"
     },
     "output_type": "display_data"
    }
   ],
   "source": [
    "%%time\n",
    "def selected_values(x):\n",
    "    if len(x)==1:\n",
    "        return x[0]\n",
    "    \n",
    "f = np.vectorize(selected_values)\n",
    "one_feedback_distr = Counter(f(post_feedback))\n",
    "print(one_feedback_distr)\n",
    "plot_counter(one_feedback_distr)"
   ]
  },
  {
   "cell_type": "code",
   "execution_count": 19,
   "metadata": {},
   "outputs": [],
   "source": [
    "client.cancel(post_feedback)\n",
    "post_feedback = None"
   ]
  },
  {
   "cell_type": "markdown",
   "metadata": {},
   "source": [
    "#### Какое кол-во оценок ставят пользователи?"
   ]
  },
  {
   "cell_type": "code",
   "execution_count": 20,
   "metadata": {},
   "outputs": [
    {
     "data": {
      "text/plain": [
       "[(2, 660260),\n",
       " (3, 530520),\n",
       " (1, 514334),\n",
       " (4, 388124),\n",
       " (5, 286639),\n",
       " (6, 219090),\n",
       " (7, 171311),\n",
       " (8, 137405),\n",
       " (9, 111302),\n",
       " (10, 92202),\n",
       " (11, 77588),\n",
       " (12, 65284),\n",
       " (13, 55571),\n",
       " (14, 48551),\n",
       " (15, 41552),\n",
       " (16, 36963),\n",
       " (17, 32632),\n",
       " (18, 28749),\n",
       " (19, 25611),\n",
       " (20, 22690),\n",
       " (21, 20693),\n",
       " (22, 18545),\n",
       " (23, 16933),\n",
       " (24, 15319),\n",
       " (25, 13907),\n",
       " (26, 12424),\n",
       " (27, 11597),\n",
       " (28, 10784),\n",
       " (29, 9862),\n",
       " (30, 9054),\n",
       " (31, 8363),\n",
       " (32, 7652),\n",
       " (33, 7234),\n",
       " (34, 6641),\n",
       " (35, 6255),\n",
       " (36, 5868),\n",
       " (37, 5454),\n",
       " (38, 5041),\n",
       " (39, 4731),\n",
       " (40, 4398),\n",
       " (41, 4238),\n",
       " (42, 3927),\n",
       " (43, 3653),\n",
       " (44, 3622),\n",
       " (45, 3311),\n",
       " (46, 3121),\n",
       " (47, 2907),\n",
       " (48, 2799),\n",
       " (49, 2652),\n",
       " (50, 2504),\n",
       " (51, 2484),\n",
       " (52, 2182),\n",
       " (53, 2116),\n",
       " (54, 1972),\n",
       " (55, 1923),\n",
       " (56, 1912),\n",
       " (57, 1678),\n",
       " (58, 1649),\n",
       " (59, 1574),\n",
       " (60, 1510),\n",
       " (62, 1417),\n",
       " (61, 1408),\n",
       " (63, 1302),\n",
       " (64, 1240),\n",
       " (65, 1217),\n",
       " (66, 1190),\n",
       " (67, 1155),\n",
       " (68, 1093),\n",
       " (69, 1061),\n",
       " (70, 1002),\n",
       " (72, 920),\n",
       " (71, 902),\n",
       " (73, 891),\n",
       " (75, 816),\n",
       " (74, 792),\n",
       " (76, 757),\n",
       " (77, 749),\n",
       " (78, 727),\n",
       " (80, 647),\n",
       " (79, 628),\n",
       " (81, 597),\n",
       " (84, 596),\n",
       " (83, 589),\n",
       " (82, 572),\n",
       " (85, 550),\n",
       " (86, 538),\n",
       " (88, 520),\n",
       " (87, 514),\n",
       " (89, 500),\n",
       " (90, 487),\n",
       " (94, 443),\n",
       " (91, 435),\n",
       " (92, 422),\n",
       " (96, 393),\n",
       " (97, 391),\n",
       " (93, 386),\n",
       " (95, 385),\n",
       " (99, 365),\n",
       " (100, 339),\n",
       " (103, 336),\n",
       " (98, 331),\n",
       " (102, 316),\n",
       " (106, 310),\n",
       " (101, 305),\n",
       " (105, 292),\n",
       " (107, 288),\n",
       " (104, 280),\n",
       " (108, 255),\n",
       " (109, 254),\n",
       " (114, 253),\n",
       " (112, 250),\n",
       " (110, 236),\n",
       " (111, 233),\n",
       " (113, 226),\n",
       " (115, 220),\n",
       " (118, 210),\n",
       " (121, 209),\n",
       " (116, 208),\n",
       " (119, 201),\n",
       " (122, 200),\n",
       " (117, 193),\n",
       " (120, 189),\n",
       " (125, 176),\n",
       " (124, 167),\n",
       " (130, 158),\n",
       " (128, 158),\n",
       " (123, 158),\n",
       " (127, 157),\n",
       " (129, 147),\n",
       " (137, 146),\n",
       " (133, 144),\n",
       " (126, 141),\n",
       " (136, 138),\n",
       " (138, 138),\n",
       " (131, 131),\n",
       " (132, 130),\n",
       " (140, 126),\n",
       " (135, 122),\n",
       " (134, 121),\n",
       " (139, 120),\n",
       " (142, 113),\n",
       " (141, 112),\n",
       " (154, 103),\n",
       " (145, 102),\n",
       " (144, 102),\n",
       " (148, 102),\n",
       " (150, 100),\n",
       " (146, 98),\n",
       " (143, 98),\n",
       " (152, 94),\n",
       " (153, 88),\n",
       " (147, 83),\n",
       " (158, 82),\n",
       " (157, 81),\n",
       " (155, 80),\n",
       " (149, 79),\n",
       " (151, 77),\n",
       " (156, 77),\n",
       " (171, 76),\n",
       " (165, 70),\n",
       " (159, 69),\n",
       " (172, 68),\n",
       " (162, 67),\n",
       " (163, 67),\n",
       " (168, 66),\n",
       " (164, 66),\n",
       " (161, 64),\n",
       " (166, 64),\n",
       " (160, 62),\n",
       " (175, 58),\n",
       " (167, 57),\n",
       " (184, 55),\n",
       " (183, 54),\n",
       " (180, 53),\n",
       " (170, 51),\n",
       " (174, 50),\n",
       " (169, 50),\n",
       " (178, 50),\n",
       " (177, 49),\n",
       " (173, 49),\n",
       " (188, 48),\n",
       " (185, 47),\n",
       " (179, 45),\n",
       " (182, 45),\n",
       " (181, 44),\n",
       " (187, 43),\n",
       " (192, 43),\n",
       " (205, 41),\n",
       " (189, 40),\n",
       " (176, 40),\n",
       " (191, 39),\n",
       " (186, 39),\n",
       " (193, 39),\n",
       " (195, 39),\n",
       " (202, 39),\n",
       " (199, 37),\n",
       " (200, 36),\n",
       " (190, 34),\n",
       " (204, 33),\n",
       " (197, 31),\n",
       " (210, 30),\n",
       " (206, 29),\n",
       " (196, 29),\n",
       " (220, 29),\n",
       " (209, 29),\n",
       " (214, 28),\n",
       " (219, 26),\n",
       " (212, 26),\n",
       " (194, 26),\n",
       " (218, 26),\n",
       " (232, 26),\n",
       " (217, 25),\n",
       " (211, 25),\n",
       " (198, 25),\n",
       " (203, 25),\n",
       " (207, 25),\n",
       " (201, 25),\n",
       " (208, 25),\n",
       " (224, 24),\n",
       " (216, 23),\n",
       " (230, 23),\n",
       " (225, 23),\n",
       " (234, 23),\n",
       " (222, 22),\n",
       " (213, 22),\n",
       " (233, 21),\n",
       " (223, 21),\n",
       " (226, 19),\n",
       " (215, 19),\n",
       " (238, 19),\n",
       " (236, 18),\n",
       " (247, 18),\n",
       " (235, 18),\n",
       " (229, 18),\n",
       " (244, 18),\n",
       " (228, 17),\n",
       " (260, 17),\n",
       " (262, 16),\n",
       " (258, 16),\n",
       " (240, 16),\n",
       " (239, 16),\n",
       " (250, 16),\n",
       " (266, 16),\n",
       " (265, 15),\n",
       " (282, 15),\n",
       " (221, 15),\n",
       " (256, 15),\n",
       " (242, 15),\n",
       " (251, 14),\n",
       " (274, 14),\n",
       " (295, 14),\n",
       " (227, 14),\n",
       " (243, 14),\n",
       " (249, 14),\n",
       " (276, 14),\n",
       " (267, 13),\n",
       " (284, 13),\n",
       " (271, 13),\n",
       " (252, 13),\n",
       " (270, 12),\n",
       " (257, 12),\n",
       " (269, 12),\n",
       " (231, 12),\n",
       " (277, 12),\n",
       " (310, 12),\n",
       " (246, 11),\n",
       " (325, 11),\n",
       " (248, 11),\n",
       " (268, 11),\n",
       " (255, 11),\n",
       " (259, 11),\n",
       " (293, 11),\n",
       " (273, 11),\n",
       " (297, 11),\n",
       " (286, 11),\n",
       " (272, 11),\n",
       " (253, 10),\n",
       " (292, 10),\n",
       " (312, 10),\n",
       " (241, 10),\n",
       " (245, 10),\n",
       " (237, 10),\n",
       " (296, 10),\n",
       " (289, 10),\n",
       " (309, 10),\n",
       " (275, 10),\n",
       " (332, 10),\n",
       " (254, 9),\n",
       " (280, 9),\n",
       " (261, 9),\n",
       " (278, 9),\n",
       " (314, 9),\n",
       " (303, 9),\n",
       " (279, 8),\n",
       " (328, 8),\n",
       " (308, 8),\n",
       " (311, 8),\n",
       " (322, 8),\n",
       " (285, 8),\n",
       " (301, 8),\n",
       " (326, 8),\n",
       " (342, 8),\n",
       " (299, 8),\n",
       " (320, 7),\n",
       " (291, 7),\n",
       " (336, 7),\n",
       " (359, 7),\n",
       " (263, 7),\n",
       " (364, 7),\n",
       " (264, 7),\n",
       " (346, 6),\n",
       " (304, 6),\n",
       " (372, 6),\n",
       " (347, 6),\n",
       " (392, 6),\n",
       " (324, 6),\n",
       " (298, 6),\n",
       " (316, 6),\n",
       " (351, 6),\n",
       " (335, 6),\n",
       " (338, 6),\n",
       " (318, 6),\n",
       " (350, 6),\n",
       " (306, 6),\n",
       " (387, 6),\n",
       " (379, 6),\n",
       " (307, 6),\n",
       " (290, 6),\n",
       " (419, 6),\n",
       " (317, 5),\n",
       " (321, 5),\n",
       " (362, 5),\n",
       " (357, 5),\n",
       " (349, 5),\n",
       " (396, 5),\n",
       " (377, 5),\n",
       " (327, 5),\n",
       " (437, 5),\n",
       " (354, 5),\n",
       " (331, 5),\n",
       " (376, 5),\n",
       " (339, 5),\n",
       " (343, 5),\n",
       " (300, 5),\n",
       " (288, 5),\n",
       " (411, 4),\n",
       " (412, 4),\n",
       " (352, 4),\n",
       " (416, 4),\n",
       " (374, 4),\n",
       " (382, 4),\n",
       " (319, 4),\n",
       " (333, 4),\n",
       " (429, 4),\n",
       " (368, 4),\n",
       " (404, 4),\n",
       " (365, 4),\n",
       " (386, 4),\n",
       " (313, 4),\n",
       " (421, 4),\n",
       " (281, 4),\n",
       " (344, 4),\n",
       " (378, 4),\n",
       " (433, 3),\n",
       " (418, 3),\n",
       " (391, 3),\n",
       " (337, 3),\n",
       " (455, 3),\n",
       " (405, 3),\n",
       " (381, 3),\n",
       " (470, 3),\n",
       " (620, 3),\n",
       " (400, 3),\n",
       " (294, 3),\n",
       " (537, 3),\n",
       " (341, 3),\n",
       " (410, 3),\n",
       " (485, 3),\n",
       " (403, 3),\n",
       " (460, 3),\n",
       " (330, 3),\n",
       " (393, 3),\n",
       " (370, 3),\n",
       " (323, 3),\n",
       " (385, 3),\n",
       " (406, 3),\n",
       " (360, 3),\n",
       " (315, 3),\n",
       " (302, 3),\n",
       " (444, 3),\n",
       " (395, 3),\n",
       " (407, 3),\n",
       " (413, 3),\n",
       " (531, 3),\n",
       " (305, 3),\n",
       " (329, 3),\n",
       " (399, 3),\n",
       " (390, 3),\n",
       " (389, 3),\n",
       " (397, 3),\n",
       " (417, 3),\n",
       " (287, 3),\n",
       " (348, 3),\n",
       " (402, 2),\n",
       " (434, 2),\n",
       " (467, 2),\n",
       " (371, 2),\n",
       " (414, 2),\n",
       " (552, 2),\n",
       " (483, 2),\n",
       " (533, 2),\n",
       " (550, 2),\n",
       " (334, 2),\n",
       " (442, 2),\n",
       " (730, 2),\n",
       " (500, 2),\n",
       " (629, 2),\n",
       " (745, 2),\n",
       " (345, 2),\n",
       " (440, 2),\n",
       " (356, 2),\n",
       " (431, 2),\n",
       " (428, 2),\n",
       " (415, 2),\n",
       " (482, 2),\n",
       " (426, 2),\n",
       " (408, 2),\n",
       " (456, 2),\n",
       " (574, 2),\n",
       " (461, 2),\n",
       " (409, 2),\n",
       " (401, 2),\n",
       " (363, 2),\n",
       " (472, 2),\n",
       " (447, 2),\n",
       " (450, 2),\n",
       " (283, 2),\n",
       " (528, 2),\n",
       " (432, 2),\n",
       " (471, 2),\n",
       " (484, 2),\n",
       " (466, 2),\n",
       " (373, 2),\n",
       " (514, 2),\n",
       " (610, 2),\n",
       " (489, 2),\n",
       " (463, 2),\n",
       " (495, 2),\n",
       " (436, 2),\n",
       " (706, 1),\n",
       " (558, 1),\n",
       " (366, 1),\n",
       " (497, 1),\n",
       " (448, 1),\n",
       " (1120, 1),\n",
       " (517, 1),\n",
       " (516, 1),\n",
       " (810, 1),\n",
       " (430, 1),\n",
       " (830, 1),\n",
       " (555, 1),\n",
       " (564, 1),\n",
       " (544, 1),\n",
       " (924, 1),\n",
       " (355, 1),\n",
       " (623, 1),\n",
       " (980, 1),\n",
       " (449, 1),\n",
       " (453, 1),\n",
       " (446, 1),\n",
       " (457, 1),\n",
       " (496, 1),\n",
       " (532, 1),\n",
       " (1055, 1),\n",
       " (509, 1),\n",
       " (592, 1),\n",
       " (571, 1),\n",
       " (510, 1),\n",
       " (547, 1),\n",
       " (728, 1),\n",
       " (380, 1),\n",
       " (358, 1),\n",
       " (908, 1),\n",
       " (634, 1),\n",
       " (568, 1),\n",
       " (632, 1),\n",
       " (511, 1),\n",
       " (855, 1),\n",
       " (2659, 1),\n",
       " (734, 1),\n",
       " (361, 1),\n",
       " (424, 1),\n",
       " (626, 1),\n",
       " (459, 1),\n",
       " (388, 1),\n",
       " (680, 1),\n",
       " (427, 1),\n",
       " (603, 1),\n",
       " (566, 1),\n",
       " (492, 1),\n",
       " (501, 1),\n",
       " (693, 1),\n",
       " (1170, 1),\n",
       " (1853, 1),\n",
       " (454, 1),\n",
       " (591, 1),\n",
       " (565, 1),\n",
       " (490, 1),\n",
       " (481, 1),\n",
       " (622, 1),\n",
       " (604, 1),\n",
       " (503, 1),\n",
       " (704, 1),\n",
       " (639, 1),\n",
       " (1193, 1),\n",
       " (545, 1),\n",
       " (577, 1),\n",
       " (695, 1),\n",
       " (607, 1),\n",
       " (367, 1),\n",
       " (694, 1),\n",
       " (562, 1),\n",
       " (1482, 1),\n",
       " (825, 1),\n",
       " (474, 1),\n",
       " (549, 1),\n",
       " (685, 1),\n",
       " (787, 1),\n",
       " (538, 1),\n",
       " (420, 1),\n",
       " (548, 1),\n",
       " (614, 1),\n",
       " (498, 1),\n",
       " (631, 1),\n",
       " (650, 1),\n",
       " (1108, 1),\n",
       " (486, 1),\n",
       " (522, 1),\n",
       " (687, 1),\n",
       " (394, 1),\n",
       " (628, 1),\n",
       " (518, 1),\n",
       " (666, 1),\n",
       " (477, 1),\n",
       " (654, 1),\n",
       " (842, 1),\n",
       " (721, 1),\n",
       " (536, 1),\n",
       " (422, 1),\n",
       " (398, 1),\n",
       " (340, 1),\n",
       " (469, 1),\n",
       " (794, 1),\n",
       " (563, 1),\n",
       " (473, 1),\n",
       " (543, 1),\n",
       " (384, 1),\n",
       " (508, 1),\n",
       " (747, 1),\n",
       " (642, 1),\n",
       " (989, 1),\n",
       " (912, 1),\n",
       " (944, 1),\n",
       " (520, 1),\n",
       " (375, 1),\n",
       " (611, 1),\n",
       " (507, 1),\n",
       " (615, 1),\n",
       " (425, 1),\n",
       " (515, 1),\n",
       " (556, 1),\n",
       " (656, 1),\n",
       " (595, 1),\n",
       " (716, 1),\n",
       " (875, 1),\n",
       " (530, 1),\n",
       " (773, 1),\n",
       " (369, 1),\n",
       " (783, 1),\n",
       " (649, 1),\n",
       " (475, 1),\n",
       " (353, 1)]"
      ]
     },
     "execution_count": 20,
     "metadata": {},
     "output_type": "execute_result"
    }
   ],
   "source": [
    "user_values = get_dd_column(['instanceId_userId', 'feedback']).\\\n",
    "                groupby('instanceId_userId')['instanceId_userId'].count().compute()\n",
    "\n",
    "user_values = Counter(user_values)\n",
    "user_values.most_common()"
   ]
  },
  {
   "cell_type": "code",
   "execution_count": 21,
   "metadata": {},
   "outputs": [
    {
     "data": {
      "text/plain": [
       "[<matplotlib.lines.Line2D at 0x7f878db60c88>]"
      ]
     },
     "execution_count": 21,
     "metadata": {},
     "output_type": "execute_result"
    },
    {
     "data": {
      "image/png": "[encoded data removed]",
      "text/plain": [
       "<Figure size 432x288 with 1 Axes>"
      ]
     },
     "metadata": {
      "needs_background": "light"
     },
     "output_type": "display_data"
    }
   ],
   "source": [
    "# в % \n",
    "user_activity = list(zip(*user_values.most_common()))\n",
    "perc = np.array(user_activity[1])/np.array(user_activity[1]).sum()*100\n",
    "plt.plot(perc[:40])"
   ]
  },
  {
   "cell_type": "code",
   "execution_count": 22,
   "metadata": {},
   "outputs": [
    {
     "data": {
      "text/plain": [
       "[<matplotlib.lines.Line2D at 0x7f87e1733748>]"
      ]
     },
     "execution_count": 22,
     "metadata": {},
     "output_type": "execute_result"
    },
    {
     "data": {
      "image/png": "[encoded data removed]",
      "text/plain": [
       "<Figure size 432x288 with 1 Axes>"
      ]
     },
     "metadata": {
      "needs_background": "light"
     },
     "output_type": "display_data"
    }
   ],
   "source": [
    "#Кол-во оценок на пользователя\n",
    "user_act = list(user_activity[0])\n",
    "user_act.sort()\n",
    "plt.plot(user_act)"
   ]
  },
  {
   "cell_type": "code",
   "execution_count": 23,
   "metadata": {},
   "outputs": [
    {
     "data": {
      "text/plain": [
       "54.47956975142651"
      ]
     },
     "execution_count": 23,
     "metadata": {},
     "output_type": "execute_result"
    }
   ],
   "source": [
    "sum(perc[:4])"
   ]
  },
  {
   "cell_type": "markdown",
   "metadata": {},
   "source": [
    "- Преобладающее большинство пользователей ставят от 1 до 3-х оценок\n",
    "- Более 50% пользователей ставят от 1 до 5 оценок.\n",
    "- Большинство пользователей - 17% ставят 2 оценки\n",
    "- Есть пользователи с аномальным кол-вом оценок больше 1000 -видимо это боты"
   ]
  },
  {
   "cell_type": "markdown",
   "metadata": {},
   "source": [
    "### Анализ активности пользователей по времени"
   ]
  },
  {
   "cell_type": "code",
   "execution_count": 24,
   "metadata": {
    "scrolled": true
   },
   "outputs": [
    {
     "name": "stdout",
     "output_type": "stream",
     "text": [
      "CPU times: user 6min 27s, sys: 13.1 s, total: 6min 40s\n",
      "Wall time: 6min 23s\n"
     ]
    }
   ],
   "source": [
    "%%time\n",
    "from datetime import datetime, date\n",
    "\n",
    "user_date_time = get_dd_column(['audit_timestamp', 'instanceId_userId'])\n",
    "user_date_time['audit_timestamp'] = user_date_time['audit_timestamp']\\\n",
    "                .map(lambda x:  datetime.fromtimestamp(x//1000))\n",
    "user_date_time['month_day'] = user_date_time['audit_timestamp']\\\n",
    "                .map(lambda x: str(x.month)+'_'+str(x.day))\n",
    "user_date_time['hour'] = user_date_time['audit_timestamp']\\\n",
    "                .map(lambda x: x.hour)\n",
    "user_date_time['weekday'] = user_date_time['audit_timestamp']\\\n",
    "                .map(lambda x: x.weekday())\n",
    "user_date_time = user_date_time.compute()"
   ]
  },
  {
   "cell_type": "code",
   "execution_count": 25,
   "metadata": {},
   "outputs": [
    {
     "name": "stdout",
     "output_type": "stream",
     "text": [
      "CPU times: user 3.52 s, sys: 925 ms, total: 4.44 s\n",
      "Wall time: 3.4 s\n"
     ]
    },
    {
     "data": {
      "image/png": "[encoded data removed]",
      "text/plain": [
       "<Figure size 432x288 with 1 Axes>"
      ]
     },
     "metadata": {
      "needs_background": "light"
     },
     "output_type": "display_data"
    }
   ],
   "source": [
    "%%time\n",
    "month_day = user_date_time.groupby('month_day')['month_day'].count()\n",
    "month_day.plot(kind='bar')"
   ]
  },
  {
   "cell_type": "code",
   "execution_count": 26,
   "metadata": {},
   "outputs": [
    {
     "name": "stdout",
     "output_type": "stream",
     "text": [
      "CPU times: user 1.19 s, sys: 540 ms, total: 1.73 s\n",
      "Wall time: 970 ms\n"
     ]
    },
    {
     "data": {
      "image/png": "[encoded data removed]",
      "text/plain": [
       "<Figure size 432x288 with 1 Axes>"
      ]
     },
     "metadata": {
      "needs_background": "light"
     },
     "output_type": "display_data"
    }
   ],
   "source": [
    "%%time\n",
    "hours = user_date_time.groupby('hour')['hour'].count()\n",
    "hours.plot(kind='bar')"
   ]
  },
  {
   "cell_type": "code",
   "execution_count": 27,
   "metadata": {},
   "outputs": [
    {
     "name": "stdout",
     "output_type": "stream",
     "text": [
      "CPU times: user 943 ms, sys: 532 ms, total: 1.48 s\n",
      "Wall time: 731 ms\n"
     ]
    },
    {
     "data": {
      "image/png": "[encoded data removed]",
      "text/plain": [
       "<Figure size 432x288 with 1 Axes>"
      ]
     },
     "metadata": {
      "needs_background": "light"
     },
     "output_type": "display_data"
    }
   ],
   "source": [
    "%%time\n",
    "weekdays = user_date_time.groupby('weekday')['weekday'].count()\n",
    "weekdays.plot(kind='bar')"
   ]
  },
  {
   "cell_type": "code",
   "execution_count": 28,
   "metadata": {},
   "outputs": [],
   "source": [
    "client.cancel(user_date_time)\n",
    "user_date_time = None\n",
    "month_day = None\n",
    "hours = None\n",
    "weekdays = None"
   ]
  },
  {
   "cell_type": "markdown",
   "metadata": {},
   "source": [
    "- каких-то существенных аномальных перекосов в пользовательской активности не выявлено\n",
    "- видны недельные циклы пользовательской активности\n",
    "- ожидалось что в даты близкие к 8 марта и 23 февраля могут быть какие нибудь аномальные активности, но эта гипотеза не подтвердилась"
   ]
  },
  {
   "cell_type": "markdown",
   "metadata": {},
   "source": [
    "# Подготовка тренировочного и валидационного датасета"
   ]
  },
  {
   "cell_type": "markdown",
   "metadata": {},
   "source": [
    "### Семплирование обучающего датасета\n",
    "- Использовать весь датасет для обучения не рентабельно, поэтому просемплируем рандомно небольшую выборку размером с 1,5 млн записей"
   ]
  },
  {
   "cell_type": "code",
   "execution_count": 35,
   "metadata": {
    "scrolled": true
   },
   "outputs": [
    {
     "data": {
      "application/vnd.jupyter.widget-view+json": {
       "model_id": "eec86f73ced74bf99acc74f6047c529a",
       "version_major": 2,
       "version_minor": 0
      },
      "text/plain": [
       "HBox(children=(IntProgress(value=0, max=48), HTML(value='')))"
      ]
     },
     "metadata": {},
     "output_type": "display_data"
    },
    {
     "name": "stdout",
     "output_type": "stream",
     "text": [
      "\n"
     ]
    }
   ],
   "source": [
    "train_dataset = df(columns=min_ds.columns)\n",
    "sample_size = 1500000//len(train_col_dirs)\n",
    "\n",
    "for file in tqdm_notebook(train_col_dirs):\n",
    "    train_dataset = pd.concat([train_dataset, pq.read_table(file+'/').to_pandas()\\\n",
    "                       .sample(n=sample_size, random_state=10)], ignore_index=True)"
   ]
  },
  {
   "cell_type": "markdown",
   "metadata": {},
   "source": [
    "### Информация о частоте использования контента в процессе в заимодейстивя пользователя с ресурсом"
   ]
  },
  {
   "cell_type": "markdown",
   "metadata": {},
   "source": [
    "- В данных содержится информация посещениях пользователя в разное время. \n",
    "- В разные моменты времени кол-во информации о посещенном и оцененном контенте разное. \n",
    "- Поскольку это может сильно влиять на точность модели - то это обстоятельство надо учесть и ввести переменную user_activity."
   ]
  },
  {
   "cell_type": "code",
   "execution_count": 30,
   "metadata": {},
   "outputs": [],
   "source": [
    "#добавляем перемнную учета пользовательской активности(кол-ва просмотренных обьектов) на текущий момент \n",
    "def add_user_activity(data):\n",
    "    data['user_activity'] = 1\n",
    "    data['user_activity'] = data.groupby('instanceId_userId')['user_activity'].cumsum()\n",
    "    return data"
   ]
  },
  {
   "cell_type": "code",
   "execution_count": 31,
   "metadata": {},
   "outputs": [],
   "source": [
    "def metadata_options_binaryze(data):\n",
    "    metadata_dict = [Counter(x) for x in tqdm_notebook(data['metadata_options'])]\n",
    "    return df(metadata_dict).fillna(0).astype(int).astype(object)#специально перекодируем в категориальную переменную"
   ]
  },
  {
   "cell_type": "code",
   "execution_count": 37,
   "metadata": {},
   "outputs": [],
   "source": [
    "# train_dataset = pd.concat([train_dataset, metadata_options_binaryze(train_dataset)], axis=1)\n",
    "# train_dataset.drop(['metadata_options'], axis=1,  inplace=True)"
   ]
  },
  {
   "cell_type": "code",
   "execution_count": 33,
   "metadata": {},
   "outputs": [],
   "source": [
    "def preprocessing(data):\n",
    "    #сортируем по времени\n",
    "    data.sort_values(by=['audit_timestamp'], inplace=True)\n",
    "    #добавляем пользовательскую активность\n",
    "    data = add_user_activity(data)\n",
    "    #бинаризация 'metadata_options'\n",
    "    data = pd.concat([data, metadata_options_binaryze(data)], axis=1)\n",
    "    data.drop(['metadata_options'], axis=1,  inplace=True)\n",
    "    \n",
    "    return data"
   ]
  },
  {
   "cell_type": "code",
   "execution_count": 36,
   "metadata": {},
   "outputs": [
    {
     "data": {
      "application/vnd.jupyter.widget-view+json": {
       "model_id": "cc735274ed19444291c9df5682dda148",
       "version_major": 2,
       "version_minor": 0
      },
      "text/plain": [
       "HBox(children=(IntProgress(value=0, max=1500000), HTML(value='')))"
      ]
     },
     "metadata": {},
     "output_type": "display_data"
    },
    {
     "name": "stdout",
     "output_type": "stream",
     "text": [
      "\n"
     ]
    },
    {
     "name": "stderr",
     "output_type": "stream",
     "text": [
      "distributed.worker - WARNING - Memory use is high but worker has no data to store to disk.  Perhaps some other process is leaking memory?  Process memory: 14.37 GB -- Worker memory limit: 20.00 GB\n"
     ]
    }
   ],
   "source": [
    "train_dataset = preprocessing(train_dataset)"
   ]
  },
  {
   "cell_type": "code",
   "execution_count": 38,
   "metadata": {},
   "outputs": [
    {
     "data": {
      "text/plain": [
       "0"
      ]
     },
     "execution_count": 38,
     "metadata": {},
     "output_type": "execute_result"
    }
   ],
   "source": [
    "## Рассчитываем таргет переменную, запоняем пропуски\n",
    "target = train_dataset['feedback'].map(lambda x: 1 if 'Liked' in x else 0).values\n",
    "\n",
    "train_dataset.drop(['feedback'], axis=1, inplace=True)\n",
    "train_dataset.fillna(0, inplace=True)\n",
    "## Проверка\n",
    "train_dataset.isna().sum().sum()"
   ]
  },
  {
   "cell_type": "code",
   "execution_count": 39,
   "metadata": {},
   "outputs": [],
   "source": [
    "from sklearn.model_selection import train_test_split\n",
    "\n",
    "X_train, X_valid, y_train, y_valid = train_test_split(train_dataset, target, test_size=0.30, random_state=42, stratify=target)\n",
    "\n",
    "X_train.reset_index(inplace=True)\n",
    "X_valid.reset_index(inplace=True)"
   ]
  },
  {
   "cell_type": "code",
   "execution_count": 40,
   "metadata": {
    "scrolled": true
   },
   "outputs": [
    {
     "name": "stderr",
     "output_type": "stream",
     "text": [
      "distributed.worker - WARNING - Memory use is high but worker has no data to store to disk.  Perhaps some other process is leaking memory?  Process memory: 14.26 GB -- Worker memory limit: 20.00 GB\n",
      "distributed.worker - WARNING - Memory use is high but worker has no data to store to disk.  Perhaps some other process is leaking memory?  Process memory: 14.26 GB -- Worker memory limit: 20.00 GB\n",
      "distributed.worker - WARNING - Memory use is high but worker has no data to store to disk.  Perhaps some other process is leaking memory?  Process memory: 14.26 GB -- Worker memory limit: 20.00 GB\n",
      "distributed.worker - WARNING - Memory use is high but worker has no data to store to disk.  Perhaps some other process is leaking memory?  Process memory: 14.26 GB -- Worker memory limit: 20.00 GB\n",
      "distributed.worker - WARNING - Memory use is high but worker has no data to store to disk.  Perhaps some other process is leaking memory?  Process memory: 14.27 GB -- Worker memory limit: 20.00 GB\n",
      "distributed.worker - WARNING - Memory use is high but worker has no data to store to disk.  Perhaps some other process is leaking memory?  Process memory: 14.27 GB -- Worker memory limit: 20.00 GB\n",
      "distributed.worker - WARNING - Memory use is high but worker has no data to store to disk.  Perhaps some other process is leaking memory?  Process memory: 14.27 GB -- Worker memory limit: 20.00 GB\n",
      "distributed.worker - WARNING - Memory use is high but worker has no data to store to disk.  Perhaps some other process is leaking memory?  Process memory: 14.27 GB -- Worker memory limit: 20.00 GB\n",
      "distributed.worker - WARNING - Memory use is high but worker has no data to store to disk.  Perhaps some other process is leaking memory?  Process memory: 14.27 GB -- Worker memory limit: 20.00 GB\n",
      "distributed.worker - WARNING - Memory use is high but worker has no data to store to disk.  Perhaps some other process is leaking memory?  Process memory: 14.27 GB -- Worker memory limit: 20.00 GB\n",
      "distributed.worker - WARNING - Memory use is high but worker has no data to store to disk.  Perhaps some other process is leaking memory?  Process memory: 14.27 GB -- Worker memory limit: 20.00 GB\n",
      "distributed.worker - WARNING - Memory use is high but worker has no data to store to disk.  Perhaps some other process is leaking memory?  Process memory: 14.28 GB -- Worker memory limit: 20.00 GB\n",
      "distributed.worker - WARNING - Memory use is high but worker has no data to store to disk.  Perhaps some other process is leaking memory?  Process memory: 14.28 GB -- Worker memory limit: 20.00 GB\n",
      "distributed.worker - WARNING - Memory use is high but worker has no data to store to disk.  Perhaps some other process is leaking memory?  Process memory: 14.28 GB -- Worker memory limit: 20.00 GB\n",
      "distributed.worker - WARNING - Memory use is high but worker has no data to store to disk.  Perhaps some other process is leaking memory?  Process memory: 14.28 GB -- Worker memory limit: 20.00 GB\n",
      "distributed.worker - WARNING - Memory use is high but worker has no data to store to disk.  Perhaps some other process is leaking memory?  Process memory: 14.28 GB -- Worker memory limit: 20.00 GB\n",
      "distributed.worker - WARNING - Memory use is high but worker has no data to store to disk.  Perhaps some other process is leaking memory?  Process memory: 14.35 GB -- Worker memory limit: 20.00 GB\n",
      "distributed.worker - WARNING - Memory use is high but worker has no data to store to disk.  Perhaps some other process is leaking memory?  Process memory: 14.35 GB -- Worker memory limit: 20.00 GB\n",
      "distributed.worker - WARNING - Memory use is high but worker has no data to store to disk.  Perhaps some other process is leaking memory?  Process memory: 14.35 GB -- Worker memory limit: 20.00 GB\n",
      "distributed.worker - WARNING - Memory use is high but worker has no data to store to disk.  Perhaps some other process is leaking memory?  Process memory: 14.35 GB -- Worker memory limit: 20.00 GB\n",
      "distributed.worker - WARNING - Memory use is high but worker has no data to store to disk.  Perhaps some other process is leaking memory?  Process memory: 14.35 GB -- Worker memory limit: 20.00 GB\n",
      "distributed.worker - WARNING - Memory use is high but worker has no data to store to disk.  Perhaps some other process is leaking memory?  Process memory: 14.35 GB -- Worker memory limit: 20.00 GB\n",
      "distributed.worker - WARNING - Memory use is high but worker has no data to store to disk.  Perhaps some other process is leaking memory?  Process memory: 14.36 GB -- Worker memory limit: 20.00 GB\n",
      "distributed.worker - WARNING - Memory use is high but worker has no data to store to disk.  Perhaps some other process is leaking memory?  Process memory: 14.36 GB -- Worker memory limit: 20.00 GB\n",
      "distributed.worker - WARNING - Memory use is high but worker has no data to store to disk.  Perhaps some other process is leaking memory?  Process memory: 14.36 GB -- Worker memory limit: 20.00 GB\n",
      "distributed.worker - WARNING - Memory use is high but worker has no data to store to disk.  Perhaps some other process is leaking memory?  Process memory: 14.36 GB -- Worker memory limit: 20.00 GB\n",
      "distributed.worker - WARNING - Memory use is high but worker has no data to store to disk.  Perhaps some other process is leaking memory?  Process memory: 14.36 GB -- Worker memory limit: 20.00 GB\n",
      "distributed.worker - WARNING - Memory use is high but worker has no data to store to disk.  Perhaps some other process is leaking memory?  Process memory: 14.36 GB -- Worker memory limit: 20.00 GB\n",
      "distributed.worker - WARNING - Memory use is high but worker has no data to store to disk.  Perhaps some other process is leaking memory?  Process memory: 14.36 GB -- Worker memory limit: 20.00 GB\n",
      "distributed.worker - WARNING - Memory use is high but worker has no data to store to disk.  Perhaps some other process is leaking memory?  Process memory: 14.36 GB -- Worker memory limit: 20.00 GB\n",
      "distributed.worker - WARNING - Memory use is high but worker has no data to store to disk.  Perhaps some other process is leaking memory?  Process memory: 14.37 GB -- Worker memory limit: 20.00 GB\n",
      "distributed.worker - WARNING - Memory use is high but worker has no data to store to disk.  Perhaps some other process is leaking memory?  Process memory: 14.37 GB -- Worker memory limit: 20.00 GB\n",
      "distributed.worker - WARNING - Memory use is high but worker has no data to store to disk.  Perhaps some other process is leaking memory?  Process memory: 14.44 GB -- Worker memory limit: 20.00 GB\n",
      "distributed.worker - WARNING - Memory use is high but worker has no data to store to disk.  Perhaps some other process is leaking memory?  Process memory: 14.44 GB -- Worker memory limit: 20.00 GB\n",
      "distributed.worker - WARNING - Memory use is high but worker has no data to store to disk.  Perhaps some other process is leaking memory?  Process memory: 14.44 GB -- Worker memory limit: 20.00 GB\n",
      "distributed.worker - WARNING - Memory use is high but worker has no data to store to disk.  Perhaps some other process is leaking memory?  Process memory: 14.44 GB -- Worker memory limit: 20.00 GB\n",
      "distributed.worker - WARNING - Memory use is high but worker has no data to store to disk.  Perhaps some other process is leaking memory?  Process memory: 14.44 GB -- Worker memory limit: 20.00 GB\n",
      "distributed.worker - WARNING - Memory use is high but worker has no data to store to disk.  Perhaps some other process is leaking memory?  Process memory: 14.44 GB -- Worker memory limit: 20.00 GB\n",
      "distributed.worker - WARNING - Memory use is high but worker has no data to store to disk.  Perhaps some other process is leaking memory?  Process memory: 14.45 GB -- Worker memory limit: 20.00 GB\n",
      "distributed.worker - WARNING - Memory use is high but worker has no data to store to disk.  Perhaps some other process is leaking memory?  Process memory: 14.45 GB -- Worker memory limit: 20.00 GB\n",
      "distributed.worker - WARNING - Memory use is high but worker has no data to store to disk.  Perhaps some other process is leaking memory?  Process memory: 14.46 GB -- Worker memory limit: 20.00 GB\n",
      "distributed.worker - WARNING - Memory use is high but worker has no data to store to disk.  Perhaps some other process is leaking memory?  Process memory: 14.46 GB -- Worker memory limit: 20.00 GB\n"
     ]
    },
    {
     "name": "stderr",
     "output_type": "stream",
     "text": [
      "distributed.worker - WARNING - Memory use is high but worker has no data to store to disk.  Perhaps some other process is leaking memory?  Process memory: 14.46 GB -- Worker memory limit: 20.00 GB\n",
      "distributed.worker - WARNING - Memory use is high but worker has no data to store to disk.  Perhaps some other process is leaking memory?  Process memory: 14.46 GB -- Worker memory limit: 20.00 GB\n",
      "distributed.worker - WARNING - Memory use is high but worker has no data to store to disk.  Perhaps some other process is leaking memory?  Process memory: 14.46 GB -- Worker memory limit: 20.00 GB\n",
      "distributed.worker - WARNING - Memory use is high but worker has no data to store to disk.  Perhaps some other process is leaking memory?  Process memory: 14.46 GB -- Worker memory limit: 20.00 GB\n",
      "distributed.worker - WARNING - Memory use is high but worker has no data to store to disk.  Perhaps some other process is leaking memory?  Process memory: 14.46 GB -- Worker memory limit: 20.00 GB\n",
      "distributed.worker - WARNING - Memory use is high but worker has no data to store to disk.  Perhaps some other process is leaking memory?  Process memory: 14.46 GB -- Worker memory limit: 20.00 GB\n",
      "distributed.worker - WARNING - Memory use is high but worker has no data to store to disk.  Perhaps some other process is leaking memory?  Process memory: 14.46 GB -- Worker memory limit: 20.00 GB\n",
      "distributed.worker - WARNING - Memory use is high but worker has no data to store to disk.  Perhaps some other process is leaking memory?  Process memory: 14.46 GB -- Worker memory limit: 20.00 GB\n",
      "distributed.worker - WARNING - Memory use is high but worker has no data to store to disk.  Perhaps some other process is leaking memory?  Process memory: 14.46 GB -- Worker memory limit: 20.00 GB\n",
      "distributed.worker - WARNING - Memory use is high but worker has no data to store to disk.  Perhaps some other process is leaking memory?  Process memory: 14.46 GB -- Worker memory limit: 20.00 GB\n",
      "distributed.worker - WARNING - Memory use is high but worker has no data to store to disk.  Perhaps some other process is leaking memory?  Process memory: 14.46 GB -- Worker memory limit: 20.00 GB\n",
      "distributed.worker - WARNING - Memory use is high but worker has no data to store to disk.  Perhaps some other process is leaking memory?  Process memory: 14.46 GB -- Worker memory limit: 20.00 GB\n",
      "distributed.worker - WARNING - Memory use is high but worker has no data to store to disk.  Perhaps some other process is leaking memory?  Process memory: 14.46 GB -- Worker memory limit: 20.00 GB\n",
      "distributed.worker - WARNING - Memory use is high but worker has no data to store to disk.  Perhaps some other process is leaking memory?  Process memory: 14.46 GB -- Worker memory limit: 20.00 GB\n"
     ]
    }
   ],
   "source": [
    "import pickle\n",
    "\n",
    "def pickle_files(data, name):\n",
    "    with open(name+'.pcl', 'wb') as f:\n",
    "        pickle.dump(data, f)\n",
    "        \n",
    "pickle_files((X_train, y_train), 'train_dataset')\n",
    "pickle_files((X_valid, y_valid), 'valid_dataset')"
   ]
  },
  {
   "cell_type": "code",
   "execution_count": 43,
   "metadata": {},
   "outputs": [],
   "source": [
    "X_train, y_train, y_valid, train_dataset, target = None, None, None, None, None"
   ]
  },
  {
   "cell_type": "markdown",
   "metadata": {},
   "source": [
    "# Подготовка тестового датасета"
   ]
  },
  {
   "cell_type": "code",
   "execution_count": null,
   "metadata": {},
   "outputs": [],
   "source": [
    "test_dataset = pq.read_table(dataset_dir+'/test/').to_pandas(use_threads=8)\n",
    "test_dataset.shape"
   ]
  },
  {
   "cell_type": "code",
   "execution_count": null,
   "metadata": {},
   "outputs": [],
   "source": [
    "#непересекующиеся столбцы в 2-х датасетах\n",
    "set(X_valid.columns)^set(test_dataset.columns)"
   ]
  },
  {
   "cell_type": "code",
   "execution_count": null,
   "metadata": {
    "scrolled": true
   },
   "outputs": [],
   "source": [
    "test_dataset = preprocessing(test_dataset)"
   ]
  }
 ],
 "metadata": {
  "kernelspec": {
   "display_name": "Python 3",
   "language": "python",
   "name": "python3"
  },
  "language_info": {
   "codemirror_mode": {
    "name": "ipython",
    "version": 3
   },
   "file_extension": ".py",
   "mimetype": "text/x-python",
   "name": "python",
   "nbconvert_exporter": "python",
   "pygments_lexer": "ipython3",
   "version": "3.6.7"
  },
  "toc": {
   "base_numbering": 1,
   "nav_menu": {},
   "number_sections": false,
   "sideBar": false,
   "skip_h1_title": false,
   "title_cell": "Table of Contents",
   "title_sidebar": "Contents",
   "toc_cell": false,
   "toc_position": {},
   "toc_section_display": false,
   "toc_window_display": false
  }
 },
 "nbformat": 4,
 "nbformat_minor": 2
}
