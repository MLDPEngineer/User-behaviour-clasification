{
 "cells": [
  {
   "cell_type": "code",
   "execution_count": 1,
   "metadata": {},
   "outputs": [],
   "source": [
    "import numpy as np\n",
    "import pandas as pd\n",
    "from pandas import DataFrame as df\n",
    "# import glob\n",
    "# from collections import Counter\n",
    "# from tqdm import tqdm, tqdm_notebook\n",
    "import pickle\n",
    "from catboost import CatBoostClassifier, Pool\n",
    "import pyarrow.parquet as pq"
   ]
  },
  {
   "cell_type": "code",
   "execution_count": 2,
   "metadata": {},
   "outputs": [],
   "source": [
    "def unpickle_file(file):\n",
    "    with open(file, 'rb') as f:\n",
    "        return pickle.load(f)"
   ]
  },
  {
   "cell_type": "code",
   "execution_count": 3,
   "metadata": {},
   "outputs": [
    {
     "name": "stdout",
     "output_type": "stream",
     "text": [
      "CPU times: user 13.9 s, sys: 3.38 s, total: 17.2 s\n",
      "Wall time: 20.3 s\n"
     ]
    }
   ],
   "source": [
    "%%time\n",
    "X_train, y_train = unpickle_file('train_dataset.pcl')\n",
    "X_valid, y_valid = unpickle_file('valid_dataset.pcl')\n",
    "X_test = unpickle_file('test_dataset.pcl')"
   ]
  },
  {
   "cell_type": "code",
   "execution_count": 4,
   "metadata": {},
   "outputs": [
    {
     "data": {
      "text/html": [
       "<div>\n",
       "<style scoped>\n",
       "    .dataframe tbody tr th:only-of-type {\n",
       "        vertical-align: middle;\n",
       "    }\n",
       "\n",
       "    .dataframe tbody tr th {\n",
       "        vertical-align: top;\n",
       "    }\n",
       "\n",
       "    .dataframe thead th {\n",
       "        text-align: right;\n",
       "    }\n",
       "</style>\n",
       "<table border=\"1\" class=\"dataframe\">\n",
       "  <thead>\n",
       "    <tr style=\"text-align: right;\">\n",
       "      <th></th>\n",
       "      <th>instanceId_userId</th>\n",
       "      <th>instanceId_objectType</th>\n",
       "      <th>instanceId_objectId</th>\n",
       "      <th>audit_pos</th>\n",
       "      <th>audit_clientType</th>\n",
       "      <th>audit_timestamp</th>\n",
       "      <th>audit_timePassed</th>\n",
       "      <th>audit_resourceType</th>\n",
       "      <th>metadata_ownerId</th>\n",
       "      <th>metadata_ownerType</th>\n",
       "      <th>...</th>\n",
       "      <th>HAS_VIDEOS</th>\n",
       "      <th>IS_CENSORED</th>\n",
       "      <th>IS_DISGUSTING</th>\n",
       "      <th>IS_EXTERNAL_SHARE</th>\n",
       "      <th>IS_GIF</th>\n",
       "      <th>IS_INTERNAL_GROUP_SHARE</th>\n",
       "      <th>IS_INTERNAL_SHARE</th>\n",
       "      <th>IS_PART_OF_ALBUM</th>\n",
       "      <th>IS_PART_OF_TOPIC</th>\n",
       "      <th>IS_PROMO</th>\n",
       "    </tr>\n",
       "  </thead>\n",
       "  <tbody>\n",
       "    <tr>\n",
       "      <th>0</th>\n",
       "      <td>508328</td>\n",
       "      <td>Post</td>\n",
       "      <td>23153928</td>\n",
       "      <td>1</td>\n",
       "      <td>MOB</td>\n",
       "      <td>1520363859368</td>\n",
       "      <td>614568</td>\n",
       "      <td>8</td>\n",
       "      <td>14428</td>\n",
       "      <td>GROUP_OPEN_OFFICIAL</td>\n",
       "      <td>...</td>\n",
       "      <td>0</td>\n",
       "      <td>0</td>\n",
       "      <td>0</td>\n",
       "      <td>0</td>\n",
       "      <td>0</td>\n",
       "      <td>0</td>\n",
       "      <td>0</td>\n",
       "      <td>0</td>\n",
       "      <td>1</td>\n",
       "      <td>0</td>\n",
       "    </tr>\n",
       "    <tr>\n",
       "      <th>1</th>\n",
       "      <td>12579254</td>\n",
       "      <td>Video</td>\n",
       "      <td>517400</td>\n",
       "      <td>11</td>\n",
       "      <td>WEB</td>\n",
       "      <td>1521568985423</td>\n",
       "      <td>17848919</td>\n",
       "      <td>6</td>\n",
       "      <td>3455</td>\n",
       "      <td>GROUP_OPEN</td>\n",
       "      <td>...</td>\n",
       "      <td>0</td>\n",
       "      <td>0</td>\n",
       "      <td>0</td>\n",
       "      <td>0</td>\n",
       "      <td>0</td>\n",
       "      <td>0</td>\n",
       "      <td>0</td>\n",
       "      <td>0</td>\n",
       "      <td>1</td>\n",
       "      <td>0</td>\n",
       "    </tr>\n",
       "    <tr>\n",
       "      <th>2</th>\n",
       "      <td>4965989</td>\n",
       "      <td>Post</td>\n",
       "      <td>37223618</td>\n",
       "      <td>21</td>\n",
       "      <td>API</td>\n",
       "      <td>1518149398057</td>\n",
       "      <td>76599952</td>\n",
       "      <td>8</td>\n",
       "      <td>79231</td>\n",
       "      <td>GROUP_OPEN_OFFICIAL</td>\n",
       "      <td>...</td>\n",
       "      <td>1</td>\n",
       "      <td>0</td>\n",
       "      <td>0</td>\n",
       "      <td>1</td>\n",
       "      <td>0</td>\n",
       "      <td>0</td>\n",
       "      <td>0</td>\n",
       "      <td>0</td>\n",
       "      <td>1</td>\n",
       "      <td>0</td>\n",
       "    </tr>\n",
       "    <tr>\n",
       "      <th>3</th>\n",
       "      <td>4099766</td>\n",
       "      <td>Post</td>\n",
       "      <td>28873723</td>\n",
       "      <td>6</td>\n",
       "      <td>MOB</td>\n",
       "      <td>1518408049203</td>\n",
       "      <td>28155035</td>\n",
       "      <td>8</td>\n",
       "      <td>75557</td>\n",
       "      <td>GROUP_OPEN_OFFICIAL</td>\n",
       "      <td>...</td>\n",
       "      <td>0</td>\n",
       "      <td>0</td>\n",
       "      <td>0</td>\n",
       "      <td>0</td>\n",
       "      <td>0</td>\n",
       "      <td>0</td>\n",
       "      <td>0</td>\n",
       "      <td>0</td>\n",
       "      <td>1</td>\n",
       "      <td>0</td>\n",
       "    </tr>\n",
       "    <tr>\n",
       "      <th>4</th>\n",
       "      <td>4422422</td>\n",
       "      <td>Post</td>\n",
       "      <td>11752365</td>\n",
       "      <td>2</td>\n",
       "      <td>API</td>\n",
       "      <td>1518442465926</td>\n",
       "      <td>2296891</td>\n",
       "      <td>8</td>\n",
       "      <td>60528</td>\n",
       "      <td>GROUP_OPEN_OFFICIAL</td>\n",
       "      <td>...</td>\n",
       "      <td>1</td>\n",
       "      <td>0</td>\n",
       "      <td>0</td>\n",
       "      <td>1</td>\n",
       "      <td>0</td>\n",
       "      <td>0</td>\n",
       "      <td>0</td>\n",
       "      <td>0</td>\n",
       "      <td>1</td>\n",
       "      <td>0</td>\n",
       "    </tr>\n",
       "  </tbody>\n",
       "</table>\n",
       "<p>5 rows × 124 columns</p>\n",
       "</div>"
      ],
      "text/plain": [
       "   instanceId_userId instanceId_objectType  instanceId_objectId  audit_pos  \\\n",
       "0             508328                  Post             23153928          1   \n",
       "1           12579254                 Video               517400         11   \n",
       "2            4965989                  Post             37223618         21   \n",
       "3            4099766                  Post             28873723          6   \n",
       "4            4422422                  Post             11752365          2   \n",
       "\n",
       "  audit_clientType  audit_timestamp  audit_timePassed  audit_resourceType  \\\n",
       "0              MOB    1520363859368            614568                   8   \n",
       "1              WEB    1521568985423          17848919                   6   \n",
       "2              API    1518149398057          76599952                   8   \n",
       "3              MOB    1518408049203          28155035                   8   \n",
       "4              API    1518442465926           2296891                   8   \n",
       "\n",
       "   metadata_ownerId   metadata_ownerType  ...  HAS_VIDEOS  IS_CENSORED  \\\n",
       "0             14428  GROUP_OPEN_OFFICIAL  ...           0            0   \n",
       "1              3455           GROUP_OPEN  ...           0            0   \n",
       "2             79231  GROUP_OPEN_OFFICIAL  ...           1            0   \n",
       "3             75557  GROUP_OPEN_OFFICIAL  ...           0            0   \n",
       "4             60528  GROUP_OPEN_OFFICIAL  ...           1            0   \n",
       "\n",
       "   IS_DISGUSTING  IS_EXTERNAL_SHARE  IS_GIF  IS_INTERNAL_GROUP_SHARE  \\\n",
       "0              0                  0       0                        0   \n",
       "1              0                  0       0                        0   \n",
       "2              0                  1       0                        0   \n",
       "3              0                  0       0                        0   \n",
       "4              0                  1       0                        0   \n",
       "\n",
       "   IS_INTERNAL_SHARE  IS_PART_OF_ALBUM  IS_PART_OF_TOPIC IS_PROMO  \n",
       "0                  0                 0                 1        0  \n",
       "1                  0                 0                 1        0  \n",
       "2                  0                 0                 1        0  \n",
       "3                  0                 0                 1        0  \n",
       "4                  0                 0                 1        0  \n",
       "\n",
       "[5 rows x 124 columns]"
      ]
     },
     "execution_count": 4,
     "metadata": {},
     "output_type": "execute_result"
    }
   ],
   "source": [
    "X_train.head()"
   ]
  },
  {
   "cell_type": "code",
   "execution_count": null,
   "metadata": {},
   "outputs": [],
   "source": [
    "# audit_timestamp\n",
    "# index\n",
    "# #убираем привязку к конкретному времени\n",
    "# instanceId_objectId\n",
    "# audit_timePassed\n",
    "\n",
    "# #перекодировать\n",
    "# metadata_options\n",
    "\n",
    "# instanceId_objectId - заменить на эмбединги"
   ]
  },
  {
   "cell_type": "code",
   "execution_count": 5,
   "metadata": {},
   "outputs": [],
   "source": [
    "ignore_columns = ['instanceId_userId', #нам ненужны идентификаторы конкретного клиента - мы их \"перекодировали\" в user_activity\n",
    "                'audit_timestamp', \n",
    "                'audit_timePassed', \n",
    "                'instanceId_objectId',\n",
    "                'ImageId']\n",
    "\n",
    "# ignore_columns_idx = [X_train.columns.get_loc(column_name) for column_name in ignore_columns]\n",
    "# ignore_columns_idx"
   ]
  },
  {
   "cell_type": "code",
   "execution_count": 6,
   "metadata": {},
   "outputs": [],
   "source": [
    "# #удаляем ненужные колонки\n",
    "X_train.drop(ignore_columns, axis=1, inplace=True)\n",
    "X_valid.drop(ignore_columns, axis=1, inplace=True)"
   ]
  },
  {
   "cell_type": "code",
   "execution_count": 7,
   "metadata": {
    "scrolled": true
   },
   "outputs": [
    {
     "data": {
      "text/plain": [
       "0          0\n",
       "1          0\n",
       "2          0\n",
       "3          0\n",
       "4          0\n",
       "5          0\n",
       "6          0\n",
       "7          0\n",
       "8          0\n",
       "9          0\n",
       "10         0\n",
       "11         0\n",
       "12         3\n",
       "13         2\n",
       "14         0\n",
       "15         0\n",
       "16         0\n",
       "17         0\n",
       "18         0\n",
       "19         0\n",
       "20         0\n",
       "21         0\n",
       "22         0\n",
       "23         0\n",
       "24         0\n",
       "25         0\n",
       "26         0\n",
       "27         0\n",
       "28         0\n",
       "29         0\n",
       "          ..\n",
       "1049970    0\n",
       "1049971    0\n",
       "1049972    0\n",
       "1049973    2\n",
       "1049974    0\n",
       "1049975    0\n",
       "1049976    0\n",
       "1049977    0\n",
       "1049978    0\n",
       "1049979    0\n",
       "1049980    3\n",
       "1049981    0\n",
       "1049982    3\n",
       "1049983    0\n",
       "1049984    0\n",
       "1049985    0\n",
       "1049986    0\n",
       "1049987    0\n",
       "1049988    0\n",
       "1049989    0\n",
       "1049990    0\n",
       "1049991    3\n",
       "1049992    0\n",
       "1049993    0\n",
       "1049994    0\n",
       "1049995    0\n",
       "1049996    0\n",
       "1049997    0\n",
       "1049998    0\n",
       "1049999    0\n",
       "Name: metadata_numVideos, Length: 1050000, dtype: int64"
      ]
     },
     "execution_count": 7,
     "metadata": {},
     "output_type": "execute_result"
    }
   ],
   "source": [
    "X_train['metadata_numVideos']"
   ]
  },
  {
   "cell_type": "code",
   "execution_count": 8,
   "metadata": {},
   "outputs": [
    {
     "data": {
      "text/plain": [
       "Index(['instanceId_objectType', 'audit_clientType', 'metadata_ownerType',\n",
       "       'metadata_platform', 'membership_status'],\n",
       "      dtype='object')"
      ]
     },
     "execution_count": 8,
     "metadata": {},
     "output_type": "execute_result"
    }
   ],
   "source": [
    "cat_columns = X_train.select_dtypes('object').columns\n",
    "cat_columns"
   ]
  },
  {
   "cell_type": "code",
   "execution_count": null,
   "metadata": {},
   "outputs": [],
   "source": [
    "eval_set = Pool(X_valid, y_valid, cat_features=cat_columns)"
   ]
  },
  {
   "cell_type": "code",
   "execution_count": null,
   "metadata": {
    "scrolled": false
   },
   "outputs": [],
   "source": [
    "model = CatBoostClassifier(iterations=200,\n",
    "                           od_pval=0.05,\n",
    "                           early_stopping_rounds=10,\n",
    "                           loss_function='CrossEntropy',\n",
    "                           verbose=False,\n",
    "                           custom_metric=['AUC'],\n",
    "                           task_type='GPU')\n",
    "\n",
    "model.fit(X_train, y_train, plot=True, eval_set=(X_valid, y_valid), cat_features=cat_columns)"
   ]
  },
  {
   "cell_type": "code",
   "execution_count": null,
   "metadata": {},
   "outputs": [],
   "source": [
    "model.save_model('gr_boost', \n",
    "           format=\"cbm\", \n",
    "           export_parameters=None,\n",
    "           pool=None)"
   ]
  },
  {
   "cell_type": "code",
   "execution_count": null,
   "metadata": {
    "scrolled": true
   },
   "outputs": [],
   "source": [
    "model.get_feature_importance(prettified=True)"
   ]
  },
  {
   "cell_type": "code",
   "execution_count": 9,
   "metadata": {},
   "outputs": [],
   "source": [
    "model = CatBoostClassifier().load_model(fname='gr_boost', format='catboost')"
   ]
  },
  {
   "cell_type": "code",
   "execution_count": 10,
   "metadata": {
    "scrolled": true
   },
   "outputs": [],
   "source": [
    "#удаляем ненужные колонки\n",
    "test_data = X_test.drop(ignore_columns, axis=1)\n",
    "X_test.fillna(0, inplace=True, downcast=False)\n",
    "test_data.fillna(0, inplace=True, downcast=False)"
   ]
  },
  {
   "cell_type": "code",
   "execution_count": 10,
   "metadata": {},
   "outputs": [
    {
     "data": {
      "text/plain": [
       "set()"
      ]
     },
     "execution_count": 10,
     "metadata": {},
     "output_type": "execute_result"
    }
   ],
   "source": [
    "set(X_valid.columns)^set(test_data.columns)"
   ]
  },
  {
   "cell_type": "code",
   "execution_count": 11,
   "metadata": {},
   "outputs": [
    {
     "name": "stdout",
     "output_type": "stream",
     "text": [
      "CPU times: user 1min 44s, sys: 696 ms, total: 1min 45s\n",
      "Wall time: 1min 2s\n"
     ]
    }
   ],
   "source": [
    "%%time\n",
    "predicted = model.predict_proba(test_data, thread_count=-1, verbose=True)"
   ]
  },
  {
   "cell_type": "code",
   "execution_count": 12,
   "metadata": {},
   "outputs": [
    {
     "data": {
      "text/html": [
       "<div>\n",
       "<style scoped>\n",
       "    .dataframe tbody tr th:only-of-type {\n",
       "        vertical-align: middle;\n",
       "    }\n",
       "\n",
       "    .dataframe tbody tr th {\n",
       "        vertical-align: top;\n",
       "    }\n",
       "\n",
       "    .dataframe thead th {\n",
       "        text-align: right;\n",
       "    }\n",
       "</style>\n",
       "<table border=\"1\" class=\"dataframe\">\n",
       "  <thead>\n",
       "    <tr style=\"text-align: right;\">\n",
       "      <th></th>\n",
       "      <th>instanceId_userId</th>\n",
       "      <th>instanceId_objectId</th>\n",
       "      <th>predicted</th>\n",
       "    </tr>\n",
       "  </thead>\n",
       "  <tbody>\n",
       "    <tr>\n",
       "      <th>381646</th>\n",
       "      <td>8</td>\n",
       "      <td>34024426</td>\n",
       "      <td>0</td>\n",
       "    </tr>\n",
       "    <tr>\n",
       "      <th>381647</th>\n",
       "      <td>8</td>\n",
       "      <td>32525896</td>\n",
       "      <td>0</td>\n",
       "    </tr>\n",
       "    <tr>\n",
       "      <th>381648</th>\n",
       "      <td>8</td>\n",
       "      <td>26815124</td>\n",
       "      <td>0</td>\n",
       "    </tr>\n",
       "    <tr>\n",
       "      <th>381649</th>\n",
       "      <td>8</td>\n",
       "      <td>22387388</td>\n",
       "      <td>0</td>\n",
       "    </tr>\n",
       "    <tr>\n",
       "      <th>381650</th>\n",
       "      <td>8</td>\n",
       "      <td>36665670</td>\n",
       "      <td>0</td>\n",
       "    </tr>\n",
       "    <tr>\n",
       "      <th>381651</th>\n",
       "      <td>8</td>\n",
       "      <td>14385580</td>\n",
       "      <td>0</td>\n",
       "    </tr>\n",
       "    <tr>\n",
       "      <th>381652</th>\n",
       "      <td>8</td>\n",
       "      <td>20989661</td>\n",
       "      <td>0</td>\n",
       "    </tr>\n",
       "    <tr>\n",
       "      <th>381653</th>\n",
       "      <td>8</td>\n",
       "      <td>22160290</td>\n",
       "      <td>0</td>\n",
       "    </tr>\n",
       "    <tr>\n",
       "      <th>381654</th>\n",
       "      <td>8</td>\n",
       "      <td>20974659</td>\n",
       "      <td>0</td>\n",
       "    </tr>\n",
       "    <tr>\n",
       "      <th>381655</th>\n",
       "      <td>8</td>\n",
       "      <td>38659430</td>\n",
       "      <td>0</td>\n",
       "    </tr>\n",
       "  </tbody>\n",
       "</table>\n",
       "</div>"
      ],
      "text/plain": [
       "        instanceId_userId  instanceId_objectId  predicted\n",
       "381646                  8             34024426          0\n",
       "381647                  8             32525896          0\n",
       "381648                  8             26815124          0\n",
       "381649                  8             22387388          0\n",
       "381650                  8             36665670          0\n",
       "381651                  8             14385580          0\n",
       "381652                  8             20989661          0\n",
       "381653                  8             22160290          0\n",
       "381654                  8             20974659          0\n",
       "381655                  8             38659430          0"
      ]
     },
     "execution_count": 12,
     "metadata": {},
     "output_type": "execute_result"
    }
   ],
   "source": [
    "X_test['predicted'] = np.argmax(predicted, axis=1)\n",
    "result = X_test[[\"instanceId_userId\", \"instanceId_objectId\", \"predicted\"]].sort_values(by=['instanceId_userId', 'predicted'])\n",
    "result.head(10)"
   ]
  },
  {
   "cell_type": "code",
   "execution_count": 13,
   "metadata": {},
   "outputs": [
    {
     "data": {
      "text/plain": [
       "139248"
      ]
     },
     "execution_count": 13,
     "metadata": {},
     "output_type": "execute_result"
    }
   ],
   "source": [
    "X_test['predicted'].sum()"
   ]
  },
  {
   "cell_type": "code",
   "execution_count": 14,
   "metadata": {},
   "outputs": [],
   "source": [
    "model.classes_"
   ]
  },
  {
   "cell_type": "code",
   "execution_count": 15,
   "metadata": {},
   "outputs": [
    {
     "data": {
      "text/plain": [
       "instanceId_userId\n",
       "8      [34024426, 32525896, 26815124, 22387388, 36665...\n",
       "59                        [29096263, 39141251, 23685237]\n",
       "92                        [19818572, 12367356, 23774973]\n",
       "107    [39090161, 35377184, 22664858, 35614366, 10501...\n",
       "158                       [33303760, 30223730, 19280083]\n",
       "179                       [23137073, 25605851, 31763374]\n",
       "188                                 [30483180, 37981047]\n",
       "206               [576587, 35123322, 22440260, 32493490]\n",
       "242                                 [30060756, 17014343]\n",
       "254    [8065156, 24219820, 15200850, 16081726, 31074144]\n",
       "Name: instanceId_objectId, dtype: object"
      ]
     },
     "execution_count": 15,
     "metadata": {},
     "output_type": "execute_result"
    }
   ],
   "source": [
    "submit = result.groupby(\"instanceId_userId\")['instanceId_objectId'].apply(list)\n",
    "submit.head(10)"
   ]
  },
  {
   "cell_type": "code",
   "execution_count": 16,
   "metadata": {},
   "outputs": [],
   "source": [
    "import csv\n",
    "submit.to_csv('submit.csv.gz', header = False, compression='gzip')#, quoting=csv.QUOTE_NONE, escapechar=' '"
   ]
  }
 ],
 "metadata": {
  "kernelspec": {
   "display_name": "Python 3",
   "language": "python",
   "name": "python3"
  },
  "language_info": {
   "codemirror_mode": {
    "name": "ipython",
    "version": 3
   },
   "file_extension": ".py",
   "mimetype": "text/x-python",
   "name": "python",
   "nbconvert_exporter": "python",
   "pygments_lexer": "ipython3",
   "version": "3.6.7"
  },
  "toc": {
   "base_numbering": 1,
   "nav_menu": {},
   "number_sections": false,
   "sideBar": false,
   "skip_h1_title": false,
   "title_cell": "Table of Contents",
   "title_sidebar": "Contents",
   "toc_cell": false,
   "toc_position": {},
   "toc_section_display": false,
   "toc_window_display": false
  }
 },
 "nbformat": 4,
 "nbformat_minor": 2
}
