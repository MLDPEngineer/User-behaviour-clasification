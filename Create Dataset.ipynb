{
 "cells": [
  {
   "cell_type": "code",
   "execution_count": 1,
   "metadata": {},
   "outputs": [],
   "source": [
    "import numpy as np\n",
    "import pandas as pd\n",
    "from pandas import DataFrame as df\n",
    "import pyarrow.parquet as pq\n",
    "import pyarrow as pa\n",
    "import glob\n",
    "from dask.distributed import Client\n",
    "import dask.dataframe as dd\n",
    "import dask.array as da\n",
    "from collections import Counter\n",
    "from tqdm import tqdm, tqdm_notebook\n",
    "import os\n",
    "import pickle\n",
    "# from numba import jit"
   ]
  },
  {
   "cell_type": "code",
   "execution_count": 2,
   "metadata": {},
   "outputs": [],
   "source": [
    "%matplotlib inline\n",
    "pd.options.display.float_format = '{:,.2f}'.format\n",
    "import matplotlib.pyplot as plt\n",
    "from pylab import rcParams\n",
    "rcParams['figure.figsize'] = 10, 5"
   ]
  },
  {
   "cell_type": "markdown",
   "metadata": {},
   "source": [
    "# <font color='blue'> Загрузка данных"
   ]
  },
  {
   "cell_type": "code",
   "execution_count": 3,
   "metadata": {
    "scrolled": true
   },
   "outputs": [],
   "source": [
    "dataset_dir = r'/home/protus/Documents/DATASETS/ML_Boot_camp/Colaborative filtering'\n",
    "train_col_dirs = glob.glob(dataset_dir+'/train/date*')\n",
    "SERIALIZED_DIR = './serialized'"
   ]
  },
  {
   "cell_type": "code",
   "execution_count": 97,
   "metadata": {},
   "outputs": [],
   "source": [
    "def load_run(func_name, *args):\n",
    "    \"\"\"Функция повторного запуска\n",
    "    Позволяет при первом обращении к указанной функции расчитать и сериализовать её ответ,\n",
    "    и при последующих обращениях загружать уже расчитанные сериализованные значения.\n",
    "    \n",
    "    Удобно при работе с функциями требующими длительного времени выполнения\"\"\"\n",
    "    \n",
    "    file = SERIALIZED_DIR+'/'+func_name.__name__+'.pcl'\n",
    "    if os.path.isfile(file):\n",
    "        with open(file, 'rb') as f:\n",
    "            return pickle.load(f)\n",
    "    else:\n",
    "        res = func_name(*args)\n",
    "        with open(file , 'wb') as f:\n",
    "            pickle.dump(res, f)\n",
    "        return res"
   ]
  },
  {
   "cell_type": "code",
   "execution_count": 5,
   "metadata": {
    "scrolled": true
   },
   "outputs": [
    {
     "data": {
      "text/html": [
       "<table style=\"border: 2px solid white;\">\n",
       "<tr>\n",
       "<td style=\"vertical-align: top; border: 0px solid white\">\n",
       "<h3>Client</h3>\n",
       "<ul>\n",
       "  <li><b>Scheduler: </b>inproc://192.168.1.132/20734/1\n",
       "  <li><b>Dashboard: </b><a href='http://localhost:8787/status' target='_blank'>http://localhost:8787/status</a>\n",
       "</ul>\n",
       "</td>\n",
       "<td style=\"vertical-align: top; border: 0px solid white\">\n",
       "<h3>Cluster</h3>\n",
       "<ul>\n",
       "  <li><b>Workers: </b>4</li>\n",
       "  <li><b>Cores: </b>8</li>\n",
       "  <li><b>Memory: </b>80.00 GB</li>\n",
       "</ul>\n",
       "</td>\n",
       "</tr>\n",
       "</table>"
      ],
      "text/plain": [
       "<Client: scheduler='inproc://192.168.1.132/20734/1' processes=4 cores=8>"
      ]
     },
     "execution_count": 5,
     "metadata": {},
     "output_type": "execute_result"
    }
   ],
   "source": [
    "client = Client(n_workers=4, threads_per_worker=2, processes=False, memory_limit='20GB')\n",
    "client"
   ]
  },
  {
   "cell_type": "code",
   "execution_count": 6,
   "metadata": {},
   "outputs": [],
   "source": [
    "get_dd_column = lambda column: dd.read_parquet(dataset_dir+'/train/date*/*.parquet', columns=column, engine='pyarrow')\n",
    "get_dd_column_unique = lambda column: get_dd_column([column])[column].unique().compute()"
   ]
  },
  {
   "cell_type": "code",
   "execution_count": 7,
   "metadata": {},
   "outputs": [],
   "source": [
    "# min_ds = dd.read_parquet(dataset_dir+'/train/date=2018-02-01/*.parquet', engine='pyarrow')\n",
    "# min_ds.head()"
   ]
  },
  {
   "cell_type": "code",
   "execution_count": 8,
   "metadata": {
    "scrolled": true
   },
   "outputs": [],
   "source": [
    "# min_ds.isna().compute()"
   ]
  },
  {
   "cell_type": "code",
   "execution_count": 9,
   "metadata": {},
   "outputs": [],
   "source": [
    "# dataset_size = len(dd.read_parquet(dataset_dir+'/train/date*/*.parquet', engine='pyarrow', columns=['instanceId_userId']))\n",
    "# print('Размер датасета {0:,}, кол-во столбцов {1}'.format(dataset_size, len(min_ds.columns)))"
   ]
  },
  {
   "cell_type": "code",
   "execution_count": 10,
   "metadata": {},
   "outputs": [
    {
     "name": "stdout",
     "output_type": "stream",
     "text": [
      "Размер датасета 30,787,847, кол-во столбцов 106\n",
      "CPU times: user 6min 56s, sys: 5min 47s, total: 12min 43s\n",
      "Wall time: 2min 33s\n"
     ]
    }
   ],
   "source": [
    "%%time\n",
    "dataset = dd.read_parquet(dataset_dir+'/train/date*/*.parquet', engine='pyarrow')\n",
    "datset_size = len(dataset)\n",
    "print('Размер датасета {0:,}, кол-во столбцов {1}'.format(datset_size, len(dataset.columns)))\n",
    "\n",
    "# mean_nans = datset.isna().sum(axis=0).mean().compute()/dataset_size*100\n",
    "# print('Среднее колво Nan на колонку в % {0:,}'.format(mean_nans))\n",
    "\n"
   ]
  },
  {
   "cell_type": "markdown",
   "metadata": {},
   "source": [
    "### Анализ типов признаков\n",
    "выделяем признаки содержащие \n",
    "- дату и время, \n",
    "- категориальные\n",
    "- числовые\n",
    "- вложенные коллекции\n",
    "- NaN-ы"
   ]
  },
  {
   "cell_type": "markdown",
   "metadata": {},
   "source": [
    "### Анализ пропущенных значений"
   ]
  },
  {
   "cell_type": "code",
   "execution_count": 322,
   "metadata": {},
   "outputs": [],
   "source": [
    "def nans_map(train_col_dirs):\n",
    "\n",
    "    def nans_partition_calc(files_dir):\n",
    "        output_size = 100\n",
    "        part = pq.read_table(files_dir+'/').to_pandas()\n",
    "        part = part.isna()\n",
    "        cell_size = len(part)//output_size\n",
    "        NaNs = np.zeros((output_size, part.shape[1]))\n",
    "\n",
    "        for i, cell in enumerate(range(cell_size, len(part), cell_size)):\n",
    "            NaNs[i, :] = part.loc[cell-cell_size:cell,:].sum()\n",
    "\n",
    "        return NaNs\n",
    "\n",
    "    NaNs = np.zeros((0, len(dataset.columns)))\n",
    "    for partition in tqdm_notebook(train_col_dirs):\n",
    "        NaNs = np.append(NaNs, nans_partition_calc(partition), axis=0)     \n",
    "\n",
    "    NaNs /= NaNs.max()\n",
    "    \n",
    "    return NaNs\n",
    "\n",
    "\n",
    "def plot_NANs_map(NaNs, size=(10, 20)):\n",
    "    plt.figure(figsize=size)\n",
    "    plt.imshow(NaNs.T, cmap='gray', vmin=0, vmax=1)\n",
    "    _ = plt.title('Карта интенсивности распределения NaN-ов по датасету')\n",
    "\n",
    "    \n",
    "NaNs = load_run(nans_map, train_col_dirs)"
   ]
  },
  {
   "cell_type": "markdown",
   "metadata": {},
   "source": [
    "### Карта интенсивности распределения NaN-ов по датасету"
   ]
  },
  {
   "cell_type": "code",
   "execution_count": 324,
   "metadata": {},
   "outputs": [
    {
     "data": {
      "image/png": "[encoded data removed]",
      "text/plain": [
       "<Figure size 2160x1440 with 1 Axes>"
      ]
     },
     "metadata": {
      "needs_background": "light"
     },
     "output_type": "display_data"
    }
   ],
   "source": [
    "plot_NANs_map(NaNs, size=(30, 20))"
   ]
  },
  {
   "cell_type": "code",
   "execution_count": 325,
   "metadata": {},
   "outputs": [
    {
     "data": {
      "image/png": "[encoded data removed]",
      "text/plain": [
       "<Figure size 720x1440 with 1 Axes>"
      ]
     },
     "metadata": {
      "needs_background": "light"
     },
     "output_type": "display_data"
    }
   ],
   "source": [
    "plot_NANs_map(NaNs[:300])"
   ]
  },
  {
   "cell_type": "markdown",
   "metadata": {},
   "source": [
    "- видим, что в распределении пропущенных значений есть цикличность, а значит есть полезная структура\n",
    "- в то время как некоторые колонки содержат большое кол-во пропущенных значений"
   ]
  },
  {
   "cell_type": "code",
   "execution_count": 343,
   "metadata": {
    "scrolled": true
   },
   "outputs": [
    {
     "data": {
      "text/html": [
       "<div>\n",
       "<style scoped>\n",
       "    .dataframe tbody tr th:only-of-type {\n",
       "        vertical-align: middle;\n",
       "    }\n",
       "\n",
       "    .dataframe tbody tr th {\n",
       "        vertical-align: top;\n",
       "    }\n",
       "\n",
       "    .dataframe thead th {\n",
       "        text-align: right;\n",
       "    }\n",
       "</style>\n",
       "<table border=\"1\" class=\"dataframe\">\n",
       "  <thead>\n",
       "    <tr style=\"text-align: right;\">\n",
       "      <th></th>\n",
       "      <th>0</th>\n",
       "    </tr>\n",
       "  </thead>\n",
       "  <tbody>\n",
       "    <tr>\n",
       "      <th>membership_joinRequestDate</th>\n",
       "      <td>0.98</td>\n",
       "    </tr>\n",
       "    <tr>\n",
       "      <th>auditweights_closed</th>\n",
       "      <td>1.00</td>\n",
       "    </tr>\n",
       "    <tr>\n",
       "      <th>auditweights_feedOwner_RECOMMENDED_GROUP</th>\n",
       "      <td>0.99</td>\n",
       "    </tr>\n",
       "    <tr>\n",
       "      <th>auditweights_friendCommentFeeds</th>\n",
       "      <td>0.99</td>\n",
       "    </tr>\n",
       "    <tr>\n",
       "      <th>auditweights_friendCommenters</th>\n",
       "      <td>0.99</td>\n",
       "    </tr>\n",
       "    <tr>\n",
       "      <th>auditweights_hasDetectedText</th>\n",
       "      <td>1.00</td>\n",
       "    </tr>\n",
       "    <tr>\n",
       "      <th>auditweights_hasText</th>\n",
       "      <td>0.99</td>\n",
       "    </tr>\n",
       "    <tr>\n",
       "      <th>auditweights_notOriginalPhoto</th>\n",
       "      <td>0.97</td>\n",
       "    </tr>\n",
       "    <tr>\n",
       "      <th>auditweights_onlineVideo</th>\n",
       "      <td>1.00</td>\n",
       "    </tr>\n",
       "    <tr>\n",
       "      <th>auditweights_processedVideo</th>\n",
       "      <td>0.98</td>\n",
       "    </tr>\n",
       "    <tr>\n",
       "      <th>auditweights_relationMasks</th>\n",
       "      <td>1.00</td>\n",
       "    </tr>\n",
       "    <tr>\n",
       "      <th>auditweights_source_MOVIE_TOP</th>\n",
       "      <td>1.00</td>\n",
       "    </tr>\n",
       "    <tr>\n",
       "      <th>auditweights_userOwner_CREATE_COMMENT</th>\n",
       "      <td>0.97</td>\n",
       "    </tr>\n",
       "    <tr>\n",
       "      <th>auditweights_userOwner_CREATE_IMAGE</th>\n",
       "      <td>1.00</td>\n",
       "    </tr>\n",
       "    <tr>\n",
       "      <th>auditweights_userOwner_PHOTO_VIEW</th>\n",
       "      <td>1.00</td>\n",
       "    </tr>\n",
       "    <tr>\n",
       "      <th>auditweights_userOwner_UNKNOWN</th>\n",
       "      <td>1.00</td>\n",
       "    </tr>\n",
       "    <tr>\n",
       "      <th>auditweights_userOwner_USER_FEED_REMOVE</th>\n",
       "      <td>0.98</td>\n",
       "    </tr>\n",
       "    <tr>\n",
       "      <th>auditweights_userOwner_USER_PROFILE_VIEW</th>\n",
       "      <td>1.00</td>\n",
       "    </tr>\n",
       "    <tr>\n",
       "      <th>auditweights_userOwner_VIDEO</th>\n",
       "      <td>1.00</td>\n",
       "    </tr>\n",
       "  </tbody>\n",
       "</table>\n",
       "</div>"
      ],
      "text/plain": [
       "                                            0\n",
       "membership_joinRequestDate               0.98\n",
       "auditweights_closed                      1.00\n",
       "auditweights_feedOwner_RECOMMENDED_GROUP 0.99\n",
       "auditweights_friendCommentFeeds          0.99\n",
       "auditweights_friendCommenters            0.99\n",
       "auditweights_hasDetectedText             1.00\n",
       "auditweights_hasText                     0.99\n",
       "auditweights_notOriginalPhoto            0.97\n",
       "auditweights_onlineVideo                 1.00\n",
       "auditweights_processedVideo              0.98\n",
       "auditweights_relationMasks               1.00\n",
       "auditweights_source_MOVIE_TOP            1.00\n",
       "auditweights_userOwner_CREATE_COMMENT    0.97\n",
       "auditweights_userOwner_CREATE_IMAGE      1.00\n",
       "auditweights_userOwner_PHOTO_VIEW        1.00\n",
       "auditweights_userOwner_UNKNOWN           1.00\n",
       "auditweights_userOwner_USER_FEED_REMOVE  0.98\n",
       "auditweights_userOwner_USER_PROFILE_VIEW 1.00\n",
       "auditweights_userOwner_VIDEO             1.00"
      ]
     },
     "execution_count": 343,
     "metadata": {},
     "output_type": "execute_result"
    }
   ],
   "source": [
    "def NaNs_columns_calc(dataset, datset_size):\n",
    "    return df(dataset.isna().sum().compute()) / datset_size\n",
    "\n",
    "NaNs_columns = load_run(NaNs_columns_calc, dataset, datset_size)\n",
    "# удаляем колонки с кол-вом нанов > 95%\n",
    "NaNs_columns = NaNs_columns.loc[NaNs_columns[0]>0.95]\n",
    "NaNs_columns"
   ]
  },
  {
   "cell_type": "code",
   "execution_count": 346,
   "metadata": {
    "scrolled": true
   },
   "outputs": [
    {
     "name": "stdout",
     "output_type": "stream",
     "text": [
      "Кол-во колонок с пропущенными значениями более 95% - 19\n"
     ]
    }
   ],
   "source": [
    "print('Кол-во колонок с пропущенными значениями более 95% -', len(NaNs_columns))"
   ]
  },
  {
   "cell_type": "markdown",
   "metadata": {},
   "source": [
    "#### Разделяем признаки по типам"
   ]
  },
  {
   "cell_type": "code",
   "execution_count": 349,
   "metadata": {},
   "outputs": [
    {
     "data": {
      "text/plain": [
       "Index(['audit_timestamp', 'audit_timePassed',\n",
       "       'userOwnerCounters_PHOTO_PIN_UPDATE', 'membership_statusUpdateDate',\n",
       "       'membership_joinDate', 'membership_joinRequestDate', 'user_create_date',\n",
       "       'user_birth_date', 'user_change_datime'],\n",
       "      dtype='object')"
      ]
     },
     "execution_count": 349,
     "metadata": {},
     "output_type": "execute_result"
    }
   ],
   "source": [
    "Not_NaN_columns = list(set(dataset.columns) - set(NaNs_columns))\n",
    "object_type_colummns = dataset.select_dtypes('object').columns\n",
    "not_object_type_columns = list(set(dataset.columns)-set(object_type_colummns))\n",
    "date_time_columns = dataset.columns[dataset.columns.str.lower().str.contains('date|time')]\n",
    "numeric_columns = list(set(not_object_type_columns)-set(date_time_columns))\n",
    "date_time_columns"
   ]
  },
  {
   "cell_type": "code",
   "execution_count": 348,
   "metadata": {
    "scrolled": true
   },
   "outputs": [
    {
     "data": {
      "text/plain": [
       "['auditweights_feedStats',\n",
       " 'userOwnerCounters_IMAGE',\n",
       " 'audit_pos',\n",
       " 'metadata_totalVideoLength',\n",
       " 'auditweights_userOwner_IMAGE',\n",
       " 'metadata_authorId',\n",
       " 'userOwnerCounters_USER_PROFILE_VIEW',\n",
       " 'auditweights_dailyRecency',\n",
       " 'userOwnerCounters_PHOTO_COMMENT_CREATE',\n",
       " 'userOwnerCounters_USER_INTERNAL_UNLIKE',\n",
       " 'auditweights_ctr_high',\n",
       " 'auditweights_feedOwner_RECOMMENDED_GROUP',\n",
       " 'userOwnerCounters_USER_DELETE_MESSAGE',\n",
       " 'auditweights_userOwner_CREATE_COMMENT',\n",
       " 'auditweights_numShows',\n",
       " 'userOwnerCounters_CREATE_LIKE',\n",
       " 'metadata_numCompanions',\n",
       " 'membership_joinRequestDate',\n",
       " 'userOwnerCounters_USER_FORUM_MESSAGE_CREATE',\n",
       " 'metadata_ownerId',\n",
       " 'user_status',\n",
       " 'userOwnerCounters_USER_PHOTO_ALBUM_COMMENT_CREATE',\n",
       " 'auditweights_userOwner_PHOTO_VIEW',\n",
       " 'auditweights_hasDetectedText',\n",
       " 'auditweights_likersSvd_hyper',\n",
       " 'userOwnerCounters_CREATE_MOVIE',\n",
       " 'user_birth_date',\n",
       " 'auditweights_hasText',\n",
       " 'auditweights_userOwner_TEXT',\n",
       " 'auditweights_x_ActorsRelations',\n",
       " 'userOwnerCounters_TEXT',\n",
       " 'user_region',\n",
       " 'audit_timestamp',\n",
       " 'userOwnerCounters_USER_INTERNAL_LIKE',\n",
       " 'user_ID_Location',\n",
       " 'user_is_active',\n",
       " 'instanceId_userId',\n",
       " 'auditweights_svd',\n",
       " 'auditweights_notOriginalPhoto',\n",
       " 'user_is_deleted',\n",
       " 'audit_resourceType',\n",
       " 'user_is_semiactivated',\n",
       " 'auditweights_ageMs',\n",
       " 'user_ID_country',\n",
       " 'userOwnerCounters_USER_SEND_MESSAGE',\n",
       " 'userOwnerCounters_CREATE_IMAGE',\n",
       " 'auditweights_relationMasks',\n",
       " 'userOwnerCounters_MOVIE_COMMENT_CREATE',\n",
       " 'auditweights_userOwner_VIDEO',\n",
       " 'auditweights_closed',\n",
       " 'metadata_numTokens',\n",
       " 'auditweights_userAge',\n",
       " 'auditweights_userOwner_CREATE_LIKE',\n",
       " 'user_is_activated',\n",
       " 'auditweights_friendCommentFeeds',\n",
       " 'auditweights_friendCommenters',\n",
       " 'userOwnerCounters_USER_FEED_REMOVE',\n",
       " 'auditweights_numDislikes',\n",
       " 'userOwnerCounters_CREATE_TOPIC',\n",
       " 'userOwnerCounters_PHOTO_PIN_BATCH_CREATE',\n",
       " 'user_create_date',\n",
       " 'userOwnerCounters_PHOTO_PIN_UPDATE',\n",
       " 'auditweights_processedVideo',\n",
       " 'auditweights_userOwner_CREATE_IMAGE',\n",
       " 'auditweights_userOwner_UNKNOWN',\n",
       " 'userOwnerCounters_USER_PRESENT_SEND',\n",
       " 'auditweights_source_MOVIE_TOP',\n",
       " 'metadata_numPolls',\n",
       " 'user_is_abused',\n",
       " 'auditweights_userOwner_USER_FEED_REMOVE',\n",
       " 'auditweights_onlineVideo',\n",
       " 'metadata_applicationId',\n",
       " 'userOwnerCounters_COMMENT_INTERNAL_LIKE',\n",
       " 'metadata_numPhotos',\n",
       " 'auditweights_friendLikes',\n",
       " 'userOwnerCounters_PHOTO_MARK_CREATE',\n",
       " 'audit_timePassed',\n",
       " 'metadata_numVideos',\n",
       " 'auditweights_isRandom',\n",
       " 'instanceId_objectId',\n",
       " 'metadata_numSymbols',\n",
       " 'userOwnerCounters_CREATE_COMMENT',\n",
       " 'userOwnerCounters_VOTE_POLL',\n",
       " 'auditweights_numLikes',\n",
       " 'userOwnerCounters_PHOTO_VIEW',\n",
       " 'userOwnerCounters_USER_STATUS_COMMENT_CREATE',\n",
       " 'user_change_datime',\n",
       " 'auditweights_userOwner_USER_PROFILE_VIEW',\n",
       " 'auditweights_likersFeedStats_hyper',\n",
       " 'userOwnerCounters_VIDEO',\n",
       " 'membership_statusUpdateDate',\n",
       " 'auditweights_friendLikes_actors',\n",
       " 'auditweights_ctr_negative',\n",
       " 'userOwnerCounters_UNKNOWN',\n",
       " 'membership_joinDate',\n",
       " 'metadata_createdAt',\n",
       " 'auditweights_ctr_gender',\n",
       " 'user_gender']"
      ]
     },
     "execution_count": 348,
     "metadata": {},
     "output_type": "execute_result"
    }
   ],
   "source": [
    "not_object_type_columns"
   ]
  },
  {
   "cell_type": "code",
   "execution_count": 12,
   "metadata": {
    "scrolled": true
   },
   "outputs": [
    {
     "name": "stdout",
     "output_type": "stream",
     "text": [
      "CPU times: user 6min 34s, sys: 4min 44s, total: 11min 18s\n",
      "Wall time: 2min 5s\n"
     ]
    },
    {
     "data": {
      "text/plain": [
       "auditweights_feedStats                                              1.28\n",
       "userOwnerCounters_IMAGE                                             8.31\n",
       "audit_pos                                                          11.13\n",
       "auditweights_userOwner_IMAGE                                        0.90\n",
       "metadata_totalVideoLength                                      18,630.13\n",
       "metadata_authorId                                             645,174.43\n",
       "userOwnerCounters_USER_PROFILE_VIEW                                 0.00\n",
       "auditweights_dailyRecency                                           0.94\n",
       "userOwnerCounters_PHOTO_COMMENT_CREATE                              0.00\n",
       "auditweights_ctr_high                                               0.10\n",
       "userOwnerCounters_USER_INTERNAL_UNLIKE                              0.00\n",
       "auditweights_feedOwner_RECOMMENDED_GROUP                            0.72\n",
       "userOwnerCounters_USER_DELETE_MESSAGE                               0.00\n",
       "auditweights_userOwner_CREATE_COMMENT                               0.83\n",
       "auditweights_numShows                                         371,422.93\n",
       "userOwnerCounters_CREATE_LIKE                                      16.11\n",
       "metadata_numCompanions                                              0.01\n",
       "userOwnerCounters_USER_FORUM_MESSAGE_CREATE                         0.00\n",
       "metadata_ownerId                                               38,729.46\n",
       "user_status                                                       131.17\n",
       "userOwnerCounters_USER_PHOTO_ALBUM_COMMENT_CREATE                   0.00\n",
       "auditweights_userOwner_PHOTO_VIEW                                   1.00\n",
       "auditweights_hasDetectedText                                        1.00\n",
       "auditweights_likersSvd_hyper                                        0.81\n",
       "userOwnerCounters_CREATE_MOVIE                                      0.01\n",
       "auditweights_hasText                                                1.00\n",
       "auditweights_userOwner_TEXT                                         0.90\n",
       "auditweights_x_ActorsRelations                                 18,993.33\n",
       "userOwnerCounters_TEXT                                              9.27\n",
       "user_region                                                        36.79\n",
       "                                                            ...         \n",
       "auditweights_userOwner_UNKNOWN                                      0.89\n",
       "userOwnerCounters_USER_PRESENT_SEND                                 0.00\n",
       "auditweights_source_MOVIE_TOP                                       1.00\n",
       "metadata_numPolls                                                   0.08\n",
       "user_is_abused                                                      0.00\n",
       "auditweights_userOwner_USER_FEED_REMOVE                             0.87\n",
       "auditweights_onlineVideo                                            1.00\n",
       "metadata_applicationId                                              0.00\n",
       "userOwnerCounters_COMMENT_INTERNAL_LIKE                             0.00\n",
       "metadata_numPhotos                                                  1.80\n",
       "auditweights_friendLikes                                            1.00\n",
       "userOwnerCounters_PHOTO_MARK_CREATE                                 0.00\n",
       "metadata_numVideos                                                  0.32\n",
       "auditweights_isRandom                                               1.00\n",
       "instanceId_objectId                                        22,658,644.28\n",
       "metadata_numSymbols                                               540.63\n",
       "userOwnerCounters_CREATE_COMMENT                                    0.77\n",
       "userOwnerCounters_VOTE_POLL                                         0.00\n",
       "auditweights_numLikes                                           2,462.83\n",
       "userOwnerCounters_PHOTO_VIEW                                        0.00\n",
       "userOwnerCounters_USER_STATUS_COMMENT_CREATE                        0.00\n",
       "auditweights_userOwner_USER_PROFILE_VIEW                            0.98\n",
       "auditweights_likersFeedStats_hyper                                 24.72\n",
       "userOwnerCounters_VIDEO                                             0.43\n",
       "auditweights_friendLikes_actors                                     1.01\n",
       "auditweights_ctr_negative                                           0.01\n",
       "userOwnerCounters_UNKNOWN                                           2.26\n",
       "metadata_createdAt                                  1,519,299,729,016.40\n",
       "auditweights_ctr_gender                                             0.03\n",
       "user_gender                                                         1.74\n",
       "Length: 89, dtype: float64"
      ]
     },
     "execution_count": 12,
     "metadata": {},
     "output_type": "execute_result"
    }
   ],
   "source": [
    "%%time\n",
    "get_dd_column(numeric_columns).mean().compute()"
   ]
  },
  {
   "cell_type": "code",
   "execution_count": 13,
   "metadata": {},
   "outputs": [],
   "source": [
    "date_time_columns = list(set(date_time_columns)-set(['userOwnerCounters_PHOTO_PIN_UPDATE']))+['metadata_createdAt']\n",
    "numeric_columns = list(set(not_object_type_columns)-set(date_time_columns))"
   ]
  },
  {
   "cell_type": "markdown",
   "metadata": {},
   "source": [
    "-  feature engeneering user_birth_date: разложить на год, месяц, день, посчитать относительное время"
   ]
  },
  {
   "cell_type": "code",
   "execution_count": 93,
   "metadata": {
    "scrolled": true
   },
   "outputs": [
    {
     "data": {
      "text/plain": [
       "0       nan\n",
       "1       nan\n",
       "2       nan\n",
       "3       nan\n",
       "4       nan\n",
       "5       nan\n",
       "6       nan\n",
       "7       nan\n",
       "8       nan\n",
       "9       nan\n",
       "10      nan\n",
       "11      nan\n",
       "12      nan\n",
       "13      nan\n",
       "14      nan\n",
       "15      nan\n",
       "16      nan\n",
       "17      nan\n",
       "18      nan\n",
       "19      nan\n",
       "20      nan\n",
       "21      nan\n",
       "22      nan\n",
       "23      nan\n",
       "24      nan\n",
       "25      nan\n",
       "26      nan\n",
       "27      nan\n",
       "28      nan\n",
       "29      nan\n",
       "         ..\n",
       "90548   nan\n",
       "90549   nan\n",
       "90550   nan\n",
       "90551   nan\n",
       "90552   nan\n",
       "90553   nan\n",
       "90554   nan\n",
       "90555   nan\n",
       "90556   nan\n",
       "90557   nan\n",
       "90558   nan\n",
       "90559   nan\n",
       "90560   nan\n",
       "90561   nan\n",
       "90562   nan\n",
       "90563   nan\n",
       "90564   nan\n",
       "90565   nan\n",
       "90566   nan\n",
       "90567   nan\n",
       "90568   nan\n",
       "90569   nan\n",
       "90570   nan\n",
       "90571   nan\n",
       "90572   nan\n",
       "90573   nan\n",
       "90574   nan\n",
       "90575   nan\n",
       "90576   nan\n",
       "90577   nan\n",
       "Name: auditweights_closed, Length: 30787847, dtype: float64"
      ]
     },
     "execution_count": 93,
     "metadata": {},
     "output_type": "execute_result"
    }
   ],
   "source": [
    "get_dd_column('auditweights_closed').compute()"
   ]
  },
  {
   "cell_type": "code",
   "execution_count": null,
   "metadata": {},
   "outputs": [],
   "source": [
    "import matplotlib.pyplot as plt\n",
    "\n",
    "item = {}\n",
    "\n",
    "item[\"label\"] = 'box' # not required\n",
    "item[\"mean\"] = 5 # not required\n",
    "item[\"med\"] = 5.5\n",
    "item[\"q1\"] = 3.5\n",
    "item[\"q3\"] = 7.5\n",
    "#item[\"cilo\"] = 5.3 # not required\n",
    "#item[\"cihi\"] = 5.7 # not required\n",
    "item[\"whislo\"] = 2.0 # required\n",
    "item[\"whishi\"] = 8.0 # required\n",
    "item[\"fliers\"] = [] # required if showfliers=True\n",
    "\n",
    "stats = [item]\n",
    "\n",
    "fig, axes = plt.subplots(1, 1)\n",
    "axes.bxp(stats)\n",
    "axes.set_title('Default')\n",
    "y_axis = [0, 1, 2, 3, 4, 5, 6, 7, 8, 9]\n",
    "y_values = [\"0\", \"1\", \"2\", \"3\", \"4\", \"5\", \"6\", \"7\", \"8\", \"9\"]\n",
    "p = plt.yticks(y_axis, y_values)"
   ]
  },
  {
   "cell_type": "markdown",
   "metadata": {},
   "source": [
    "### Проверка типов признаков"
   ]
  },
  {
   "cell_type": "code",
   "execution_count": null,
   "metadata": {},
   "outputs": [],
   "source": [
    "columns = min_ds.columns\n",
    "columns"
   ]
  },
  {
   "cell_type": "markdown",
   "metadata": {},
   "source": [
    "### Проверка вложенных признаков"
   ]
  },
  {
   "cell_type": "code",
   "execution_count": null,
   "metadata": {},
   "outputs": [],
   "source": [
    "columns_with_nested_types = [ isinstance(train_dataset[col][10], np.ndarray) for col in train_dataset.select_dtypes('object').columns]\n",
    "columns_with_nested_types = train_dataset.select_dtypes('object').columns[columns_with_nested_types]\n",
    "columns_with_nested_types"
   ]
  },
  {
   "cell_type": "code",
   "execution_count": null,
   "metadata": {},
   "outputs": [],
   "source": [
    "train_dataset['metadata_options'][0]"
   ]
  },
  {
   "cell_type": "markdown",
   "metadata": {},
   "source": [
    "# <font color='blue'>Описательные статистики"
   ]
  },
  {
   "cell_type": "code",
   "execution_count": null,
   "metadata": {},
   "outputs": [],
   "source": [
    "print(\"Кол-во уникальных пользователей {0:,}\\n\\\n",
    "Кол-во уникальных обьектов {1:,}\".format(\\\n",
    "    get_dd_column_unique('instanceId_userId').count(),\n",
    "    get_dd_column_unique('instanceId_objectId').count()))"
   ]
  },
  {
   "cell_type": "markdown",
   "metadata": {},
   "source": [
    "### Items statistics"
   ]
  },
  {
   "cell_type": "code",
   "execution_count": null,
   "metadata": {
    "scrolled": true
   },
   "outputs": [],
   "source": [
    "%%time\n",
    "#CALC ITEMS EVALUATIONS STATISTICS\n",
    "feedback = get_dd_column(['feedback'])\n",
    "feedback_unique = set()\n",
    "temp = feedback['feedback'].map(lambda x: feedback_unique.update(x)).compute()"
   ]
  },
  {
   "cell_type": "code",
   "execution_count": null,
   "metadata": {},
   "outputs": [],
   "source": [
    "feedback_unique"
   ]
  },
  {
   "cell_type": "code",
   "execution_count": null,
   "metadata": {},
   "outputs": [],
   "source": [
    "client.cancel(feedback)\n",
    "client.cancel(temp)"
   ]
  },
  {
   "cell_type": "markdown",
   "metadata": {},
   "source": [
    "#### Распределение типов контента"
   ]
  },
  {
   "cell_type": "code",
   "execution_count": null,
   "metadata": {},
   "outputs": [],
   "source": [
    "%%time\n",
    "#ITEMS TYPES STATISTICS \n",
    "#распределение типов контента\n",
    "instanceId_objectTypes = get_dd_column(['instanceId_objectType']).groupby(by='instanceId_objectType')\\\n",
    "    ['instanceId_objectType'].count().compute()\n",
    "print(\"Типы контента и частоты {0}\".format(instanceId_objectTypes.map(\"{:,}\".format)))"
   ]
  },
  {
   "cell_type": "code",
   "execution_count": null,
   "metadata": {},
   "outputs": [],
   "source": [
    "def plot_counter(counter):\n",
    "    plt.bar(counter.keys(), counter.values())\n",
    "    plt.xticks(rotation=45)"
   ]
  },
  {
   "cell_type": "markdown",
   "metadata": {},
   "source": [
    "#### Распределение количества оценок пользователей по контенту Post"
   ]
  },
  {
   "cell_type": "code",
   "execution_count": null,
   "metadata": {
    "scrolled": true
   },
   "outputs": [],
   "source": [
    "%%time\n",
    "#выборка по Post типу контента \n",
    "data = get_dd_column(['instanceId_objectType', 'feedback'])\n",
    "post_feedback = data.loc[data.instanceId_objectType=='Post','feedback'].compute()\n",
    "#распределение кол-ва оценок на пользователя\n",
    "f = np.vectorize(lambda x: len(x))\n",
    "post_feedback_distr = Counter(f(post_feedback))\n",
    "print(post_feedback_distr)\n",
    "plot_counter(post_feedback_distr)"
   ]
  },
  {
   "cell_type": "markdown",
   "metadata": {},
   "source": [
    "#### Распределение оценок пользователей c одной оценкой по обьекту по контенту Post"
   ]
  },
  {
   "cell_type": "code",
   "execution_count": null,
   "metadata": {},
   "outputs": [],
   "source": [
    "%%time\n",
    "def selected_values(x):\n",
    "    if len(x)==1:\n",
    "        return x[0]\n",
    "    \n",
    "f = np.vectorize(selected_values)\n",
    "one_feedback_distr = Counter(f(post_feedback))\n",
    "print(one_feedback_distr)\n",
    "plot_counter(one_feedback_distr)"
   ]
  },
  {
   "cell_type": "code",
   "execution_count": null,
   "metadata": {},
   "outputs": [],
   "source": [
    "client.cancel(post_feedback)\n",
    "post_feedback = None"
   ]
  },
  {
   "cell_type": "markdown",
   "metadata": {},
   "source": [
    "#### Какое кол-во оценок ставят пользователи?"
   ]
  },
  {
   "cell_type": "code",
   "execution_count": null,
   "metadata": {},
   "outputs": [],
   "source": [
    "user_values = get_dd_column(['instanceId_userId', 'feedback']).\\\n",
    "                groupby('instanceId_userId')['instanceId_userId'].count().compute()\n",
    "\n",
    "user_values = Counter(user_values)\n",
    "user_values.most_common()"
   ]
  },
  {
   "cell_type": "code",
   "execution_count": null,
   "metadata": {},
   "outputs": [],
   "source": [
    "# в % \n",
    "user_activity = list(zip(*user_values.most_common()))\n",
    "perc = np.array(user_activity[1])/np.array(user_activity[1]).sum()*100\n",
    "plt.plot(perc[:40])"
   ]
  },
  {
   "cell_type": "code",
   "execution_count": null,
   "metadata": {},
   "outputs": [],
   "source": [
    "#Кол-во оценок на пользователя\n",
    "user_act = list(user_activity[0])\n",
    "user_act.sort()\n",
    "plt.plot(user_act)"
   ]
  },
  {
   "cell_type": "code",
   "execution_count": null,
   "metadata": {},
   "outputs": [],
   "source": [
    "sum(perc[:4])"
   ]
  },
  {
   "cell_type": "markdown",
   "metadata": {},
   "source": [
    "- Преобладающее большинство пользователей ставят от 1 до 3-х оценок\n",
    "- Более 50% пользователей ставят от 1 до 5 оценок.\n",
    "- Большинство пользователей - 17% ставят 2 оценки\n",
    "- Есть пользователи с аномальным кол-вом оценок больше 1000 -видимо это боты"
   ]
  },
  {
   "cell_type": "markdown",
   "metadata": {},
   "source": [
    "### Анализ активности пользователей по времени"
   ]
  },
  {
   "cell_type": "code",
   "execution_count": null,
   "metadata": {
    "scrolled": true
   },
   "outputs": [],
   "source": [
    "%%time\n",
    "from datetime import datetime, date\n",
    "\n",
    "user_date_time = get_dd_column(['audit_timestamp', 'instanceId_userId'])\n",
    "user_date_time['audit_timestamp'] = user_date_time['audit_timestamp']\\\n",
    "                .map(lambda x:  datetime.fromtimestamp(x//1000))\n",
    "user_date_time['month_day'] = user_date_time['audit_timestamp']\\\n",
    "                .map(lambda x: str(x.month)+'_'+str(x.day))\n",
    "user_date_time['hour'] = user_date_time['audit_timestamp']\\\n",
    "                .map(lambda x: x.hour)\n",
    "user_date_time['weekday'] = user_date_time['audit_timestamp']\\\n",
    "                .map(lambda x: x.weekday())\n",
    "user_date_time = user_date_time.compute()"
   ]
  },
  {
   "cell_type": "code",
   "execution_count": null,
   "metadata": {},
   "outputs": [],
   "source": [
    "%%time\n",
    "month_day = user_date_time.groupby('month_day')['month_day'].count()\n",
    "month_day.plot(kind='bar')"
   ]
  },
  {
   "cell_type": "code",
   "execution_count": null,
   "metadata": {},
   "outputs": [],
   "source": [
    "%%time\n",
    "hours = user_date_time.groupby('hour')['hour'].count()\n",
    "hours.plot(kind='bar')"
   ]
  },
  {
   "cell_type": "code",
   "execution_count": null,
   "metadata": {},
   "outputs": [],
   "source": [
    "%%time\n",
    "weekdays = user_date_time.groupby('weekday')['weekday'].count()\n",
    "weekdays.plot(kind='bar')"
   ]
  },
  {
   "cell_type": "code",
   "execution_count": null,
   "metadata": {},
   "outputs": [],
   "source": [
    "client.cancel(user_date_time)\n",
    "user_date_time = None\n",
    "month_day = None\n",
    "hours = None\n",
    "weekdays = None"
   ]
  },
  {
   "cell_type": "markdown",
   "metadata": {},
   "source": [
    "- каких-то существенных аномальных перекосов в пользовательской активности не выявлено\n",
    "- видны недельные циклы пользовательской активности\n",
    "- ожидалось что в даты близкие к 8 марта и 23 февраля могут быть какие нибудь аномальные активности, но эта гипотеза не подтвердилась"
   ]
  },
  {
   "cell_type": "markdown",
   "metadata": {},
   "source": [
    "# <font color='blue'>Подготовка тренировочного и валидационного датасета"
   ]
  },
  {
   "cell_type": "markdown",
   "metadata": {},
   "source": [
    "## Подготовка обучающего датасета"
   ]
  },
  {
   "cell_type": "markdown",
   "metadata": {},
   "source": [
    "### Семплирование обучающего датасета\n",
    "- Использовать весь датасет (31млн. строк) для обучения не рентабельно, поэтому просемплируем рандомно небольшую выборку размером с 1,5 млн записей"
   ]
  },
  {
   "cell_type": "code",
   "execution_count": null,
   "metadata": {
    "scrolled": true
   },
   "outputs": [],
   "source": [
    "def dataset_random_sampling(dataset_directory, sample_size=1500000):\n",
    "    \"\"\"Семплирование датасета из parquet файлов\n",
    "    Случайная выборка указанного размера из parquet файлов \n",
    "    \"\"\"\n",
    "    print('Семплирование датасета')\n",
    "    sampled_dataset = df(columns=min_ds.columns)\n",
    "    sample_size = sample_size//len(dataset_directory)\n",
    "\n",
    "    for file in tqdm_notebook(train_col_dirs):\n",
    "        sampled_dataset = pd.concat([sampled_dataset, pq.read_table(file+'/').to_pandas()\\\n",
    "                           .sample(n=sample_size, random_state=10)], ignore_index=True)\n",
    "        \n",
    "    return sampled_dataset"
   ]
  },
  {
   "cell_type": "markdown",
   "metadata": {},
   "source": [
    "### Разворачиваем вложенные признаки переменной 'metadata_options'"
   ]
  },
  {
   "cell_type": "code",
   "execution_count": null,
   "metadata": {},
   "outputs": [],
   "source": [
    "def metadata_options_binaryze(data):\n",
    "    metadata_dict = [Counter(x) for x in tqdm_notebook(data['metadata_options'])]\n",
    "    return df(metadata_dict).fillna(0).astype(int)"
   ]
  },
  {
   "cell_type": "markdown",
   "metadata": {},
   "source": [
    "### Информация о частоте использования контента в процессе ваимодействия пользователя с ресурсом"
   ]
  },
  {
   "cell_type": "markdown",
   "metadata": {},
   "source": [
    "- В данных содержится информация посещениях пользователя в разное время. \n",
    "- В разные моменты времени кол-во информации о посещенном и оцененном контенте разное. \n",
    "- Поскольку это может сильно влиять на точность модели - то это обстоятельство надо учесть и ввести переменную user_activity."
   ]
  },
  {
   "cell_type": "code",
   "execution_count": null,
   "metadata": {},
   "outputs": [],
   "source": [
    "#добавляем перемнную учета пользовательской активности(кол-ва просмотренных обьектов) на текущий момент \n",
    "def add_user_activity(data):\n",
    "    data['user_activity'] = 1\n",
    "    data['user_activity'] = data.groupby('instanceId_userId')['user_activity'].cumsum()\n",
    "    return data"
   ]
  },
  {
   "cell_type": "markdown",
   "metadata": {},
   "source": [
    "### Препроцессинг"
   ]
  },
  {
   "cell_type": "code",
   "execution_count": null,
   "metadata": {},
   "outputs": [],
   "source": [
    "def preprocessing(data):\n",
    "    #сортируем по времени\n",
    "    data.sort_values(by=['audit_timestamp'], inplace=True)\n",
    "    #добавляем пользовательскую активность\n",
    "    data = add_user_activity(data)\n",
    "    #бинаризация 'metadata_options'\n",
    "    data = pd.concat([data, metadata_options_binaryze(data)], axis=1)\n",
    "    data.drop(['metadata_options'], axis=1,  inplace=True)\n",
    "    \n",
    "    return data"
   ]
  },
  {
   "cell_type": "code",
   "execution_count": null,
   "metadata": {
    "scrolled": true
   },
   "outputs": [],
   "source": [
    "train_dataset = preprocessing(train_dataset)"
   ]
  },
  {
   "cell_type": "code",
   "execution_count": null,
   "metadata": {},
   "outputs": [],
   "source": [
    "## Рассчитываем таргет переменную, запоняем пропуски\n",
    "target = train_dataset['feedback'].map(lambda x: 1 if 'Liked' in x else 0).values\n",
    "\n",
    "train_dataset.drop(['feedback'], axis=1, inplace=True)\n",
    "train_dataset.fillna(0, inplace=True, downcast=False)\n",
    "## Проверка\n",
    "train_dataset.isna().sum().sum()"
   ]
  },
  {
   "cell_type": "markdown",
   "metadata": {},
   "source": [
    "### Проверяем категориальные признаки их типы\n",
    "- те признаки которые являются числами, но являются строками - пытаемся сконвертировать в число"
   ]
  },
  {
   "cell_type": "code",
   "execution_count": null,
   "metadata": {},
   "outputs": [],
   "source": [
    "train_dataset.select_dtypes('object').columns"
   ]
  },
  {
   "cell_type": "code",
   "execution_count": null,
   "metadata": {},
   "outputs": [],
   "source": [
    "object_type_columns = train_dataset.select_dtypes('object').columns\n",
    "converted_columns = []\n",
    "\n",
    "for column in object_type_columns:\n",
    "    try:\n",
    "        train_dataset.loc[:, column] = train_dataset.loc[:, column].astype(int)\n",
    "        converted_columns.append(column)\n",
    "    except Exception as e:\n",
    "        print(column, 'not converted', train_dataset.loc[0, column])"
   ]
  },
  {
   "cell_type": "code",
   "execution_count": null,
   "metadata": {},
   "outputs": [],
   "source": [
    "train_dataset.select_dtypes('object').columns"
   ]
  },
  {
   "cell_type": "code",
   "execution_count": null,
   "metadata": {},
   "outputs": [],
   "source": [
    "converted_columns"
   ]
  },
  {
   "cell_type": "markdown",
   "metadata": {},
   "source": [
    "### Делим датасет на TRAIN и VALIDATION с балансировкой по классам\n",
    "- в трейне и тесте должно оказаться приблизительно пропорциональное кол-во класса 1 и 0"
   ]
  },
  {
   "cell_type": "code",
   "execution_count": null,
   "metadata": {},
   "outputs": [],
   "source": [
    "from sklearn.model_selection import train_test_split\n",
    "\n",
    "X_train, X_valid, y_train, y_valid = train_test_split(train_dataset, target, test_size=0.30, random_state=42, stratify=target)\n",
    "\n",
    "X_train.reset_index(inplace=True)\n",
    "X_valid.reset_index(inplace=True)\n",
    "\n",
    "X_train = X_train.drop(['index'], axis=1)\n",
    "X_valid = X_valid.drop(['index'], axis=1)"
   ]
  },
  {
   "cell_type": "code",
   "execution_count": null,
   "metadata": {
    "scrolled": true
   },
   "outputs": [],
   "source": [
    "X_valid.dtypes"
   ]
  },
  {
   "cell_type": "markdown",
   "metadata": {},
   "source": [
    "### Сериализуем данные для последующего обучения модели"
   ]
  },
  {
   "cell_type": "code",
   "execution_count": null,
   "metadata": {
    "scrolled": true
   },
   "outputs": [],
   "source": [
    "def pickle_files(data, name):\n",
    "    with open(name+'.pcl', 'wb') as f:\n",
    "        pickle.dump(data, f)\n",
    "        \n",
    "pickle_files((X_train, y_train), 'train_dataset')\n",
    "pickle_files((X_valid, y_valid), 'valid_dataset')\n",
    "\n",
    "#убираем ссылки на обьекты для удаления интерпретатором\n",
    "# X_train, y_train, y_valid, train_dataset, target = None, None, None, None, None"
   ]
  },
  {
   "cell_type": "markdown",
   "metadata": {},
   "source": [
    "## Подготовка тестового датасета"
   ]
  },
  {
   "cell_type": "code",
   "execution_count": null,
   "metadata": {
    "scrolled": true
   },
   "outputs": [],
   "source": [
    "test_dataset = pq.read_table(dataset_dir+'/test/').to_pandas(use_threads=8)\n",
    "test_dataset.shape"
   ]
  },
  {
   "cell_type": "code",
   "execution_count": null,
   "metadata": {
    "scrolled": false
   },
   "outputs": [],
   "source": [
    "test_dataset = preprocessing(test_dataset)"
   ]
  },
  {
   "cell_type": "code",
   "execution_count": null,
   "metadata": {},
   "outputs": [],
   "source": [
    "#converted_columns\n",
    "test_dataset.select_dtypes('object').columns"
   ]
  },
  {
   "cell_type": "code",
   "execution_count": null,
   "metadata": {},
   "outputs": [],
   "source": [
    "#непересекающиеся столбцы в 2-х датасетах\n",
    "set(X_valid.columns)^set(test_dataset.columns)"
   ]
  },
  {
   "cell_type": "code",
   "execution_count": null,
   "metadata": {},
   "outputs": [],
   "source": [
    "test_dataset.drop(['date'], axis=1, inplace=True)\n",
    "test_dataset.fillna(0, inplace=True)\n",
    "## Проверка\n",
    "test_dataset.isna().sum().sum()"
   ]
  },
  {
   "cell_type": "code",
   "execution_count": null,
   "metadata": {
    "scrolled": true
   },
   "outputs": [],
   "source": [
    "pickle_files(test_dataset, 'test_dataset')"
   ]
  },
  {
   "cell_type": "markdown",
   "metadata": {},
   "source": [
    "# <font color='blue'>Проверка пересечений ключевых признаков "
   ]
  },
  {
   "cell_type": "code",
   "execution_count": null,
   "metadata": {},
   "outputs": [],
   "source": [
    "hash(1)"
   ]
  },
  {
   "cell_type": "code",
   "execution_count": null,
   "metadata": {},
   "outputs": [],
   "source": [
    "#images\n",
    "#objects\n",
    "#texts\n",
    "#users\n",
    "#types"
   ]
  },
  {
   "cell_type": "code",
   "execution_count": null,
   "metadata": {},
   "outputs": [],
   "source": [
    "train_dataset.columns"
   ]
  },
  {
   "cell_type": "code",
   "execution_count": null,
   "metadata": {
    "scrolled": true
   },
   "outputs": [],
   "source": [
    "train_dataset['instanceId_objectId']"
   ]
  },
  {
   "cell_type": "code",
   "execution_count": null,
   "metadata": {
    "scrolled": true
   },
   "outputs": [],
   "source": [
    "test_dataset['ImageId']"
   ]
  },
  {
   "cell_type": "code",
   "execution_count": null,
   "metadata": {},
   "outputs": [],
   "source": [
    "len(train_dataset)"
   ]
  },
  {
   "cell_type": "code",
   "execution_count": null,
   "metadata": {},
   "outputs": [],
   "source": [
    "len(set(train_dataset['instanceId_objectId'])&set(test_dataset['instanceId_objectId']))"
   ]
  },
  {
   "cell_type": "markdown",
   "metadata": {},
   "source": [
    "# ВЫВОДЫ:"
   ]
  },
  {
   "cell_type": "markdown",
   "metadata": {},
   "source": [
    "- ввв"
   ]
  }
 ],
 "metadata": {
  "kernelspec": {
   "display_name": "Python 3",
   "language": "python",
   "name": "python3"
  },
  "language_info": {
   "codemirror_mode": {
    "name": "ipython",
    "version": 3
   },
   "file_extension": ".py",
   "mimetype": "text/x-python",
   "name": "python",
   "nbconvert_exporter": "python",
   "pygments_lexer": "ipython3",
   "version": "3.6.7"
  },
  "toc": {
   "base_numbering": 1,
   "nav_menu": {},
   "number_sections": false,
   "sideBar": false,
   "skip_h1_title": false,
   "title_cell": "Table of Contents",
   "title_sidebar": "Contents",
   "toc_cell": false,
   "toc_position": {},
   "toc_section_display": false,
   "toc_window_display": false
  }
 },
 "nbformat": 4,
 "nbformat_minor": 2
}
